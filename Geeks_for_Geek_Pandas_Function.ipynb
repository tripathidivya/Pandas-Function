{
  "nbformat": 4,
  "nbformat_minor": 0,
  "metadata": {
    "colab": {
      "provenance": [],
      "toc_visible": true
    },
    "kernelspec": {
      "name": "python3",
      "display_name": "Python 3"
    },
    "language_info": {
      "name": "python"
    }
  },
  "cells": [
    {
      "cell_type": "markdown",
      "source": [
        "**(df) from a two-dimensional list (lst)**"
      ],
      "metadata": {
        "id": "jFQniCdP2VkL"
      }
    },
    {
      "cell_type": "code",
      "source": [
        "import pandas as pd\n",
        "\n",
        "lst = [['Geek', 25], ['is', 30],\n",
        "       ['for', 26], ['Geeksforgeeks', 22]]\n",
        "\n",
        "df = pd.DataFrame(lst, columns=['name', 'number'])\n",
        "print(df)\n",
        "\n",
        "\n"
      ],
      "metadata": {
        "colab": {
          "base_uri": "https://localhost:8080/"
        },
        "id": "yjjV5Co82XCU",
        "outputId": "4e3159e7-8a40-45b7-d797-e1411ed8b2bb"
      },
      "execution_count": null,
      "outputs": [
        {
          "output_type": "stream",
          "name": "stdout",
          "text": [
            "            name  number\n",
            "0           Geek      25\n",
            "1             is      30\n",
            "2            for      26\n",
            "3  Geeksforgeeks      22\n"
          ]
        }
      ]
    },
    {
      "cell_type": "markdown",
      "source": [
        "**Dataframe from 2D List using pd.DataFrame.from_records()**"
      ],
      "metadata": {
        "id": "_x1uuD9G4KP4"
      }
    },
    {
      "cell_type": "code",
      "source": [
        "import pandas as pd\n",
        "\n",
        "lst= [['Geek1', 28, 'Analyst'],\n",
        "        ['Geek2', 35, 'Manager'],\n",
        "        ['Geek3', 29, 'Developer']]\n",
        "\n",
        "df = pd.DataFrame(lst, columns = ['name', 'Age', 'Occupation'])\n",
        "\n",
        "print(df)"
      ],
      "metadata": {
        "colab": {
          "base_uri": "https://localhost:8080/"
        },
        "id": "TqByqB-u4UNY",
        "outputId": "ef79ec89-6274-4575-c475-82caee22031b"
      },
      "execution_count": null,
      "outputs": [
        {
          "output_type": "stream",
          "name": "stdout",
          "text": [
            "    name  Age Occupation\n",
            "0  Geek1   28    Analyst\n",
            "1  Geek2   35    Manager\n",
            "2  Geek3   29  Developer\n"
          ]
        }
      ]
    },
    {
      "cell_type": "markdown",
      "source": [
        "**Dataframe from 2D List using pd.DataFrame.from_dict()**"
      ],
      "metadata": {
        "id": "WNIh9f2J6Thj"
      }
    },
    {
      "cell_type": "code",
      "source": [
        "import pandas as pd\n",
        "\n",
        "lst= [['Geek1', 26, 'Scientist'],\n",
        "        ['Geek2', 31, 'Researcher'],\n",
        "        ['Geek3', 24, 'Engineer']]\n",
        "\n",
        "df = pd.DataFrame.from_dict(dict(zip(['Name', 'Age', 'Professional'], zip(*lst))))\n",
        "\n",
        "print(df)"
      ],
      "metadata": {
        "colab": {
          "base_uri": "https://localhost:8080/"
        },
        "id": "rFWync1N6S_s",
        "outputId": "ed432366-179d-459c-eb20-4bd453e2b611"
      },
      "execution_count": null,
      "outputs": [
        {
          "output_type": "stream",
          "name": "stdout",
          "text": [
            "    Name  Age Professional\n",
            "0  Geek1   26    Scientist\n",
            "1  Geek2   31   Researcher\n",
            "2  Geek3   24     Engineer\n"
          ]
        }
      ]
    },
    {
      "cell_type": "markdown",
      "source": [
        "**Dataframe from 2D List using Specifying Data Types**"
      ],
      "metadata": {
        "id": "wI-FlXLh7dVG"
      }
    },
    {
      "cell_type": "code",
      "source": [
        "import pandas as pd\n",
        "\n",
        "lst = [['Geek1', 'Reacher', 25],\n",
        "        ['Geek2', 'Pete', 30],\n",
        "        ['Geek3', 'Wilson', 26],\n",
        "        ['Geek4', 'Williams', 22]]\n",
        "\n",
        "for item in lst:\n",
        "    item[2] = float(item[2])\n",
        "\n",
        "columns = ['Fname', 'Lname', 'Age']\n",
        "\n",
        "df=pd.DataFrame(lst, columns = columns)\n",
        "\n",
        "print(df)"
      ],
      "metadata": {
        "colab": {
          "base_uri": "https://localhost:8080/"
        },
        "id": "xy_J-PFz7iar",
        "outputId": "0f578083-f0f7-4154-f8c4-a3c66b6aa03c"
      },
      "execution_count": null,
      "outputs": [
        {
          "output_type": "stream",
          "name": "stdout",
          "text": [
            "   Fname     Lname   Age\n",
            "0  Geek1   Reacher  25.0\n",
            "1  Geek2      Pete  30.0\n",
            "2  Geek3    Wilson  26.0\n",
            "3  Geek4  Williams  22.0\n"
          ]
        }
      ]
    },
    {
      "cell_type": "markdown",
      "source": [
        "**create Dataframe from List**"
      ],
      "metadata": {
        "id": "Ke0yhBjR_wW0"
      }
    },
    {
      "cell_type": "code",
      "source": [
        "import pandas as pd\n",
        "\n",
        "data = {'Category':['Array', 'Stack', 'Queue'],\n",
        "        'Marks':[20, 21, 19]}\n",
        "\n",
        "df = pd.DataFrame(data)\n",
        "\n",
        "print(df)"
      ],
      "metadata": {
        "colab": {
          "base_uri": "https://localhost:8080/"
        },
        "id": "4qM3dk7i_yrf",
        "outputId": "05671840-410a-4090-eac5-8f0563aacd4f"
      },
      "execution_count": null,
      "outputs": [
        {
          "output_type": "stream",
          "name": "stdout",
          "text": [
            "  Category  Marks\n",
            "0    Array     20\n",
            "1    Stack     21\n",
            "2    Queue     19\n"
          ]
        }
      ]
    },
    {
      "cell_type": "markdown",
      "source": [
        "**Transpose the data**"
      ],
      "metadata": {
        "id": "YWK683EDCjwB"
      }
    },
    {
      "cell_type": "code",
      "source": [
        "import pandas as pd\n",
        "\n",
        "data = {'Category':['Array', 'Stack', 'Queue'],\n",
        "        'Marks':[20, 21, 19]}\n",
        "\n",
        "df = pd.DataFrame(data)\n",
        "\n",
        "print(df.transpose())"
      ],
      "metadata": {
        "colab": {
          "base_uri": "https://localhost:8080/"
        },
        "id": "rCoCzhU5CnaS",
        "outputId": "dcba9294-22c9-445f-e232-f48df305d52b"
      },
      "execution_count": null,
      "outputs": [
        {
          "output_type": "stream",
          "name": "stdout",
          "text": [
            "              0      1      2\n",
            "Category  Array  Stack  Queue\n",
            "Marks        20     21     19\n"
          ]
        }
      ]
    },
    {
      "cell_type": "markdown",
      "source": [
        "**Index the data**"
      ],
      "metadata": {
        "id": "rbmSCI22E3o5"
      }
    },
    {
      "cell_type": "code",
      "source": [
        "import pandas as pd\n",
        "\n",
        "data = {'Category':['Array', 'Stack', 'Queue'],\n",
        "        'Marks':[20, 21, 19]}\n",
        "\n",
        "df = pd.DataFrame(data, index = ['cat0', 'cat1', 'cat2'])\n",
        "\n",
        "print(df)"
      ],
      "metadata": {
        "colab": {
          "base_uri": "https://localhost:8080/"
        },
        "id": "gsm5iUqrE5Uh",
        "outputId": "fb440a69-9962-49a8-8382-4c793fe23ee0"
      },
      "execution_count": null,
      "outputs": [
        {
          "output_type": "stream",
          "name": "stdout",
          "text": [
            "     Category  Marks\n",
            "cat0    Array     20\n",
            "cat1    Stack     21\n",
            "cat2    Queue     19\n"
          ]
        }
      ]
    },
    {
      "cell_type": "markdown",
      "source": [
        "**Replacing None with NaN for missing values**"
      ],
      "metadata": {
        "id": "dA5B7WI6GKNB"
      }
    },
    {
      "cell_type": "code",
      "source": [
        "import pandas as pd\n",
        "import numpy as np\n",
        "\n",
        "data = [['Geek1', 28, 'Engineer'],\n",
        "        ['Geek2', None, 'Data Scientist'],\n",
        "        ['Geek3', 32, None]]\n",
        "\n",
        "columns = ['Name', 'Age', 'Occupation']\n",
        "\n",
        "df= pd.DataFrame(data, columns =columns)\n",
        "\n",
        "df = df.replace({None:np.nan})\n",
        "\n",
        "print(df)"
      ],
      "metadata": {
        "colab": {
          "base_uri": "https://localhost:8080/"
        },
        "id": "Eyhb8v2lGLNe",
        "outputId": "ab837f2c-48e5-4065-b86a-12dc95723bf6"
      },
      "execution_count": null,
      "outputs": [
        {
          "output_type": "stream",
          "name": "stdout",
          "text": [
            "    Name   Age      Occupation\n",
            "0  Geek1  28.0        Engineer\n",
            "1  Geek2   NaN  Data Scientist\n",
            "2  Geek3  32.0             NaN\n"
          ]
        }
      ]
    },
    {
      "cell_type": "markdown",
      "source": [
        "** The ‘Age’ values, initially a mix of numbers and strings, are corrected to numeric format. converting the ‘Age’ column to numeric format and handling errors, with the result printed.**"
      ],
      "metadata": {
        "id": "RD9bL2YqHULt"
      }
    },
    {
      "cell_type": "code",
      "source": [
        "import pandas as pd\n",
        "\n",
        "\n",
        "data = [['Geek1', 28, 'Engineer'],\n",
        "        ['Geek2', 25, 'Data Scientist'],\n",
        "        ['Geek3', '32', 'Manager']]\n",
        "\n",
        "columns = ['Name', 'Age', 'Occupation']\n",
        "df= pd.DataFrame(data, columns =columns)\n",
        "\n",
        "df['Age'] = pd.to_numeric(df['Age'], errors = 'coerce')\n",
        "print(df)"
      ],
      "metadata": {
        "colab": {
          "base_uri": "https://localhost:8080/"
        },
        "id": "wUhQcOcfHmjP",
        "outputId": "9556e03c-9aaa-49a9-ccf5-b2a3bf1ea9e2"
      },
      "execution_count": null,
      "outputs": [
        {
          "output_type": "stream",
          "name": "stdout",
          "text": [
            "    Name  Age      Occupation\n",
            "0  Geek1   28        Engineer\n",
            "1  Geek2   25  Data Scientist\n",
            "2  Geek3   32         Manager\n"
          ]
        }
      ]
    },
    {
      "cell_type": "markdown",
      "source": [
        "**Defining column names using Dataframe.columns()**"
      ],
      "metadata": {
        "id": "mq6H3qLVKscY"
      }
    },
    {
      "cell_type": "code",
      "source": [
        "import pandas as pd\n",
        "\n",
        "data = [[1, 5, 10], [2, 6, 9], [3, 7, 8]]\n",
        "\n",
        "df = pd.DataFrame(data)\n",
        "\n",
        "df.columns = ['col1', 'col2', 'col3']\n",
        "\n",
        "print(df)"
      ],
      "metadata": {
        "colab": {
          "base_uri": "https://localhost:8080/"
        },
        "id": "Dew2lKWXKuAL",
        "outputId": "3c430aff-362f-4d6f-a912-8b7ff737e4db"
      },
      "execution_count": null,
      "outputs": [
        {
          "output_type": "stream",
          "name": "stdout",
          "text": [
            "   col1  col2  col3\n",
            "0     1     5    10\n",
            "1     2     6     9\n",
            "2     3     7     8 \n",
            "\n"
          ]
        }
      ]
    },
    {
      "cell_type": "code",
      "source": [
        "print(df.transpose())"
      ],
      "metadata": {
        "colab": {
          "base_uri": "https://localhost:8080/"
        },
        "id": "6Buoo15wLkhq",
        "outputId": "d79eec1f-c166-4a11-e512-e3fb8b47cfb7"
      },
      "execution_count": null,
      "outputs": [
        {
          "output_type": "stream",
          "name": "stdout",
          "text": [
            "       0  1  2\n",
            "col1   1  2  3\n",
            "col2   5  6  7\n",
            "col3  10  9  8\n"
          ]
        }
      ]
    },
    {
      "cell_type": "markdown",
      "source": [
        "**data in the form of list of tuples**"
      ],
      "metadata": {
        "id": "tFCvDL9IL0rd"
      }
    },
    {
      "cell_type": "code",
      "source": [
        "import pandas as pd\n",
        "\n",
        "data = [('Peter', 18, 7),\n",
        "        ('Riff', 15, 6),\n",
        "        ('John', 17, 8),\n",
        "        ('Michel', 18, 7),\n",
        "        ('Sheli', 17, 5) ]\n",
        "\n",
        "columns= ['name', 'Age', 'Score']\n",
        "\n",
        "df = pd.DataFrame(data, columns= columns , index=['col1', 'col2','col3','col4','col5'])\n",
        "\n",
        "print(df)"
      ],
      "metadata": {
        "colab": {
          "base_uri": "https://localhost:8080/"
        },
        "id": "JsPsJXNhL1Kp",
        "outputId": "149bf5c8-0b64-4573-ecdd-d6c9ad7c3b93"
      },
      "execution_count": null,
      "outputs": [
        {
          "output_type": "stream",
          "name": "stdout",
          "text": [
            "        name  Age  Score\n",
            "col1   Peter   18      7\n",
            "col2    Riff   15      6\n",
            "col3    John   17      8\n",
            "col4  Michel   18      7\n",
            "col5   Sheli   17      5\n"
          ]
        }
      ]
    },
    {
      "cell_type": "code",
      "source": [
        "df = pd.DataFrame(data, columns= columns)\n",
        "print(df)"
      ],
      "metadata": {
        "colab": {
          "base_uri": "https://localhost:8080/"
        },
        "id": "QgYvNUjoMb2p",
        "outputId": "dd702b0d-861c-4588-c9b9-1b14e3237d12"
      },
      "execution_count": null,
      "outputs": [
        {
          "output_type": "stream",
          "name": "stdout",
          "text": [
            "     name  Age  Score\n",
            "0   Peter   18      7\n",
            "1    Riff   15      6\n",
            "2    John   17      8\n",
            "3  Michel   18      7\n",
            "4   Sheli   17      5\n"
          ]
        }
      ]
    },
    {
      "cell_type": "markdown",
      "source": [
        "**df.from_records() to create the dataframe from the list of tuples**"
      ],
      "metadata": {
        "id": "mlGQn2YOMmYr"
      }
    },
    {
      "cell_type": "code",
      "source": [
        "import pandas as pd\n",
        "\n",
        "data = [('Peter', 18, 7),\n",
        "        ('Riff', 15, 6),\n",
        "        ('John', 17, 8),\n",
        "        ('Michel', 18, 7),\n",
        "        ('Sheli', 17, 5) ]\n",
        "\n",
        "columns= ['name', 'Age', 'Score']\n",
        "\n",
        "df = pd.DataFrame.from_records(data, columns= columns , index=['col1', 'col2','col3','col4','col5'])\n",
        "\n",
        "print(df)"
      ],
      "metadata": {
        "colab": {
          "base_uri": "https://localhost:8080/"
        },
        "id": "RxXUg0KGMqvu",
        "outputId": "38fa008c-fc05-4827-a649-bb3052635fce"
      },
      "execution_count": null,
      "outputs": [
        {
          "output_type": "stream",
          "name": "stdout",
          "text": [
            "        name  Age  Score\n",
            "col1   Peter   18      7\n",
            "col2    Riff   15      6\n",
            "col3    John   17      8\n",
            "col4  Michel   18      7\n",
            "col5   Sheli   17      5\n"
          ]
        }
      ]
    },
    {
      "cell_type": "markdown",
      "source": [
        "**list of tuples using the df.pivot() **"
      ],
      "metadata": {
        "id": "kCeTJAjaM7Xu"
      }
    },
    {
      "cell_type": "code",
      "source": [
        "import pandas as pd\n",
        "\n",
        "data = [('Peter', 18, 7),\n",
        "        ('Riff', 15, 6),\n",
        "        ('John', 17, 8),\n",
        "        ('Michel', 18, 7),\n",
        "        ('Sheli', 17, 5) ]\n",
        "\n",
        "columns= ['name', 'Age', 'Score']\n",
        "\n",
        "df = pd.DataFrame(data, columns= columns)\n",
        "\n",
        "df= pd.pivot(df, index='name', columns='Score', values='Age')\n",
        "print(df)\n"
      ],
      "metadata": {
        "colab": {
          "base_uri": "https://localhost:8080/"
        },
        "id": "AegK7LzAM8i5",
        "outputId": "6f8eb565-5398-48b8-9be0-397a2fc1105a"
      },
      "execution_count": null,
      "outputs": [
        {
          "output_type": "stream",
          "name": "stdout",
          "text": [
            "Score      5     6     7     8\n",
            "name                          \n",
            "John     NaN   NaN   NaN  17.0\n",
            "Michel   NaN   NaN  18.0   NaN\n",
            "Peter    NaN   NaN  18.0   NaN\n",
            "Riff     NaN  15.0   NaN   NaN\n",
            "Sheli   17.0   NaN   NaN   NaN\n"
          ]
        }
      ]
    },
    {
      "cell_type": "markdown",
      "source": [
        "**DataFrame from List of Dictionaries Using from_records()**"
      ],
      "metadata": {
        "id": "L22XHwj5eqbF"
      }
    },
    {
      "cell_type": "code",
      "source": [
        "import pandas as pd\n",
        "\n",
        "data = [{'Geeks': 'dataframe', 'For': 'using', 'geeks': 'list'},\n",
        "        {'Geeks':10, 'For': 20, 'geeks': 30}]\n",
        "\n",
        "df=pd.DataFrame(data, index=['col1', 'col2'])\n",
        "print(df)"
      ],
      "metadata": {
        "colab": {
          "base_uri": "https://localhost:8080/"
        },
        "id": "FLSLftK3evFA",
        "outputId": "f1dde5cb-1cfd-4659-f2e4-02ba255b728f"
      },
      "execution_count": null,
      "outputs": [
        {
          "output_type": "stream",
          "name": "stdout",
          "text": [
            "          Geeks    For geeks\n",
            "col1  dataframe  using  list\n",
            "col2         10     20    30\n"
          ]
        }
      ]
    },
    {
      "cell_type": "markdown",
      "source": [
        "**Dictionaries to a Pandas DataFrame Using pd.DataFrame.from_dict()**"
      ],
      "metadata": {
        "id": "o9dKkTImfMax"
      }
    },
    {
      "cell_type": "code",
      "source": [
        "import pandas as pd\n",
        "\n",
        "data = [{'Geeks': 'dataframe', 'For': 'using', 'geeks': 'list'},\n",
        "        {'Geeks':10, 'For': 20, 'geeks': 30}]\n",
        "\n",
        "\n",
        "df=pd.DataFrame.from_dict(data)\n",
        "print(df)"
      ],
      "metadata": {
        "colab": {
          "base_uri": "https://localhost:8080/"
        },
        "id": "u7G5qqpQfN5_",
        "outputId": "19631edf-f96d-4398-a997-c75467103127"
      },
      "execution_count": null,
      "outputs": [
        {
          "output_type": "stream",
          "name": "stdout",
          "text": [
            "       Geeks    For geeks\n",
            "0  dataframe  using  list\n",
            "1         10     20    30\n"
          ]
        }
      ]
    },
    {
      "cell_type": "markdown",
      "source": [
        "**DataFrame from List of Dictionaries Using pd.json_normalize**"
      ],
      "metadata": {
        "id": "RU3pNvPxfjdt"
      }
    },
    {
      "cell_type": "code",
      "source": [
        "import pandas as pd\n",
        "\n",
        "data = [{'Geeks': 'dataframe', 'For': 'using', 'geeks': 'list'},\n",
        "        {'Geeks':10, 'For': 20, 'geeks': 30}]\n",
        "\n",
        "\n",
        "df=pd.json_normalize(data)\n",
        "print(df)"
      ],
      "metadata": {
        "colab": {
          "base_uri": "https://localhost:8080/"
        },
        "id": "GA52O28IflX1",
        "outputId": "0c420f71-a170-4ece-b52a-e6a4fe341234"
      },
      "execution_count": null,
      "outputs": [
        {
          "output_type": "stream",
          "name": "stdout",
          "text": [
            "       Geeks    For geeks\n",
            "0  dataframe  using  list\n",
            "1         10     20    30\n"
          ]
        }
      ]
    },
    {
      "cell_type": "markdown",
      "source": [
        "**DIct: If there are no matching values and columns in the dictionary, then the NaN value will be inserted into the resulting Dataframe.**"
      ],
      "metadata": {
        "id": "l6LJsOMDgS05"
      }
    },
    {
      "cell_type": "code",
      "source": [
        "import pandas as pd\n",
        "\n",
        "data = [{'Geeks': 'dataframe', 'For': 'using', 'geeks': 'list', 'Portal': 10000},\n",
        "        {'Geeks':10, 'For': 20, 'geeks': 30}]\n",
        "\n",
        "\n",
        "df=pd.DataFrame(data)\n",
        "print(df)"
      ],
      "metadata": {
        "colab": {
          "base_uri": "https://localhost:8080/"
        },
        "id": "vbsGhxEzgYIX",
        "outputId": "60d82b49-9a0f-4046-d8a7-89abbc8f56e1"
      },
      "execution_count": null,
      "outputs": [
        {
          "output_type": "stream",
          "name": "stdout",
          "text": [
            "       Geeks    For geeks   Portal\n",
            "0  dataframe  using  list  10000.0\n",
            "1         10     20    30      NaN\n"
          ]
        }
      ]
    },
    {
      "cell_type": "markdown",
      "source": [
        "**user-defined values for both index and columns!!!!!!!!!!!!**"
      ],
      "metadata": {
        "id": "brpoudiFhUTM"
      }
    },
    {
      "cell_type": "code",
      "source": [
        "import pandas as pd\n",
        "\n",
        "# Initialise data to lists.\n",
        "data = [{'Geeks': 'dataframe', 'For': 'using', 'geeks': 'list'},\n",
        "\t\t{'Geeks': 10, 'For': 20, 'geeks': 30}]\n",
        "\n",
        "# With two column indices, values same\n",
        "# as dictionary keys\n",
        "df1 = pd.DataFrame(data, index=['ind1', 'ind2'],\n",
        "\t\t\t\tcolumns=['Geeks', 'For'])\n",
        "\n",
        "# With two column indices with\n",
        "# one index with other name\n",
        "df2 = pd.DataFrame(data, index=['indx', 'indy'])\n",
        "\n",
        "# print for first data frame\n",
        "print(df1, \"\\n\")\n",
        "\n",
        "# Print for second DataFrame.\n",
        "print(df2)\n"
      ],
      "metadata": {
        "id": "vVCmG5pshTlr"
      },
      "execution_count": null,
      "outputs": []
    },
    {
      "cell_type": "markdown",
      "source": [
        "**DataFrame Using orient=’index’**\n",
        "'index', it tells Pandas to use the dictionary keys as the index (or row labels) of the DataFrame. In other words, each key in the dictionary becomes a row label in the resulting DataFrame."
      ],
      "metadata": {
        "id": "N-UkK9p3ih_2"
      }
    },
    {
      "cell_type": "code",
      "source": [
        "import pandas as pd\n",
        "\n",
        "countries = {\n",
        "    \"1\": {\"Country\": \"New Country 1\",\n",
        "          \"Capital\": \"New Capital 1\",\n",
        "          \"Population\": \"123,456,789\"},\n",
        "    \"2\": {\"Country\": \"New Country 2\",\n",
        "          \"Capital\": \"New Capital 2\",\n",
        "          \"Population\": \"987,654,321\"},\n",
        "    \"3\": {\"Country\": \"New Country 3\",\n",
        "          \"Capital\": \"New Capital 3\",\n",
        "          \"Population\": \"111,222,333\"}\n",
        "}\n",
        "\n",
        "df=pd.DataFrame.from_dict(countries, orient='index')\n",
        "print(df)"
      ],
      "metadata": {
        "colab": {
          "base_uri": "https://localhost:8080/"
        },
        "id": "nduSdIn_iptE",
        "outputId": "2921e16b-15b7-4df8-ca37-0aaa84296f54"
      },
      "execution_count": null,
      "outputs": [
        {
          "output_type": "stream",
          "name": "stdout",
          "text": [
            "         Country        Capital   Population\n",
            "1  New Country 1  New Capital 1  123,456,789\n",
            "2  New Country 2  New Capital 2  987,654,321\n",
            "3  New Country 3  New Capital 3  111,222,333\n"
          ]
        }
      ]
    },
    {
      "cell_type": "markdown",
      "source": [
        "**DataFrame using Native Method!!!!!!!!!!!!!!!**"
      ],
      "metadata": {
        "id": "45CnuhKvj7PW"
      }
    },
    {
      "cell_type": "code",
      "source": [
        "# importing pandas\n",
        "import pandas as pd\n",
        "\n",
        "# List of list of dictionary initialization\n",
        "list = [\n",
        "\t{\n",
        "\t\t\"Student\": [{\"Exam\": 90, \"Grade\": \"a\"},\n",
        "\t\t\t\t\t{\"Exam\": 99, \"Grade\": \"b\"},\n",
        "\t\t\t\t\t{\"Exam\": 97, \"Grade\": \"c\"},\n",
        "\t\t\t\t\t],\n",
        "\t\t\"Name\": \"Paras Jain\"\n",
        "\t},\n",
        "\t{\n",
        "\t\t\"Student\": [{\"Exam\": 89, \"Grade\": \"a\"},\n",
        "\t\t\t\t\t{\"Exam\": 80, \"Grade\": \"b\"}\n",
        "\t\t\t\t\t],\n",
        "\t\t\"Name\": \"Chunky Pandey\"\n",
        "\t}\n",
        "]\n",
        "\n",
        "# rows list initialization\n",
        "rows = []\n",
        "\n",
        "# appending rows\n",
        "for data in list:\n",
        "\tdata_row = data['Student']\n",
        "\ttime = data['Name']\n",
        "\n",
        "\tfor row in data_row:\n",
        "\t\trow['Name'] = time\n",
        "\t\trows.append(row)\n",
        "\n",
        "# using data frame\n",
        "df = pd.DataFrame(rows)\n",
        "\n",
        "# using pivot_table\n",
        "df = df.pivot_table(index='Name', columns=['Grade'],\n",
        "\t\t\t\t\tvalues=['Exam']).reset_index()\n",
        "\n",
        "# Defining columns\n",
        "df.columns = ['Name', 'Maths', 'Physics', 'Chemistry']\n",
        "\n",
        "# print dataframe\n",
        "print(df)\n"
      ],
      "metadata": {
        "id": "lA-MG5Tkj7gy"
      },
      "execution_count": null,
      "outputs": []
    },
    {
      "cell_type": "markdown",
      "source": [
        "To Find random sample from dataset: df.sample()\n",
        "To access coulmns directly: df.columns\n",
        "To get index value: df.index\n",
        "verbose: to get quicker summary"
      ],
      "metadata": {
        "id": "7bV3wgueD5Fz"
      }
    },
    {
      "cell_type": "markdown",
      "source": [
        "**DataFrame using dictionary**"
      ],
      "metadata": {
        "id": "TquiZE8kLCrp"
      }
    },
    {
      "cell_type": "code",
      "source": [
        "import pandas as pd\n",
        "\n",
        "# Create a dataFrame using dictionary\n",
        "df=pd.DataFrame({\"Name\":['Tom','Nick','John','Peter'],\n",
        "                \"Age\":[15,26,17,28]})\n",
        "\n",
        "# Creates a dataFrame with\n",
        "# 2 columns and 4 rows\n",
        "print(df)"
      ],
      "metadata": {
        "colab": {
          "base_uri": "https://localhost:8080/"
        },
        "id": "t3nHarLALDLH",
        "outputId": "0809191e-a279-4dc4-a9f4-08efbbe06ee9"
      },
      "execution_count": null,
      "outputs": [
        {
          "output_type": "stream",
          "name": "stdout",
          "text": [
            "    Name  Age\n",
            "0    Tom   15\n",
            "1   Nick   26\n",
            "2   John   17\n",
            "3  Peter   28\n"
          ]
        }
      ]
    },
    {
      "cell_type": "code",
      "source": [
        "df.columns=['NAME', 'AGE']\n",
        "df.index = ['entry1', 'entry2', 'entry3', 'entry4']\n",
        "print(df)"
      ],
      "metadata": {
        "colab": {
          "base_uri": "https://localhost:8080/"
        },
        "id": "KocU-YXoLROZ",
        "outputId": "e264d1f7-4eef-4879-a649-6e858725015c"
      },
      "execution_count": null,
      "outputs": [
        {
          "output_type": "stream",
          "name": "stdout",
          "text": [
            "         NAME  AGE\n",
            "entry1    Tom   15\n",
            "entry2   Nick   26\n",
            "entry3   John   17\n",
            "entry4  Peter   28\n"
          ]
        }
      ]
    },
    {
      "cell_type": "markdown",
      "source": [
        "**rename()**"
      ],
      "metadata": {
        "id": "5RDeXYQ8LrVK"
      }
    },
    {
      "cell_type": "code",
      "source": [
        "df=df.rename({\"NAME\":\"col1\", \"AGE\":\"col2\"}, axis= 'columns')\n",
        "print(df)"
      ],
      "metadata": {
        "colab": {
          "base_uri": "https://localhost:8080/"
        },
        "id": "XVD3Eio4LtyZ",
        "outputId": "8ebc99f0-fd31-453f-abc0-a27e570d9d18"
      },
      "execution_count": null,
      "outputs": [
        {
          "output_type": "stream",
          "name": "stdout",
          "text": [
            "         col1  col2\n",
            "entry1    Tom    15\n",
            "entry2   Nick    26\n",
            "entry3   John    17\n",
            "entry4  Peter    28\n"
          ]
        }
      ]
    },
    {
      "cell_type": "markdown",
      "source": [
        "**Lambda function**"
      ],
      "metadata": {
        "id": "5u2YiQVsMnUw"
      }
    },
    {
      "cell_type": "code",
      "source": [
        "df = df.rename(columns=lambda x: x + 'X')\n",
        "print(df)"
      ],
      "metadata": {
        "colab": {
          "base_uri": "https://localhost:8080/"
        },
        "id": "e93QMtghO7AG",
        "outputId": "002572e9-22ae-4a9d-dfc6-09b14e725482"
      },
      "execution_count": null,
      "outputs": [
        {
          "output_type": "stream",
          "name": "stdout",
          "text": [
            "        col1X  col2X\n",
            "entry1    Tom     15\n",
            "entry2   Nick     26\n",
            "entry3   John     17\n",
            "entry4  Peter     28\n"
          ]
        }
      ]
    },
    {
      "cell_type": "markdown",
      "source": [
        "**columns selection**"
      ],
      "metadata": {
        "id": "vfY6ie5TRCx2"
      }
    },
    {
      "cell_type": "code",
      "source": [
        "df.columns.values[1] = 'col1'\n",
        "print(df)"
      ],
      "metadata": {
        "colab": {
          "base_uri": "https://localhost:8080/"
        },
        "id": "IgT8nZDDRE7p",
        "outputId": "7b0eeb5c-33cf-4ba1-ce41-735c2cb8171f"
      },
      "execution_count": null,
      "outputs": [
        {
          "output_type": "stream",
          "name": "stdout",
          "text": [
            "        col1X  col1\n",
            "entry1    Tom    15\n",
            "entry2   Nick    26\n",
            "entry3   John    17\n",
            "entry4  Peter    28\n"
          ]
        }
      ]
    },
    {
      "cell_type": "markdown",
      "source": [
        "**columns and index together**"
      ],
      "metadata": {
        "id": "5tcX6YlLRa2-"
      }
    },
    {
      "cell_type": "code",
      "source": [
        "import pandas as pd\n",
        "\n",
        "# Create a dataFrame using dictionary\n",
        "df=pd.DataFrame({\"Name\":['Tom','Nick','John','Peter'],\n",
        "                \"Age\":[15,26,17,28]})\n",
        "\n",
        "df = df.rename(index= lambda x: x + 10,\n",
        "               columns=lambda x: x + 'X')\n",
        "print(df)"
      ],
      "metadata": {
        "colab": {
          "base_uri": "https://localhost:8080/"
        },
        "id": "ZkGucmJnRZ0q",
        "outputId": "6b75faa9-0bfd-4fc6-a368-97d355dbb182"
      },
      "execution_count": null,
      "outputs": [
        {
          "output_type": "stream",
          "name": "stdout",
          "text": [
            "    NameX  AgeX\n",
            "10    Tom    15\n",
            "11   Nick    26\n",
            "12   John    17\n",
            "13  Peter    28\n"
          ]
        }
      ]
    },
    {
      "cell_type": "markdown",
      "source": [
        "**create index without removing original index**"
      ],
      "metadata": {
        "id": "J81Z6U3kSedZ"
      }
    },
    {
      "cell_type": "code",
      "source": [
        "import pandas as pd\n",
        "\n",
        "# Define a dictionary containing employee data\n",
        "data = {'Name':['Jai', 'Princi', 'Gaurav', 'Anuj', 'Geeku'],\n",
        "        'Age':[27, 24, 22, 32, 15],\n",
        "        'Address':['Delhi', 'Kanpur', 'Allahabad', 'Kannauj', 'Noida'],\n",
        "        'Qualification':['Msc', 'MA', 'MCA', 'Phd', '10th'] }\n",
        "\n",
        "index = ['a', 'b', 'c', 'd', 'e']\n",
        "df = pd.DataFrame(data, index)\n",
        "\n",
        "df.reset_index(inplace= True)\n",
        "\n",
        "print(df)"
      ],
      "metadata": {
        "colab": {
          "base_uri": "https://localhost:8080/"
        },
        "id": "VUbvZOTfSitp",
        "outputId": "8acebfa1-a9fa-4dfb-bcb1-0f5b64a42f0e"
      },
      "execution_count": null,
      "outputs": [
        {
          "output_type": "stream",
          "name": "stdout",
          "text": [
            "  index    Name  Age    Address Qualification\n",
            "0     a     Jai   27      Delhi           Msc\n",
            "1     b  Princi   24     Kanpur            MA\n",
            "2     c  Gaurav   22  Allahabad           MCA\n",
            "3     d    Anuj   32    Kannauj           Phd\n",
            "4     e   Geeku   15      Noida          10th\n"
          ]
        }
      ]
    },
    {
      "cell_type": "code",
      "source": [
        "import pandas as pd\n",
        "\n",
        "# Define a dictionary containing employee data\n",
        "data = {'Name':['Jai', 'Princi', 'Gaurav', 'Anuj', 'Geeku'],\n",
        "        'Age':[27, 24, 22, 32, 15],\n",
        "        'Address':['Delhi', 'Kanpur', 'Allahabad', 'Kannauj', 'Noida'],\n",
        "        'Qualification':['Msc', 'MA', 'MCA', 'Phd', '10th'] }\n",
        "\n",
        "index = ['a', 'b', 'c', 'd', 'e']\n",
        "df = pd.DataFrame(data, index)\n",
        "\n",
        "df.reset_index(inplace= True, drop = True)\n",
        "\n",
        "print(df)"
      ],
      "metadata": {
        "colab": {
          "base_uri": "https://localhost:8080/"
        },
        "id": "ZHj8JnlITJzG",
        "outputId": "daa213a7-6de7-4409-97c7-906b7ff30703"
      },
      "execution_count": null,
      "outputs": [
        {
          "output_type": "stream",
          "name": "stdout",
          "text": [
            "     Name  Age    Address Qualification\n",
            "0     Jai   27      Delhi           Msc\n",
            "1  Princi   24     Kanpur            MA\n",
            "2  Gaurav   22  Allahabad           MCA\n",
            "3    Anuj   32    Kannauj           Phd\n",
            "4   Geeku   15      Noida          10th\n"
          ]
        }
      ]
    },
    {
      "cell_type": "markdown",
      "source": [
        "**removing default index and making column as index**"
      ],
      "metadata": {
        "id": "D0rDPjJOTztU"
      }
    },
    {
      "cell_type": "code",
      "source": [
        "index = ['a', 'b', 'c', 'd', 'e']\n",
        "df = pd.DataFrame(data, index)\n",
        "\n",
        "df.set_index(['Age'], inplace = True)\n",
        "\n",
        "print(df)"
      ],
      "metadata": {
        "colab": {
          "base_uri": "https://localhost:8080/"
        },
        "id": "1uOudMl2TeSF",
        "outputId": "7f03994e-08a8-47d3-9682-82640addf4ab"
      },
      "execution_count": null,
      "outputs": [
        {
          "output_type": "stream",
          "name": "stdout",
          "text": [
            "       Name    Address Qualification\n",
            "Age                                 \n",
            "27      Jai      Delhi           Msc\n",
            "24   Princi     Kanpur            MA\n",
            "22   Gaurav  Allahabad           MCA\n",
            "32     Anuj    Kannauj           Phd\n",
            "15    Geeku      Noida          10th\n"
          ]
        }
      ]
    },
    {
      "cell_type": "markdown",
      "source": [
        "**keeping default index and making column as index**"
      ],
      "metadata": {
        "id": "PnORzftoT6-R"
      }
    },
    {
      "cell_type": "code",
      "source": [
        "index = ['a', 'b', 'c', 'd', 'e']\n",
        "df = pd.DataFrame(data, index)\n",
        "\n",
        "df.set_index(['Age'], inplace = True)\n",
        "\n",
        "df.reset_index(inplace= True)\n",
        "\n",
        "print(df)"
      ],
      "metadata": {
        "colab": {
          "base_uri": "https://localhost:8080/"
        },
        "id": "73NYyK8vTyNA",
        "outputId": "a2e69acf-1df6-4c43-983c-4967b4ac6a8c"
      },
      "execution_count": null,
      "outputs": [
        {
          "output_type": "stream",
          "name": "stdout",
          "text": [
            "   Age    Name    Address Qualification\n",
            "0   27     Jai      Delhi           Msc\n",
            "1   24  Princi     Kanpur            MA\n",
            "2   22  Gaurav  Allahabad           MCA\n",
            "3   32    Anuj    Kannauj           Phd\n",
            "4   15   Geeku      Noida          10th\n"
          ]
        }
      ]
    },
    {
      "cell_type": "code",
      "source": [
        "# import pandas module\n",
        "import pandas as pd\n",
        "\n",
        "# making dataframe\n",
        "df = pd.read_csv(\"https://media.geeksforgeeks.org/wp-content/uploads/nba.csv\")\n",
        "\n",
        "# it was print the first 5-rows\n",
        "print(df.head())"
      ],
      "metadata": {
        "colab": {
          "base_uri": "https://localhost:8080/"
        },
        "id": "lBxj_gvqUMaL",
        "outputId": "3bec030a-f0a3-46aa-cec8-92e1c1ad0bbd"
      },
      "execution_count": null,
      "outputs": [
        {
          "output_type": "stream",
          "name": "stdout",
          "text": [
            "            Name            Team  Number Position   Age Height  Weight  \\\n",
            "0  Avery Bradley  Boston Celtics     0.0       PG  25.0    6-2   180.0   \n",
            "1    Jae Crowder  Boston Celtics    99.0       SF  25.0    6-6   235.0   \n",
            "2   John Holland  Boston Celtics    30.0       SG  27.0    6-5   205.0   \n",
            "3    R.J. Hunter  Boston Celtics    28.0       SG  22.0    6-5   185.0   \n",
            "4  Jonas Jerebko  Boston Celtics     8.0       PF  29.0   6-10   231.0   \n",
            "\n",
            "             College     Salary  \n",
            "0              Texas  7730337.0  \n",
            "1          Marquette  6796117.0  \n",
            "2  Boston University        NaN  \n",
            "3      Georgia State  1148640.0  \n",
            "4                NaN  5000000.0  \n"
          ]
        }
      ]
    },
    {
      "cell_type": "code",
      "source": [
        "df = pd.read_csv(\"https://media.geeksforgeeks.org/wp-content/uploads/nba.csv\")\n",
        "\n",
        "stacked_df=df.stack()\n",
        "\n",
        "print(stacked_df.head(25))"
      ],
      "metadata": {
        "colab": {
          "base_uri": "https://localhost:8080/"
        },
        "id": "4LH4MD6nUSnO",
        "outputId": "3682a67c-346a-403f-dbf4-64c01a16ecfe"
      },
      "execution_count": null,
      "outputs": [
        {
          "output_type": "stream",
          "name": "stdout",
          "text": [
            "0  Name         Avery Bradley\n",
            "   Team        Boston Celtics\n",
            "   Number                 0.0\n",
            "   Position                PG\n",
            "   Age                   25.0\n",
            "   Height                 6-2\n",
            "   Weight               180.0\n",
            "   College              Texas\n",
            "   Salary           7730337.0\n",
            "1  Name           Jae Crowder\n",
            "   Team        Boston Celtics\n",
            "   Number                99.0\n",
            "   Position                SF\n",
            "   Age                   25.0\n",
            "   Height                 6-6\n",
            "   Weight               235.0\n",
            "   College          Marquette\n",
            "   Salary           6796117.0\n",
            "2  Name          John Holland\n",
            "   Team        Boston Celtics\n",
            "   Number                30.0\n",
            "   Position                SG\n",
            "   Age                   27.0\n",
            "   Height                 6-5\n",
            "   Weight               205.0\n",
            "dtype: object\n"
          ]
        }
      ]
    },
    {
      "cell_type": "code",
      "source": [
        "\n",
        "\n",
        "stacked_df=stacked_df.unstack()\n",
        "\n",
        "print(stacked_df.head(25))"
      ],
      "metadata": {
        "colab": {
          "base_uri": "https://localhost:8080/"
        },
        "id": "3nFXGJfwVIFQ",
        "outputId": "b3dce9ea-bbed-420d-d48e-6b66f8c620ef"
      },
      "execution_count": null,
      "outputs": [
        {
          "output_type": "stream",
          "name": "stdout",
          "text": [
            "                       Name            Team Number Position   Age Height  \\\n",
            "0             Avery Bradley  Boston Celtics    0.0       PG  25.0    6-2   \n",
            "1               Jae Crowder  Boston Celtics   99.0       SF  25.0    6-6   \n",
            "2              John Holland  Boston Celtics   30.0       SG  27.0    6-5   \n",
            "3               R.J. Hunter  Boston Celtics   28.0       SG  22.0    6-5   \n",
            "4             Jonas Jerebko  Boston Celtics    8.0       PF  29.0   6-10   \n",
            "5              Amir Johnson  Boston Celtics   90.0       PF  29.0    6-9   \n",
            "6             Jordan Mickey  Boston Celtics   55.0       PF  21.0    6-8   \n",
            "7              Kelly Olynyk  Boston Celtics   41.0        C  25.0    7-0   \n",
            "8              Terry Rozier  Boston Celtics   12.0       PG  22.0    6-2   \n",
            "9              Marcus Smart  Boston Celtics   36.0       PG  22.0    6-4   \n",
            "10          Jared Sullinger  Boston Celtics    7.0        C  24.0    6-9   \n",
            "11            Isaiah Thomas  Boston Celtics    4.0       PG  27.0    5-9   \n",
            "12              Evan Turner  Boston Celtics   11.0       SG  27.0    6-7   \n",
            "13              James Young  Boston Celtics   13.0       SG  20.0    6-6   \n",
            "14             Tyler Zeller  Boston Celtics   44.0        C  26.0    7-0   \n",
            "15         Bojan Bogdanovic   Brooklyn Nets   44.0       SG  27.0    6-8   \n",
            "16             Markel Brown   Brooklyn Nets   22.0       SG  24.0    6-3   \n",
            "17          Wayne Ellington   Brooklyn Nets   21.0       SG  28.0    6-4   \n",
            "18  Rondae Hollis-Jefferson   Brooklyn Nets   24.0       SG  21.0    6-7   \n",
            "19             Jarrett Jack   Brooklyn Nets    2.0       PG  32.0    6-3   \n",
            "20           Sergey Karasev   Brooklyn Nets   10.0       SG  22.0    6-7   \n",
            "21          Sean Kilpatrick   Brooklyn Nets    6.0       SG  26.0    6-4   \n",
            "22             Shane Larkin   Brooklyn Nets    0.0       PG  23.0   5-11   \n",
            "23              Brook Lopez   Brooklyn Nets   11.0        C  28.0    7-0   \n",
            "24         Chris McCullough   Brooklyn Nets    1.0       PF  21.0   6-11   \n",
            "\n",
            "   Weight            College      Salary  \n",
            "0   180.0              Texas   7730337.0  \n",
            "1   235.0          Marquette   6796117.0  \n",
            "2   205.0  Boston University         NaN  \n",
            "3   185.0      Georgia State   1148640.0  \n",
            "4   231.0                NaN   5000000.0  \n",
            "5   240.0                NaN  12000000.0  \n",
            "6   235.0                LSU   1170960.0  \n",
            "7   238.0            Gonzaga   2165160.0  \n",
            "8   190.0         Louisville   1824360.0  \n",
            "9   220.0     Oklahoma State   3431040.0  \n",
            "10  260.0         Ohio State   2569260.0  \n",
            "11  185.0         Washington   6912869.0  \n",
            "12  220.0         Ohio State   3425510.0  \n",
            "13  215.0           Kentucky   1749840.0  \n",
            "14  253.0     North Carolina   2616975.0  \n",
            "15  216.0                NaN   3425510.0  \n",
            "16  190.0     Oklahoma State    845059.0  \n",
            "17  200.0     North Carolina   1500000.0  \n",
            "18  220.0            Arizona   1335480.0  \n",
            "19  200.0       Georgia Tech   6300000.0  \n",
            "20  208.0                NaN   1599840.0  \n",
            "21  219.0         Cincinnati    134215.0  \n",
            "22  175.0         Miami (FL)   1500000.0  \n",
            "23  275.0           Stanford  19689000.0  \n",
            "24  200.0           Syracuse   1140240.0  \n"
          ]
        }
      ]
    },
    {
      "cell_type": "code",
      "source": [
        "df_melt = df.melt(id_vars=['Name', 'Team'])\n",
        "print(df_melt.head(10))"
      ],
      "metadata": {
        "colab": {
          "base_uri": "https://localhost:8080/"
        },
        "id": "ibRRcbH2WsPg",
        "outputId": "c757130d-ade2-45b1-f078-9ee4cd284d84"
      },
      "execution_count": null,
      "outputs": [
        {
          "output_type": "stream",
          "name": "stdout",
          "text": [
            "            Name            Team variable value\n",
            "0  Avery Bradley  Boston Celtics   Number   0.0\n",
            "1    Jae Crowder  Boston Celtics   Number  99.0\n",
            "2   John Holland  Boston Celtics   Number  30.0\n",
            "3    R.J. Hunter  Boston Celtics   Number  28.0\n",
            "4  Jonas Jerebko  Boston Celtics   Number   8.0\n",
            "5   Amir Johnson  Boston Celtics   Number  90.0\n",
            "6  Jordan Mickey  Boston Celtics   Number  55.0\n",
            "7   Kelly Olynyk  Boston Celtics   Number  41.0\n",
            "8   Terry Rozier  Boston Celtics   Number  12.0\n",
            "9   Marcus Smart  Boston Celtics   Number  36.0\n"
          ]
        }
      ]
    },
    {
      "cell_type": "markdown",
      "source": [
        "**map new data**"
      ],
      "metadata": {
        "id": "ocyt27UxX6ip"
      }
    },
    {
      "cell_type": "code",
      "source": [
        "import pandas as pd\n",
        "\n",
        "initial_data = {'First_name': ['Ram', 'Mohan', 'Tina', 'Jeetu', 'Meera'],\n",
        "        'Last_name': ['Kumar', 'Sharma', 'Ali', 'Gandhi', 'Kumari'],\n",
        "        'Age': [42, 52, 36, 21, 23],\n",
        "        'City': ['Mumbai', 'Noida', 'Pune', 'Delhi', 'Bihar']}\n",
        "\n",
        "df = pd.DataFrame(initial_data, columns = ['First_name', 'Last_name',\n",
        "                                                    'Age', 'City'])\n",
        "\n",
        "new_data = { \"Ram\":\"B.Com\",\n",
        "            \"Mohan\":\"IAS\",\n",
        "            \"Tina\":\"LLB\",\n",
        "            \"Jeetu\":\"B.Tech\",\n",
        "            \"Meera\":\"MBBS\" }\n",
        "\n",
        "df['Occupation']= df[\"First_name\"].map(new_data)\n",
        "\n",
        "print(df)"
      ],
      "metadata": {
        "colab": {
          "base_uri": "https://localhost:8080/"
        },
        "id": "ywVLkhI-X8m3",
        "outputId": "331240ef-6ed9-4001-8ce1-a305d7a0a98f"
      },
      "execution_count": null,
      "outputs": [
        {
          "output_type": "stream",
          "name": "stdout",
          "text": [
            "  First_name Last_name  Age    City Occupation\n",
            "0        Ram     Kumar   42  Mumbai      B.Com\n",
            "1      Mohan    Sharma   52   Noida        IAS\n",
            "2       Tina       Ali   36    Pune        LLB\n",
            "3      Jeetu    Gandhi   21   Delhi     B.Tech\n",
            "4      Meera    Kumari   23   Bihar       MBBS\n"
          ]
        }
      ]
    },
    {
      "cell_type": "markdown",
      "source": [
        "**replace**"
      ],
      "metadata": {
        "id": "cVOcgHSPY-BH"
      }
    },
    {
      "cell_type": "code",
      "source": [
        "new_data = { \"Ram\":\"Shyam\",\n",
        "            \"Tina\":\"Riya\",\n",
        "            \"Jeetu\":\"Jitender\" }\n",
        "\n",
        "\n",
        "df= df.replace({\"First_name\": new_data})\n",
        "\n",
        "print(df)"
      ],
      "metadata": {
        "colab": {
          "base_uri": "https://localhost:8080/"
        },
        "id": "Fbho0cwZY9cU",
        "outputId": "b517b604-bf74-42ea-b960-2dc9060d40d7"
      },
      "execution_count": null,
      "outputs": [
        {
          "output_type": "stream",
          "name": "stdout",
          "text": [
            "  First_name Last_name  Age    City Occupation\n",
            "0      Shyam     Kumar   42  Mumbai      B.Com\n",
            "1      Mohan    Sharma   52   Noida        IAS\n",
            "2       Riya       Ali   36    Pune        LLB\n",
            "3   Jitender    Gandhi   21   Delhi     B.Tech\n",
            "4      Meera    Kumari   23   Bihar       MBBS\n"
          ]
        }
      ]
    },
    {
      "cell_type": "markdown",
      "source": [
        "**replace with index number**"
      ],
      "metadata": {
        "id": "h49SP0HZZiLn"
      }
    },
    {
      "cell_type": "code",
      "source": [
        "import pandas as pd\n",
        "\n",
        "initial_data = {'First_name': ['Ram', 'Mohan', 'Tina', 'Jeetu', 'Meera'],\n",
        "                'Last_name': ['Kumar', 'Sharma', 'Ali', 'Gandhi', 'Kumari'],\n",
        "                'Age': [42, 52, 36, 21, 23],\n",
        "                'City': ['Mumbai', 'Noida', 'Pune', 'Delhi', 'Bihar']}\n",
        "\n",
        "df = pd.DataFrame(initial_data, columns = ['First_name', 'Last_name',\n",
        "                                                    'Age', 'City'])\n",
        "\n",
        "new_data = { 0:\"Shyam\",\n",
        "            2:\"Riya\",\n",
        "            4:\"Jitender\" }\n",
        "\n",
        "\n",
        "df[\"First_name\"].update(pd.Series(new_data))\n",
        "\n",
        "print(df)"
      ],
      "metadata": {
        "colab": {
          "base_uri": "https://localhost:8080/"
        },
        "id": "9FkaRrSLZk7e",
        "outputId": "c49c90f3-54af-4b33-e2a3-96a514c8a9ac"
      },
      "execution_count": null,
      "outputs": [
        {
          "output_type": "stream",
          "name": "stdout",
          "text": [
            "  First_name Last_name  Age    City\n",
            "0      Shyam     Kumar   42  Mumbai\n",
            "1      Mohan    Sharma   52   Noida\n",
            "2       Riya       Ali   36    Pune\n",
            "3      Jeetu    Gandhi   21   Delhi\n",
            "4   Jitender    Kumari   23   Bihar\n"
          ]
        }
      ]
    },
    {
      "cell_type": "code",
      "source": [
        "import pandas as pd\n",
        "import numpy as np\n",
        "\n",
        "column=['a','b','c','d','e']\n",
        "index=['A','B','C','D','E']\n",
        "\n",
        "# create a dataframe of random values of array\n",
        "df1 = pd.DataFrame(np.random.rand(5,5),\n",
        "            columns=column, index=index)\n",
        "\n",
        "\n",
        "print(df1)"
      ],
      "metadata": {
        "colab": {
          "base_uri": "https://localhost:8080/"
        },
        "id": "utUlor0Gbc4j",
        "outputId": "2680bc94-f0be-4826-b589-3215adc7603c"
      },
      "execution_count": null,
      "outputs": [
        {
          "output_type": "stream",
          "name": "stdout",
          "text": [
            "          a         b         c         d         e\n",
            "A  0.585038  0.131908  0.527683  0.972217  0.981997\n",
            "B  0.590693  0.791236  0.246258  0.826825  0.242222\n",
            "C  0.607552  0.277408  0.815818  0.923012  0.433337\n",
            "D  0.901009  0.115471  0.167264  0.649526  0.992152\n",
            "E  0.611408  0.146960  0.727418  0.080665  0.226662\n"
          ]
        }
      ]
    },
    {
      "cell_type": "code",
      "source": [
        "print( df1.reindex(['B', 'E', 'C', 'A', 'D']))"
      ],
      "metadata": {
        "colab": {
          "base_uri": "https://localhost:8080/"
        },
        "id": "Wklpmiz0bh6b",
        "outputId": "f3cfc9c4-b2e8-47a8-b7f7-ee7081d60e7e"
      },
      "execution_count": null,
      "outputs": [
        {
          "output_type": "stream",
          "name": "stdout",
          "text": [
            "          a         b         c         d         e\n",
            "B  0.590693  0.791236  0.246258  0.826825  0.242222\n",
            "E  0.611408  0.146960  0.727418  0.080665  0.226662\n",
            "C  0.607552  0.277408  0.815818  0.923012  0.433337\n",
            "A  0.585038  0.131908  0.527683  0.972217  0.981997\n",
            "D  0.901009  0.115471  0.167264  0.649526  0.992152\n"
          ]
        }
      ]
    },
    {
      "cell_type": "markdown",
      "source": [
        "**reindex coloumns**"
      ],
      "metadata": {
        "id": "-3EkYjYsczkq"
      }
    },
    {
      "cell_type": "code",
      "source": [
        "new_columns=['e','a','b','c','d']\n",
        "\n",
        "# create the new index for columns\n",
        "print(df1.reindex(new_columns, axis='columns'))"
      ],
      "metadata": {
        "colab": {
          "base_uri": "https://localhost:8080/"
        },
        "id": "Su87Bwg0c2Ca",
        "outputId": "75cca2e1-c825-474e-aa3b-1aa014b07f32"
      },
      "execution_count": null,
      "outputs": [
        {
          "output_type": "stream",
          "name": "stdout",
          "text": [
            "          e         a         b         c         d\n",
            "A  0.981997  0.585038  0.131908  0.527683  0.972217\n",
            "B  0.242222  0.590693  0.791236  0.246258  0.826825\n",
            "C  0.433337  0.607552  0.277408  0.815818  0.923012\n",
            "D  0.992152  0.901009  0.115471  0.167264  0.649526\n",
            "E  0.226662  0.611408  0.146960  0.727418  0.080665\n"
          ]
        }
      ]
    },
    {
      "cell_type": "code",
      "source": [
        "new_columns=['e','a','b','g','h']\n",
        "\n",
        "# create the new index for columns\n",
        "print(df1.reindex(new_columns, axis='columns'))"
      ],
      "metadata": {
        "colab": {
          "base_uri": "https://localhost:8080/"
        },
        "id": "HL6GKrczdLXP",
        "outputId": "f312bf23-8f2f-479e-ca43-386225270149"
      },
      "execution_count": null,
      "outputs": [
        {
          "output_type": "stream",
          "name": "stdout",
          "text": [
            "          e         a         b   g   h\n",
            "A  0.981997  0.585038  0.131908 NaN NaN\n",
            "B  0.242222  0.590693  0.791236 NaN NaN\n",
            "C  0.433337  0.607552  0.277408 NaN NaN\n",
            "D  0.992152  0.901009  0.115471 NaN NaN\n",
            "E  0.226662  0.611408  0.146960 NaN NaN\n"
          ]
        }
      ]
    },
    {
      "cell_type": "markdown",
      "source": [
        "**replace NAN with value**"
      ],
      "metadata": {
        "id": "3-_F0imedOii"
      }
    },
    {
      "cell_type": "code",
      "source": [
        "print(df1.reindex(new_columns, axis='columns', fill_value= 2.5))"
      ],
      "metadata": {
        "colab": {
          "base_uri": "https://localhost:8080/"
        },
        "id": "2-jnPtV6dQ_9",
        "outputId": "2374f734-d7c8-4514-fd22-8d372bfa601a"
      },
      "execution_count": null,
      "outputs": [
        {
          "output_type": "stream",
          "name": "stdout",
          "text": [
            "          e         a         b    g    h\n",
            "A  0.981997  0.585038  0.131908  2.5  2.5\n",
            "B  0.242222  0.590693  0.791236  2.5  2.5\n",
            "C  0.433337  0.607552  0.277408  2.5  2.5\n",
            "D  0.992152  0.901009  0.115471  2.5  2.5\n",
            "E  0.226662  0.611408  0.146960  2.5  2.5\n"
          ]
        }
      ]
    },
    {
      "cell_type": "code",
      "source": [
        "print(df1.reindex(new_columns, axis='columns', fill_value= \"empty\"))"
      ],
      "metadata": {
        "colab": {
          "base_uri": "https://localhost:8080/"
        },
        "id": "QPZpReEZdbYy",
        "outputId": "6955dc6e-a76d-4d93-c9fb-124c4f8d3c16"
      },
      "execution_count": null,
      "outputs": [
        {
          "output_type": "stream",
          "name": "stdout",
          "text": [
            "          e         a         b      g      h\n",
            "A  0.981997  0.585038  0.131908  empty  empty\n",
            "B  0.242222  0.590693  0.791236  empty  empty\n",
            "C  0.433337  0.607552  0.277408  empty  empty\n",
            "D  0.992152  0.901009  0.115471  empty  empty\n",
            "E  0.226662  0.611408  0.146960  empty  empty\n"
          ]
        }
      ]
    },
    {
      "cell_type": "markdown",
      "source": [
        "**Capitalized first letter and lower class rest letters**"
      ],
      "metadata": {
        "id": "eqmZ1Ixhd2Z_"
      }
    },
    {
      "cell_type": "code",
      "source": [
        "import pandas as pd\n",
        "\n",
        "# Create the dataframe\n",
        "df = pd.DataFrame({'Date':['10/2/2011', '11/2/2011', '12/2/2011', '13/2/2011'],\n",
        "                   'Product':[' UMbreLla', '  maTtress', 'BaDmintoN ', 'Shuttle'],\n",
        "                   'Updated_Price':[1250, 1450, 1550, 400],\n",
        "                   'Discount':[10, 8, 15, 10]})\n",
        "\n",
        "df['Product'] = df['Product'].apply(lambda x: x.strip().capitalize())\n",
        "\n",
        "print(df)"
      ],
      "metadata": {
        "colab": {
          "base_uri": "https://localhost:8080/"
        },
        "id": "czqgaUqwd1eM",
        "outputId": "da25471d-b545-425d-d64f-5265264f6b27"
      },
      "execution_count": null,
      "outputs": [
        {
          "output_type": "stream",
          "name": "stdout",
          "text": [
            "        Date    Product  Updated_Price  Discount\n",
            "0  10/2/2011   Umbrella           1250        10\n",
            "1  11/2/2011   Mattress           1450         8\n",
            "2  12/2/2011  Badminton           1550        15\n",
            "3  13/2/2011    Shuttle            400        10\n"
          ]
        }
      ]
    },
    {
      "cell_type": "code",
      "source": [
        "df['Product'] = df['Product'].apply(lambda x: x.strip().title())\n",
        "\n",
        "print(df)"
      ],
      "metadata": {
        "colab": {
          "base_uri": "https://localhost:8080/"
        },
        "id": "zdBx3hmrfn_L",
        "outputId": "273a2924-3a3c-4e28-9c68-6c3b6788f0c0"
      },
      "execution_count": null,
      "outputs": [
        {
          "output_type": "stream",
          "name": "stdout",
          "text": [
            "        Date    Product  Updated_Price  Discount\n",
            "0  10/2/2011   Umbrella           1250        10\n",
            "1  11/2/2011   Mattress           1450         8\n",
            "2  12/2/2011  Badminton           1550        15\n",
            "3  13/2/2011    Shuttle            400        10\n"
          ]
        }
      ]
    },
    {
      "cell_type": "markdown",
      "source": [
        "**string using stringIO**"
      ],
      "metadata": {
        "id": "-XpViHbuvcWJ"
      }
    },
    {
      "cell_type": "code",
      "source": [
        "\n",
        "# importing pandas as pd\n",
        "import pandas as pd\n",
        "\n",
        "# import the StrinIO function\n",
        "# from io module\n",
        "from io import StringIO\n",
        "\n",
        "# wrap the string data in StringIO function\n",
        "StringData = StringIO(\"\"\"Date;Event;Cost\n",
        "    10/2/2011;Music;10000\n",
        "    11/2/2011;Poetry;12000\n",
        "    12/2/2011;Theatre;5000\n",
        "    13/2/2011;Comedy;8000\n",
        "    \"\"\")\n",
        "\n",
        "df= pd.read_csv(StringData, sep=\";\")\n",
        "print(df)"
      ],
      "metadata": {
        "colab": {
          "base_uri": "https://localhost:8080/"
        },
        "id": "6aP-6grDvfZc",
        "outputId": "3e8074f1-2c49-4284-d324-f3968e114c6c"
      },
      "execution_count": null,
      "outputs": [
        {
          "output_type": "stream",
          "name": "stdout",
          "text": [
            "            Date    Event   Cost\n",
            "0      10/2/2011    Music  10000\n",
            "1      11/2/2011   Poetry  12000\n",
            "2      12/2/2011  Theatre   5000\n",
            "3      13/2/2011   Comedy   8000\n"
          ]
        }
      ]
    },
    {
      "cell_type": "code",
      "source": [
        "# importing pandas as pd\n",
        "import pandas as pd\n",
        "\n",
        "# This is our string data\n",
        "StringData =\"\"\"Date;Event;Cost\n",
        "\t10/2/2011;Music;10000\n",
        "\t11/2/2011;Poetry;12000\n",
        "\t12/2/2011;Theatre;5000\n",
        "\t13/2/2011;Comedy;8000\n",
        "\t\"\"\"\n",
        "\n",
        "# Read data\n",
        "df = pd.read_clipboard(sep = ';')\n",
        "\n",
        "# Print the DataFrame\n",
        "print(df)\n"
      ],
      "metadata": {
        "colab": {
          "base_uri": "https://localhost:8080/",
          "height": 668
        },
        "id": "otP-4FKMv5Gc",
        "outputId": "0216f8f1-75f7-426b-f32e-75c92a5002a3"
      },
      "execution_count": null,
      "outputs": [
        {
          "output_type": "error",
          "ename": "PyperclipException",
          "evalue": "\n    Pyperclip could not find a copy/paste mechanism for your system.\n    For more information, please visit\n    https://pyperclip.readthedocs.io/en/latest/#not-implemented-error\n    ",
          "traceback": [
            "\u001b[0;31m---------------------------------------------------------------------------\u001b[0m",
            "\u001b[0;31mPyperclipException\u001b[0m                        Traceback (most recent call last)",
            "\u001b[0;32m<ipython-input-73-c4562f3654ec>\u001b[0m in \u001b[0;36m<cell line: 13>\u001b[0;34m()\u001b[0m\n\u001b[1;32m     11\u001b[0m \u001b[0;34m\u001b[0m\u001b[0m\n\u001b[1;32m     12\u001b[0m \u001b[0;31m# Read data\u001b[0m\u001b[0;34m\u001b[0m\u001b[0;34m\u001b[0m\u001b[0m\n\u001b[0;32m---> 13\u001b[0;31m \u001b[0mdf\u001b[0m \u001b[0;34m=\u001b[0m \u001b[0mpd\u001b[0m\u001b[0;34m.\u001b[0m\u001b[0mread_clipboard\u001b[0m\u001b[0;34m(\u001b[0m\u001b[0msep\u001b[0m \u001b[0;34m=\u001b[0m \u001b[0;34m';'\u001b[0m\u001b[0;34m)\u001b[0m\u001b[0;34m\u001b[0m\u001b[0;34m\u001b[0m\u001b[0m\n\u001b[0m\u001b[1;32m     14\u001b[0m \u001b[0;34m\u001b[0m\u001b[0m\n\u001b[1;32m     15\u001b[0m \u001b[0;31m# Print the DataFrame\u001b[0m\u001b[0;34m\u001b[0m\u001b[0;34m\u001b[0m\u001b[0m\n",
            "\u001b[0;32m/usr/local/lib/python3.10/dist-packages/pandas/io/clipboards.py\u001b[0m in \u001b[0;36mread_clipboard\u001b[0;34m(sep, dtype_backend, **kwargs)\u001b[0m\n\u001b[1;32m     65\u001b[0m     \u001b[0;32mfrom\u001b[0m \u001b[0mpandas\u001b[0m\u001b[0;34m.\u001b[0m\u001b[0mio\u001b[0m\u001b[0;34m.\u001b[0m\u001b[0mparsers\u001b[0m \u001b[0;32mimport\u001b[0m \u001b[0mread_csv\u001b[0m\u001b[0;34m\u001b[0m\u001b[0;34m\u001b[0m\u001b[0m\n\u001b[1;32m     66\u001b[0m \u001b[0;34m\u001b[0m\u001b[0m\n\u001b[0;32m---> 67\u001b[0;31m     \u001b[0mtext\u001b[0m \u001b[0;34m=\u001b[0m \u001b[0mclipboard_get\u001b[0m\u001b[0;34m(\u001b[0m\u001b[0;34m)\u001b[0m\u001b[0;34m\u001b[0m\u001b[0;34m\u001b[0m\u001b[0m\n\u001b[0m\u001b[1;32m     68\u001b[0m \u001b[0;34m\u001b[0m\u001b[0m\n\u001b[1;32m     69\u001b[0m     \u001b[0;31m# Try to decode (if needed, as \"text\" might already be a string here).\u001b[0m\u001b[0;34m\u001b[0m\u001b[0;34m\u001b[0m\u001b[0m\n",
            "\u001b[0;32m/usr/local/lib/python3.10/dist-packages/pandas/io/clipboard/__init__.py\u001b[0m in \u001b[0;36mlazy_load_stub_paste\u001b[0;34m()\u001b[0m\n\u001b[1;32m    659\u001b[0m     \u001b[0;32mglobal\u001b[0m \u001b[0mcopy\u001b[0m\u001b[0;34m,\u001b[0m \u001b[0mpaste\u001b[0m\u001b[0;34m\u001b[0m\u001b[0;34m\u001b[0m\u001b[0m\n\u001b[1;32m    660\u001b[0m     \u001b[0mcopy\u001b[0m\u001b[0;34m,\u001b[0m \u001b[0mpaste\u001b[0m \u001b[0;34m=\u001b[0m \u001b[0mdetermine_clipboard\u001b[0m\u001b[0;34m(\u001b[0m\u001b[0;34m)\u001b[0m\u001b[0;34m\u001b[0m\u001b[0;34m\u001b[0m\u001b[0m\n\u001b[0;32m--> 661\u001b[0;31m     \u001b[0;32mreturn\u001b[0m \u001b[0mpaste\u001b[0m\u001b[0;34m(\u001b[0m\u001b[0;34m)\u001b[0m\u001b[0;34m\u001b[0m\u001b[0;34m\u001b[0m\u001b[0m\n\u001b[0m\u001b[1;32m    662\u001b[0m \u001b[0;34m\u001b[0m\u001b[0m\n\u001b[1;32m    663\u001b[0m \u001b[0;34m\u001b[0m\u001b[0m\n",
            "\u001b[0;32m/usr/local/lib/python3.10/dist-packages/pandas/io/clipboard/__init__.py\u001b[0m in \u001b[0;36m__call__\u001b[0;34m(self, *args, **kwargs)\u001b[0m\n\u001b[1;32m    297\u001b[0m     \u001b[0;32mclass\u001b[0m \u001b[0mClipboardUnavailable\u001b[0m\u001b[0;34m:\u001b[0m\u001b[0;34m\u001b[0m\u001b[0;34m\u001b[0m\u001b[0m\n\u001b[1;32m    298\u001b[0m         \u001b[0;32mdef\u001b[0m \u001b[0m__call__\u001b[0m\u001b[0;34m(\u001b[0m\u001b[0mself\u001b[0m\u001b[0;34m,\u001b[0m \u001b[0;34m*\u001b[0m\u001b[0margs\u001b[0m\u001b[0;34m,\u001b[0m \u001b[0;34m**\u001b[0m\u001b[0mkwargs\u001b[0m\u001b[0;34m)\u001b[0m\u001b[0;34m:\u001b[0m\u001b[0;34m\u001b[0m\u001b[0;34m\u001b[0m\u001b[0m\n\u001b[0;32m--> 299\u001b[0;31m             \u001b[0;32mraise\u001b[0m \u001b[0mPyperclipException\u001b[0m\u001b[0;34m(\u001b[0m\u001b[0mEXCEPT_MSG\u001b[0m\u001b[0;34m)\u001b[0m\u001b[0;34m\u001b[0m\u001b[0;34m\u001b[0m\u001b[0m\n\u001b[0m\u001b[1;32m    300\u001b[0m \u001b[0;34m\u001b[0m\u001b[0m\n\u001b[1;32m    301\u001b[0m         \u001b[0;32mdef\u001b[0m \u001b[0m__bool__\u001b[0m\u001b[0;34m(\u001b[0m\u001b[0mself\u001b[0m\u001b[0;34m)\u001b[0m \u001b[0;34m->\u001b[0m \u001b[0mbool\u001b[0m\u001b[0;34m:\u001b[0m\u001b[0;34m\u001b[0m\u001b[0;34m\u001b[0m\u001b[0m\n",
            "\u001b[0;31mPyperclipException\u001b[0m: \n    Pyperclip could not find a copy/paste mechanism for your system.\n    For more information, please visit\n    https://pyperclip.readthedocs.io/en/latest/#not-implemented-error\n    "
          ]
        }
      ]
    },
    {
      "cell_type": "markdown",
      "source": [
        "**dataframe from series**"
      ],
      "metadata": {
        "id": "iLhIjqme5LzX"
      }
    },
    {
      "cell_type": "code",
      "source": [
        "import pandas as pd\n",
        "\n",
        "# Creating a list\n",
        "author = ['Jitender', 'Purnima',\n",
        "          'Arpit', 'Jyoti']\n",
        "\n",
        "print(pd.Series(author))"
      ],
      "metadata": {
        "colab": {
          "base_uri": "https://localhost:8080/"
        },
        "id": "CP2hpwTv5O1g",
        "outputId": "b0b5cf6c-5e14-4c07-cc48-4ce9b17e71ed"
      },
      "execution_count": null,
      "outputs": [
        {
          "output_type": "stream",
          "name": "stdout",
          "text": [
            "0    Jitender\n",
            "1     Purnima\n",
            "2       Arpit\n",
            "3       Jyoti\n",
            "dtype: object\n"
          ]
        }
      ]
    },
    {
      "cell_type": "code",
      "source": [
        "type(pd.Series(author))"
      ],
      "metadata": {
        "colab": {
          "base_uri": "https://localhost:8080/",
          "height": 203
        },
        "id": "qAgUDfpe5dCh",
        "outputId": "400f031c-d499-4726-f854-53c78a8d7644"
      },
      "execution_count": null,
      "outputs": [
        {
          "output_type": "execute_result",
          "data": {
            "text/plain": [
              "pandas.core.series.Series"
            ],
            "text/html": [
              "<div style=\"max-width:800px; border: 1px solid var(--colab-border-color);\"><style>\n",
              "      pre.function-repr-contents {\n",
              "        overflow-x: auto;\n",
              "        padding: 8px 12px;\n",
              "        max-height: 500px;\n",
              "      }\n",
              "\n",
              "      pre.function-repr-contents.function-repr-contents-collapsed {\n",
              "        cursor: pointer;\n",
              "        max-height: 100px;\n",
              "      }\n",
              "    </style>\n",
              "    <pre style=\"white-space: initial; background:\n",
              "         var(--colab-secondary-surface-color); padding: 8px 12px;\n",
              "         border-bottom: 1px solid var(--colab-border-color);\"><b>pandas.core.series.Series</b><br/>def __init__(data=None, index=None, dtype: Dtype | None=None, name=None, copy: bool | None=None, fastpath: bool=False) -&gt; None</pre><pre class=\"function-repr-contents function-repr-contents-collapsed\" style=\"\"><a class=\"filepath\" style=\"display:none\" href=\"#\">/usr/local/lib/python3.10/dist-packages/pandas/core/series.py</a>One-dimensional ndarray with axis labels (including time series).\n",
              "\n",
              "Labels need not be unique but must be a hashable type. The object\n",
              "supports both integer- and label-based indexing and provides a host of\n",
              "methods for performing operations involving the index. Statistical\n",
              "methods from ndarray have been overridden to automatically exclude\n",
              "missing data (currently represented as NaN).\n",
              "\n",
              "Operations between Series (+, -, /, \\*, \\*\\*) align values based on their\n",
              "associated index values-- they need not be the same length. The result\n",
              "index will be the sorted union of the two indexes.\n",
              "\n",
              "Parameters\n",
              "----------\n",
              "data : array-like, Iterable, dict, or scalar value\n",
              "    Contains data stored in Series. If data is a dict, argument order is\n",
              "    maintained.\n",
              "index : array-like or Index (1d)\n",
              "    Values must be hashable and have the same length as `data`.\n",
              "    Non-unique index values are allowed. Will default to\n",
              "    RangeIndex (0, 1, 2, ..., n) if not provided. If data is dict-like\n",
              "    and index is None, then the keys in the data are used as the index. If the\n",
              "    index is not None, the resulting Series is reindexed with the index values.\n",
              "dtype : str, numpy.dtype, or ExtensionDtype, optional\n",
              "    Data type for the output Series. If not specified, this will be\n",
              "    inferred from `data`.\n",
              "    See the :ref:`user guide &lt;basics.dtypes&gt;` for more usages.\n",
              "name : Hashable, default None\n",
              "    The name to give to the Series.\n",
              "copy : bool, default False\n",
              "    Copy input data. Only affects Series or 1d ndarray input. See examples.\n",
              "\n",
              "Notes\n",
              "-----\n",
              "Please reference the :ref:`User Guide &lt;basics.series&gt;` for more information.\n",
              "\n",
              "Examples\n",
              "--------\n",
              "Constructing Series from a dictionary with an Index specified\n",
              "\n",
              "&gt;&gt;&gt; d = {&#x27;a&#x27;: 1, &#x27;b&#x27;: 2, &#x27;c&#x27;: 3}\n",
              "&gt;&gt;&gt; ser = pd.Series(data=d, index=[&#x27;a&#x27;, &#x27;b&#x27;, &#x27;c&#x27;])\n",
              "&gt;&gt;&gt; ser\n",
              "a   1\n",
              "b   2\n",
              "c   3\n",
              "dtype: int64\n",
              "\n",
              "The keys of the dictionary match with the Index values, hence the Index\n",
              "values have no effect.\n",
              "\n",
              "&gt;&gt;&gt; d = {&#x27;a&#x27;: 1, &#x27;b&#x27;: 2, &#x27;c&#x27;: 3}\n",
              "&gt;&gt;&gt; ser = pd.Series(data=d, index=[&#x27;x&#x27;, &#x27;y&#x27;, &#x27;z&#x27;])\n",
              "&gt;&gt;&gt; ser\n",
              "x   NaN\n",
              "y   NaN\n",
              "z   NaN\n",
              "dtype: float64\n",
              "\n",
              "Note that the Index is first build with the keys from the dictionary.\n",
              "After this the Series is reindexed with the given Index values, hence we\n",
              "get all NaN as a result.\n",
              "\n",
              "Constructing Series from a list with `copy=False`.\n",
              "\n",
              "&gt;&gt;&gt; r = [1, 2]\n",
              "&gt;&gt;&gt; ser = pd.Series(r, copy=False)\n",
              "&gt;&gt;&gt; ser.iloc[0] = 999\n",
              "&gt;&gt;&gt; r\n",
              "[1, 2]\n",
              "&gt;&gt;&gt; ser\n",
              "0    999\n",
              "1      2\n",
              "dtype: int64\n",
              "\n",
              "Due to input data type the Series has a `copy` of\n",
              "the original data even though `copy=False`, so\n",
              "the data is unchanged.\n",
              "\n",
              "Constructing Series from a 1d ndarray with `copy=False`.\n",
              "\n",
              "&gt;&gt;&gt; r = np.array([1, 2])\n",
              "&gt;&gt;&gt; ser = pd.Series(r, copy=False)\n",
              "&gt;&gt;&gt; ser.iloc[0] = 999\n",
              "&gt;&gt;&gt; r\n",
              "array([999,   2])\n",
              "&gt;&gt;&gt; ser\n",
              "0    999\n",
              "1      2\n",
              "dtype: int64\n",
              "\n",
              "Due to input data type the Series has a `view` on\n",
              "the original data, so\n",
              "the data is changed as well.</pre>\n",
              "      <script>\n",
              "      if (google.colab.kernel.accessAllowed && google.colab.files && google.colab.files.view) {\n",
              "        for (const element of document.querySelectorAll('.filepath')) {\n",
              "          element.style.display = 'block'\n",
              "          element.onclick = (event) => {\n",
              "            event.preventDefault();\n",
              "            event.stopPropagation();\n",
              "            google.colab.files.view(element.textContent, 244);\n",
              "          };\n",
              "        }\n",
              "      }\n",
              "      for (const element of document.querySelectorAll('.function-repr-contents')) {\n",
              "        element.onclick = (event) => {\n",
              "          event.preventDefault();\n",
              "          event.stopPropagation();\n",
              "          element.classList.toggle('function-repr-contents-collapsed');\n",
              "        };\n",
              "      }\n",
              "      </script>\n",
              "      </div>"
            ]
          },
          "metadata": {},
          "execution_count": 77
        }
      ]
    },
    {
      "cell_type": "code",
      "source": [
        "import pandas as pd\n",
        "\n",
        "# Creating two lists\n",
        "author = ['Jitender', 'Purnima',\n",
        "          'Arpit', 'Jyoti']\n",
        "article = [210, 211, 114, 178]\n",
        "\n",
        "# Creating two Series by passing lists\n",
        "auth_series = pd.Series(author)\n",
        "article_series = pd.Series(article)\n",
        "\n",
        "Author = pd.Series(author)\n",
        "Article = pd.Series(article)\n",
        "\n",
        "Frame = {'author': Author, 'article': Article}\n",
        "\n",
        "print(pd.DataFrame(Frame))"
      ],
      "metadata": {
        "colab": {
          "base_uri": "https://localhost:8080/"
        },
        "id": "1S5GkUSU5oT2",
        "outputId": "d2ea053c-6158-4003-aadd-83da62b89c3a"
      },
      "execution_count": null,
      "outputs": [
        {
          "output_type": "stream",
          "name": "stdout",
          "text": [
            "     author  article\n",
            "0  Jitender      210\n",
            "1   Purnima      211\n",
            "2     Arpit      114\n",
            "3     Jyoti      178\n"
          ]
        }
      ]
    },
    {
      "cell_type": "code",
      "source": [
        "import pandas as pd\n",
        "# Creating Series\n",
        "auth_series = pd.Series(['Jitender',\n",
        "          'Purnima', 'Arpit', 'Jyoti'])\n",
        "article_series = pd.Series([210, 211, 114, 178])\n",
        "# Creating Dictionary\n",
        "frame = {'Author': auth_series,\n",
        "         'Article': article_series}\n",
        "# Creating Dataframe\n",
        "result = pd.DataFrame(frame)\n",
        "\n",
        "print(result)"
      ],
      "metadata": {
        "colab": {
          "base_uri": "https://localhost:8080/"
        },
        "id": "vT3MyJzg6MiX",
        "outputId": "976da7de-a79c-4a5b-dccf-5bb09e6ff19b"
      },
      "execution_count": null,
      "outputs": [
        {
          "output_type": "stream",
          "name": "stdout",
          "text": [
            "     Author  Article\n",
            "0  Jitender      210\n",
            "1   Purnima      211\n",
            "2     Arpit      114\n",
            "3     Jyoti      178\n"
          ]
        }
      ]
    },
    {
      "cell_type": "code",
      "source": [
        "Age = [16, 13, 12, 11]\n",
        "\n",
        "result['Age']= pd.Series(Age)\n",
        "\n",
        "print(result)"
      ],
      "metadata": {
        "colab": {
          "base_uri": "https://localhost:8080/"
        },
        "id": "PwLWi3WE6QMo",
        "outputId": "ffcd5681-9ef2-4a39-d46b-c013cb225090"
      },
      "execution_count": null,
      "outputs": [
        {
          "output_type": "stream",
          "name": "stdout",
          "text": [
            "     Author  Article  Age\n",
            "0  Jitender      210   16\n",
            "1   Purnima      211   13\n",
            "2     Arpit      114   12\n",
            "3     Jyoti      178   11\n"
          ]
        }
      ]
    },
    {
      "cell_type": "code",
      "source": [
        "\n",
        "# importing pandas as pd\n",
        "import pandas as pd\n",
        "\n",
        "# Let's create a Dataframe\n",
        "df = pd.DataFrame({'City':['New York', 'Parague', 'New Delhi', 'Venice', 'new Orleans'],\n",
        "                    'Event':['Music', 'Poetry', 'Theatre', 'Comedy', 'Tech_Summit'],\n",
        "                    'Cost':[10000, 5000, 15000, 2000, 12000]})\n",
        "\n",
        "# Let's create the index\n",
        "index_ = [pd.Period('02-2018'), pd.Period('04-2018'),\n",
        "          pd.Period('06-2018'), pd.Period('10-2018'), pd.Period('12-2018')]\n",
        "\n",
        "# Set the index\n",
        "df.index = index_\n",
        "\n",
        "# Let's print the dataframe\n",
        "print(df)"
      ],
      "metadata": {
        "colab": {
          "base_uri": "https://localhost:8080/"
        },
        "id": "7gG45lT37CyU",
        "outputId": "ca3e1edb-42e3-45bf-8306-637b5b34d399"
      },
      "execution_count": null,
      "outputs": [
        {
          "output_type": "stream",
          "name": "stdout",
          "text": [
            "                City        Event   Cost\n",
            "2018-02     New York        Music  10000\n",
            "2018-04      Parague       Poetry   5000\n",
            "2018-06    New Delhi      Theatre  15000\n",
            "2018-10       Venice       Comedy   2000\n",
            "2018-12  new Orleans  Tech_Summit  12000\n"
          ]
        }
      ]
    },
    {
      "cell_type": "code",
      "source": [
        "df_updated = df.replace(to_replace ='[nN]ew ', value = 'New_', regex = True)\n",
        "\n",
        "df_updated['City'] = df_updated['City'].str.strip()\n",
        "\n",
        "# Print the updated dataframe\n",
        "print(df_updated)"
      ],
      "metadata": {
        "colab": {
          "base_uri": "https://localhost:8080/"
        },
        "id": "bBE1jV7l7JDN",
        "outputId": "ee0a081c-98ae-40d4-cf15-7d99a3d258c6"
      },
      "execution_count": null,
      "outputs": [
        {
          "output_type": "stream",
          "name": "stdout",
          "text": [
            "                City        Event   Cost\n",
            "2018-02     New_York        Music  10000\n",
            "2018-04      Parague       Poetry   5000\n",
            "2018-06    New_Delhi      Theatre  15000\n",
            "2018-10       Venice       Comedy   2000\n",
            "2018-12  New_Orleans  Tech_Summit  12000\n"
          ]
        }
      ]
    },
    {
      "cell_type": "markdown",
      "source": [
        "**pandas with numpy**"
      ],
      "metadata": {
        "id": "sMToa-7xGKAc"
      }
    },
    {
      "cell_type": "code",
      "source": [
        "# import pandas and numpy\n",
        "import pandas as pd\n",
        "import numpy as np\n",
        "\n",
        "df = pd.Series(np.repeat(0.8, 7))\n",
        "\n",
        "print(df)"
      ],
      "metadata": {
        "colab": {
          "base_uri": "https://localhost:8080/"
        },
        "id": "x5CqpXuvGHiL",
        "outputId": "87b990cb-2334-4547-97a6-c1a779901790"
      },
      "execution_count": null,
      "outputs": [
        {
          "output_type": "stream",
          "name": "stdout",
          "text": [
            "0    0.8\n",
            "1    0.8\n",
            "2    0.8\n",
            "3    0.8\n",
            "4    0.8\n",
            "5    0.8\n",
            "6    0.8\n",
            "dtype: float64\n"
          ]
        }
      ]
    },
    {
      "cell_type": "code",
      "source": [
        "df = pd.Series(np.random.rand(10))\n",
        "\n",
        "print(df)"
      ],
      "metadata": {
        "colab": {
          "base_uri": "https://localhost:8080/"
        },
        "id": "4PoOa9M4GeCQ",
        "outputId": "d7b7240a-d7fa-4a29-d82a-de9fd9c6304a"
      },
      "execution_count": null,
      "outputs": [
        {
          "output_type": "stream",
          "name": "stdout",
          "text": [
            "0    0.877572\n",
            "1    0.083602\n",
            "2    0.217084\n",
            "3    0.603799\n",
            "4    0.179677\n",
            "5    0.339313\n",
            "6    0.240862\n",
            "7    0.799853\n",
            "8    0.517009\n",
            "9    0.771952\n",
            "dtype: float64\n"
          ]
        }
      ]
    },
    {
      "cell_type": "code",
      "source": [
        "df = pd.Series(np.random.normal(0.0, 1.0,5))\n",
        "\n",
        "print(df)"
      ],
      "metadata": {
        "colab": {
          "base_uri": "https://localhost:8080/"
        },
        "id": "PcSfWs_JGlzM",
        "outputId": "e4260d1a-30b9-4089-df32-f518c99567e7"
      },
      "execution_count": null,
      "outputs": [
        {
          "output_type": "stream",
          "name": "stdout",
          "text": [
            "0   -0.046851\n",
            "1   -1.150340\n",
            "2    0.698565\n",
            "3    1.741182\n",
            "4    1.109001\n",
            "dtype: float64\n"
          ]
        }
      ]
    },
    {
      "cell_type": "markdown",
      "source": [
        "**DATETIME**"
      ],
      "metadata": {
        "id": "vxDUhLvMHLn3"
      }
    },
    {
      "cell_type": "code",
      "source": [
        "import pandas as pd\n",
        "from datetime import datetime\n",
        "import numpy as np\n",
        "\n",
        "date_range = pd.date_range(start='01/01/2024', end='30/04/2024', freq='Min')\n",
        "print(date_range)"
      ],
      "metadata": {
        "colab": {
          "base_uri": "https://localhost:8080/"
        },
        "id": "sIdNKP4rHOMs",
        "outputId": "6a8e87ef-68c1-4e31-ee54-f5f359e0be8a"
      },
      "execution_count": null,
      "outputs": [
        {
          "output_type": "stream",
          "name": "stdout",
          "text": [
            "DatetimeIndex(['2024-01-01 00:00:00', '2024-01-01 00:01:00',\n",
            "               '2024-01-01 00:02:00', '2024-01-01 00:03:00',\n",
            "               '2024-01-01 00:04:00', '2024-01-01 00:05:00',\n",
            "               '2024-01-01 00:06:00', '2024-01-01 00:07:00',\n",
            "               '2024-01-01 00:08:00', '2024-01-01 00:09:00',\n",
            "               ...\n",
            "               '2024-04-29 23:51:00', '2024-04-29 23:52:00',\n",
            "               '2024-04-29 23:53:00', '2024-04-29 23:54:00',\n",
            "               '2024-04-29 23:55:00', '2024-04-29 23:56:00',\n",
            "               '2024-04-29 23:57:00', '2024-04-29 23:58:00',\n",
            "               '2024-04-29 23:59:00', '2024-04-30 00:00:00'],\n",
            "              dtype='datetime64[ns]', length=172801, freq='T')\n"
          ]
        }
      ]
    },
    {
      "cell_type": "code",
      "source": [
        "date_range = pd.date_range(start='01/01/2024', end='30/04/2024', freq='S')\n",
        "print(date_range)"
      ],
      "metadata": {
        "colab": {
          "base_uri": "https://localhost:8080/"
        },
        "id": "X7l9kjeBIKZM",
        "outputId": "819a65e0-2390-44b0-bf10-7933b6d8b4a6"
      },
      "execution_count": null,
      "outputs": [
        {
          "output_type": "stream",
          "name": "stdout",
          "text": [
            "DatetimeIndex(['2024-01-01 00:00:00', '2024-01-01 00:00:01',\n",
            "               '2024-01-01 00:00:02', '2024-01-01 00:00:03',\n",
            "               '2024-01-01 00:00:04', '2024-01-01 00:00:05',\n",
            "               '2024-01-01 00:00:06', '2024-01-01 00:00:07',\n",
            "               '2024-01-01 00:00:08', '2024-01-01 00:00:09',\n",
            "               ...\n",
            "               '2024-04-29 23:59:51', '2024-04-29 23:59:52',\n",
            "               '2024-04-29 23:59:53', '2024-04-29 23:59:54',\n",
            "               '2024-04-29 23:59:55', '2024-04-29 23:59:56',\n",
            "               '2024-04-29 23:59:57', '2024-04-29 23:59:58',\n",
            "               '2024-04-29 23:59:59', '2024-04-30 00:00:00'],\n",
            "              dtype='datetime64[ns]', length=10368001, freq='S')\n"
          ]
        }
      ]
    },
    {
      "cell_type": "code",
      "source": [
        "date_range = pd.date_range(start='01/01/2024', end='30/04/2024', freq='S')\n",
        "df=pd.DataFrame(date_range, columns=['Date'])\n",
        "\n",
        "df['data'] = np.random.randint(0, 100, size =(len(date_range)))\n",
        "\n",
        "print(df.head(10))"
      ],
      "metadata": {
        "colab": {
          "base_uri": "https://localhost:8080/"
        },
        "id": "cieu6B0eKfsX",
        "outputId": "8c365a65-8bad-412a-b2ea-9b73b9bb3210"
      },
      "execution_count": null,
      "outputs": [
        {
          "output_type": "stream",
          "name": "stdout",
          "text": [
            "                 Date  data\n",
            "0 2024-01-01 00:00:00    12\n",
            "1 2024-01-01 00:00:01    41\n",
            "2 2024-01-01 00:00:02    57\n",
            "3 2024-01-01 00:00:03    34\n",
            "4 2024-01-01 00:00:04     6\n",
            "5 2024-01-01 00:00:05    82\n",
            "6 2024-01-01 00:00:06    80\n",
            "7 2024-01-01 00:00:07    80\n",
            "8 2024-01-01 00:00:08    22\n",
            "9 2024-01-01 00:00:09    43\n"
          ]
        }
      ]
    },
    {
      "cell_type": "code",
      "source": [
        "len(date_range)"
      ],
      "metadata": {
        "colab": {
          "base_uri": "https://localhost:8080/"
        },
        "id": "KN0_mIO5MIkw",
        "outputId": "e2f33c77-d9eb-45ac-eeae-01dba37becf5"
      },
      "execution_count": null,
      "outputs": [
        {
          "output_type": "execute_result",
          "data": {
            "text/plain": [
              "10368001"
            ]
          },
          "metadata": {},
          "execution_count": 16
        }
      ]
    },
    {
      "cell_type": "markdown",
      "source": [
        "**Convert to string**"
      ],
      "metadata": {
        "id": "dcAkQ86vMoGj"
      }
    },
    {
      "cell_type": "code",
      "source": [
        "date_range = pd.date_range(start='01/01/2024', end='30/04/2024', freq='S')\n",
        "\n",
        "Convert_to_string = [str(x) for x in date_range ]\n",
        "\n",
        "print(Convert_to_string[1:11])"
      ],
      "metadata": {
        "colab": {
          "base_uri": "https://localhost:8080/"
        },
        "id": "_H2FZnUbMqqU",
        "outputId": "b7e90d65-9817-4f82-cd14-8ea5fcf9ef83"
      },
      "execution_count": null,
      "outputs": [
        {
          "output_type": "stream",
          "name": "stdout",
          "text": [
            "['2024-01-01 00:00:01', '2024-01-01 00:00:02', '2024-01-01 00:00:03', '2024-01-01 00:00:04', '2024-01-01 00:00:05', '2024-01-01 00:00:06', '2024-01-01 00:00:07', '2024-01-01 00:00:08', '2024-01-01 00:00:09', '2024-01-01 00:00:10']\n"
          ]
        }
      ]
    },
    {
      "cell_type": "code",
      "source": [
        "# importing pandas module\n",
        "import pandas as pd\n",
        "\n",
        "# making data frame\n",
        "df = pd.read_csv(\"https://media.geeksforgeeks.org/wp-content/uploads/nba.csv\")\n",
        "\n",
        "print(df['Name'].iloc[[0, 3, 6]])\n"
      ],
      "metadata": {
        "colab": {
          "base_uri": "https://localhost:8080/"
        },
        "id": "aF6UhSd-Kf89",
        "outputId": "c271fbc9-1258-431d-e592-ff308eb47794"
      },
      "execution_count": null,
      "outputs": [
        {
          "output_type": "stream",
          "name": "stdout",
          "text": [
            "0    Avery Bradley\n",
            "3      R.J. Hunter\n",
            "6    Jordan Mickey\n",
            "Name: Name, dtype: object\n"
          ]
        }
      ]
    },
    {
      "cell_type": "code",
      "source": [
        "print(df['Name'].iloc[:5])"
      ],
      "metadata": {
        "colab": {
          "base_uri": "https://localhost:8080/"
        },
        "id": "XfT65DpySN6U",
        "outputId": "f7e904b9-dbcd-42db-ab20-9865d63d4421"
      },
      "execution_count": null,
      "outputs": [
        {
          "output_type": "stream",
          "name": "stdout",
          "text": [
            "0    Avery Bradley\n",
            "1      Jae Crowder\n",
            "2     John Holland\n",
            "3      R.J. Hunter\n",
            "4    Jonas Jerebko\n",
            "Name: Name, dtype: object\n"
          ]
        }
      ]
    },
    {
      "cell_type": "code",
      "source": [
        "print(df['Name'].iloc[10:])"
      ],
      "metadata": {
        "colab": {
          "base_uri": "https://localhost:8080/"
        },
        "id": "Iz8KX8SbSV8A",
        "outputId": "e79067df-bb5f-4ef7-f050-129ecf96f86c"
      },
      "execution_count": null,
      "outputs": [
        {
          "output_type": "stream",
          "name": "stdout",
          "text": [
            "10     Jared Sullinger\n",
            "11       Isaiah Thomas\n",
            "12         Evan Turner\n",
            "13         James Young\n",
            "14        Tyler Zeller\n",
            "            ...       \n",
            "453       Shelvin Mack\n",
            "454          Raul Neto\n",
            "455       Tibor Pleiss\n",
            "456        Jeff Withey\n",
            "457                NaN\n",
            "Name: Name, Length: 448, dtype: object\n"
          ]
        }
      ]
    },
    {
      "cell_type": "code",
      "source": [
        "print(df['Name'].iloc[-10:])"
      ],
      "metadata": {
        "colab": {
          "base_uri": "https://localhost:8080/"
        },
        "id": "eNg9UCryT_Y0",
        "outputId": "989c5b83-c777-4cde-8d62-4377816cfc55"
      },
      "execution_count": null,
      "outputs": [
        {
          "output_type": "stream",
          "name": "stdout",
          "text": [
            "448    Gordon Hayward\n",
            "449       Rodney Hood\n",
            "450        Joe Ingles\n",
            "451     Chris Johnson\n",
            "452        Trey Lyles\n",
            "453      Shelvin Mack\n",
            "454         Raul Neto\n",
            "455      Tibor Pleiss\n",
            "456       Jeff Withey\n",
            "457               NaN\n",
            "Name: Name, dtype: object\n"
          ]
        }
      ]
    },
    {
      "cell_type": "code",
      "source": [
        "df= pd.Series(np.arange(3,15), index=list(\"abcdefghijkl\"))\n",
        "print(df)"
      ],
      "metadata": {
        "colab": {
          "base_uri": "https://localhost:8080/"
        },
        "id": "WbsEiPIDVZUD",
        "outputId": "ac82cae5-c352-422a-fa4c-03433dbf2613"
      },
      "execution_count": null,
      "outputs": [
        {
          "output_type": "stream",
          "name": "stdout",
          "text": [
            "a     3\n",
            "b     4\n",
            "c     5\n",
            "d     6\n",
            "e     7\n",
            "f     8\n",
            "g     9\n",
            "h    10\n",
            "i    11\n",
            "j    12\n",
            "k    13\n",
            "l    14\n",
            "dtype: int64\n"
          ]
        }
      ]
    },
    {
      "cell_type": "code",
      "source": [
        "df = pd.Series(np.arange(3, 15), index = list(\"abcdefghijkl\"))\n",
        "\n",
        "\n",
        "print(df[['a', 'd', 'g', 'l']] )"
      ],
      "metadata": {
        "colab": {
          "base_uri": "https://localhost:8080/"
        },
        "id": "ES9Wl9FwVXt1",
        "outputId": "eb018ca6-8551-47fd-f0ac-9ff6a3237bc2"
      },
      "execution_count": null,
      "outputs": [
        {
          "output_type": "stream",
          "name": "stdout",
          "text": [
            "a     3\n",
            "d     6\n",
            "g     9\n",
            "l    14\n",
            "dtype: int64\n"
          ]
        }
      ]
    },
    {
      "cell_type": "code",
      "source": [
        "list = [ ['Geeks'], ['For'], ['Geeks'], ['is'],\n",
        "         ['a'], ['portal'], ['for'], ['geeks'] ]\n",
        "\n",
        "# create Pandas Series\n",
        "df = pd.Series((i[0] for i in list))\n",
        "\n",
        "print(df)"
      ],
      "metadata": {
        "colab": {
          "base_uri": "https://localhost:8080/"
        },
        "id": "bVgt1MEHWBuv",
        "outputId": "9e8abcae-1c6b-4e22-dcd6-3a6aef80d7c6"
      },
      "execution_count": null,
      "outputs": [
        {
          "output_type": "stream",
          "name": "stdout",
          "text": [
            "0     Geeks\n",
            "1       For\n",
            "2     Geeks\n",
            "3        is\n",
            "4         a\n",
            "5    portal\n",
            "6       for\n",
            "7     geeks\n",
            "dtype: object\n"
          ]
        }
      ]
    },
    {
      "cell_type": "code",
      "source": [
        "\n",
        "# import the pandas lib as pd\n",
        "import pandas as pd\n",
        "\n",
        "# create a dictionary\n",
        "dictionary = {'A': 10, 'B': 20, 'C': 30}\n",
        "\n",
        "print(pd.Series(dictionary))"
      ],
      "metadata": {
        "colab": {
          "base_uri": "https://localhost:8080/"
        },
        "id": "zoTQa3O3WNCW",
        "outputId": "09fdaafd-6ff7-480a-c6e3-e5039c836b57"
      },
      "execution_count": null,
      "outputs": [
        {
          "output_type": "stream",
          "name": "stdout",
          "text": [
            "A    10\n",
            "B    20\n",
            "C    30\n",
            "dtype: int64\n"
          ]
        }
      ]
    },
    {
      "cell_type": "code",
      "source": [
        "print(pd.Series(dictionary, index= ['B', 'C', 'A']))"
      ],
      "metadata": {
        "colab": {
          "base_uri": "https://localhost:8080/"
        },
        "id": "i52e8VO9WZ-w",
        "outputId": "7504db15-ae69-458f-f7b1-9f871f81d1b2"
      },
      "execution_count": null,
      "outputs": [
        {
          "output_type": "stream",
          "name": "stdout",
          "text": [
            "B    20\n",
            "C    30\n",
            "A    10\n",
            "dtype: int64\n"
          ]
        }
      ]
    },
    {
      "cell_type": "code",
      "source": [
        "print(pd.Series(dictionary, index= ['B', 'C', 'A', 'D']))"
      ],
      "metadata": {
        "colab": {
          "base_uri": "https://localhost:8080/"
        },
        "id": "JHVf1_6TWkDW",
        "outputId": "60a7aee2-3622-4ccb-996b-91fe3706baa3"
      },
      "execution_count": null,
      "outputs": [
        {
          "output_type": "stream",
          "name": "stdout",
          "text": [
            "B    20.0\n",
            "C    30.0\n",
            "A    10.0\n",
            "D     NaN\n",
            "dtype: float64\n"
          ]
        }
      ]
    },
    {
      "cell_type": "code",
      "source": [
        "ser= pd.Series(dictionary)\n",
        "\n",
        "df=ser.reindex(index= ['B', 'C', 'A', 'D'], fill_value= 1.5)\n",
        "\n",
        "print(df)"
      ],
      "metadata": {
        "colab": {
          "base_uri": "https://localhost:8080/"
        },
        "id": "ENdT9rctWojp",
        "outputId": "ad5d71b7-66a2-43ac-e943-e6e37fbbf5b1"
      },
      "execution_count": null,
      "outputs": [
        {
          "output_type": "stream",
          "name": "stdout",
          "text": [
            "B    20.0\n",
            "C    30.0\n",
            "A    10.0\n",
            "D     1.5\n",
            "dtype: float64\n"
          ]
        }
      ]
    },
    {
      "cell_type": "code",
      "source": [
        "\n",
        "# importing pandas as pd\n",
        "import pandas as pd\n",
        "\n",
        "# Creating the dataframe\n",
        "df = pd.DataFrame({'Date':['11/8/2011', '04/23/2008', '10/2/2019'],\n",
        "                'Event':['Music', 'Poetry', 'Theatre'],\n",
        "                'Cost':[10000, 5000, 15000]})\n",
        "\n",
        "print(df)"
      ],
      "metadata": {
        "colab": {
          "base_uri": "https://localhost:8080/"
        },
        "id": "9cZnFADecCEx",
        "outputId": "0a00c191-4619-4f2b-ec51-c0b85a98696b"
      },
      "execution_count": null,
      "outputs": [
        {
          "output_type": "stream",
          "name": "stdout",
          "text": [
            "         Date    Event   Cost\n",
            "0   11/8/2011    Music  10000\n",
            "1  04/23/2008   Poetry   5000\n",
            "2   10/2/2019  Theatre  15000\n"
          ]
        }
      ]
    },
    {
      "cell_type": "code",
      "source": [
        "df.info()"
      ],
      "metadata": {
        "colab": {
          "base_uri": "https://localhost:8080/"
        },
        "id": "GJjSDI3ocKi0",
        "outputId": "585bfaf9-5b43-428c-db7c-57259cf6151a"
      },
      "execution_count": null,
      "outputs": [
        {
          "output_type": "stream",
          "name": "stdout",
          "text": [
            "<class 'pandas.core.frame.DataFrame'>\n",
            "RangeIndex: 3 entries, 0 to 2\n",
            "Data columns (total 3 columns):\n",
            " #   Column  Non-Null Count  Dtype \n",
            "---  ------  --------------  ----- \n",
            " 0   Date    3 non-null      object\n",
            " 1   Event   3 non-null      object\n",
            " 2   Cost    3 non-null      int64 \n",
            "dtypes: int64(1), object(2)\n",
            "memory usage: 200.0+ bytes\n"
          ]
        }
      ]
    },
    {
      "cell_type": "code",
      "source": [
        "df['Date'] = pd.to_datetime(df['Date'])\n",
        "\n",
        "print(df)"
      ],
      "metadata": {
        "colab": {
          "base_uri": "https://localhost:8080/"
        },
        "id": "2orQWXCEcSNJ",
        "outputId": "118cba25-26ce-4113-852b-88e3db8cdf01"
      },
      "execution_count": null,
      "outputs": [
        {
          "output_type": "stream",
          "name": "stdout",
          "text": [
            "        Date    Event   Cost\n",
            "0 2011-11-08    Music  10000\n",
            "1 2008-04-23   Poetry   5000\n",
            "2 2019-10-02  Theatre  15000\n"
          ]
        }
      ]
    },
    {
      "cell_type": "code",
      "source": [
        "# converting the string to datetime format\n",
        "df['Date'] = pd.to_datetime(df['Date'], format='%y%m%d')\n",
        "\n",
        "# printing dataframe\n",
        "print(df)\n",
        "\n",
        "\n",
        "print(df.dtypes)"
      ],
      "metadata": {
        "colab": {
          "base_uri": "https://localhost:8080/"
        },
        "id": "VeBPg3q7edhp",
        "outputId": "fa88cffd-7dae-4e6f-96c4-07fbdc4037cb"
      },
      "execution_count": null,
      "outputs": [
        {
          "output_type": "stream",
          "name": "stdout",
          "text": [
            "        Date    Event   Cost\n",
            "0 2011-11-08    Music  10000\n",
            "1 2008-04-23   Poetry   5000\n",
            "2 2019-10-02  Theatre  15000\n",
            "Date     datetime64[ns]\n",
            "Event            object\n",
            "Cost              int64\n",
            "dtype: object\n"
          ]
        }
      ]
    },
    {
      "cell_type": "code",
      "source": [
        "df['Date']= df['Date'].astype('datetime64[ns]')\n",
        "\n",
        "print(df)\n",
        "print(df.dtypes)"
      ],
      "metadata": {
        "colab": {
          "base_uri": "https://localhost:8080/"
        },
        "id": "cZchxnBLdGzc",
        "outputId": "74fd76a4-d453-4c22-bf50-4e235f0652d0"
      },
      "execution_count": null,
      "outputs": [
        {
          "output_type": "stream",
          "name": "stdout",
          "text": [
            "        Date    Event   Cost\n",
            "0 2011-11-08    Music  10000\n",
            "1 2008-04-23   Poetry   5000\n",
            "2 2019-10-02  Theatre  15000\n",
            "Date     datetime64[ns]\n",
            "Event            object\n",
            "Cost              int64\n",
            "dtype: object\n"
          ]
        }
      ]
    },
    {
      "cell_type": "code",
      "source": [
        "\n",
        "# importing pandas library\n",
        "import pandas as pd\n",
        "\n",
        "# Initializing the nested list with Data set\n",
        "player_list = [['20200712',50000,'20200812'],\n",
        "               ['20200714',51000,'20200814'],\n",
        "               ['20200716',51500,'20200816'],\n",
        "               ['20200719',53000,'20200819'],\n",
        "               ['20200721',54000,'20200821'],\n",
        "               ['20200724',55000,'20200824'],\n",
        "               ['20200729',57000,'20200824']]\n",
        "\n",
        "# creating a pandas dataframe\n",
        "df = pd.DataFrame(\n",
        "  player_list,columns = ['Treatment_start',\n",
        "                         'No.of Patients',\n",
        "                         'Treatment_end'])\n",
        "\n",
        "# printing dataframe\n",
        "print(df)\n",
        "print()\n",
        "\n",
        "# checking the type\n",
        "print(df.dtypes)"
      ],
      "metadata": {
        "colab": {
          "base_uri": "https://localhost:8080/"
        },
        "id": "4YFiqfqLexsL",
        "outputId": "d62b6c1a-259b-4e9b-98de-a7887efee3aa"
      },
      "execution_count": null,
      "outputs": [
        {
          "output_type": "stream",
          "name": "stdout",
          "text": [
            "  Treatment_start  No.of Patients Treatment_end\n",
            "0        20200712           50000      20200812\n",
            "1        20200714           51000      20200814\n",
            "2        20200716           51500      20200816\n",
            "3        20200719           53000      20200819\n",
            "4        20200721           54000      20200821\n",
            "5        20200724           55000      20200824\n",
            "6        20200729           57000      20200824\n",
            "\n",
            "Treatment_start    object\n",
            "No.of Patients      int64\n",
            "Treatment_end      object\n",
            "dtype: object\n"
          ]
        }
      ]
    },
    {
      "cell_type": "code",
      "source": [
        "df['Treatment_start'] = pd.to_datetime(df['Treatment_start'], format='%Y%m%d')\n",
        "df['Treatment_end'] = pd.to_datetime(df['Treatment_end'],format='%Y%m%d')\n",
        "\n",
        "\n",
        "# printing dataframe\n",
        "print(df)\n",
        "print()\n",
        "\n",
        "print(df.dtypes)"
      ],
      "metadata": {
        "colab": {
          "base_uri": "https://localhost:8080/"
        },
        "id": "GJGiMKmue059",
        "outputId": "914d49a0-31b4-4fc9-e65d-687db0ef64c9"
      },
      "execution_count": null,
      "outputs": [
        {
          "output_type": "stream",
          "name": "stdout",
          "text": [
            "  Treatment_start  No.of Patients Treatment_end\n",
            "0      2020-07-12           50000    2020-08-12\n",
            "1      2020-07-14           51000    2020-08-14\n",
            "2      2020-07-16           51500    2020-08-16\n",
            "3      2020-07-19           53000    2020-08-19\n",
            "4      2020-07-21           54000    2020-08-21\n",
            "5      2020-07-24           55000    2020-08-24\n",
            "6      2020-07-29           57000    2020-08-24\n",
            "\n",
            "Treatment_start    datetime64[ns]\n",
            "No.of Patients              int64\n",
            "Treatment_end      datetime64[ns]\n",
            "dtype: object\n"
          ]
        }
      ]
    },
    {
      "cell_type": "code",
      "source": [
        "\n",
        "\n",
        "# importing pandas as pd\n",
        "import pandas as pd\n",
        "\n",
        "# Creating the timestamp\n",
        "ts=pd.Timestamp('02-06-2018')\n",
        "\n",
        "# Print the timestamp\n",
        "print(ts)"
      ],
      "metadata": {
        "colab": {
          "base_uri": "https://localhost:8080/"
        },
        "id": "Zs_vKpeIfQdZ",
        "outputId": "e404db28-510f-4899-c0d4-7809e965f347"
      },
      "execution_count": null,
      "outputs": [
        {
          "output_type": "stream",
          "name": "stdout",
          "text": [
            "2018-02-06 00:00:00\n"
          ]
        }
      ]
    },
    {
      "cell_type": "markdown",
      "source": [
        "**Sorting()**"
      ],
      "metadata": {
        "id": "UYRqOVj1byLc"
      }
    },
    {
      "cell_type": "code",
      "source": [
        "import numpy as np\n",
        "import pandas as pd\n",
        "\n",
        "df = pd.DataFrame({\n",
        "    'col1': ['A', 'A', 'B', np.nan, 'D', 'C'],\n",
        "    'col2': [2, 1, 9, 8, 7, 4],\n",
        "    'col3': [0, 1, 9, 4, 2, 3],\n",
        "    'col4': ['a', 'B', 'c', 'D', 'e', 'F']\n",
        "})\n",
        "print(df)"
      ],
      "metadata": {
        "colab": {
          "base_uri": "https://localhost:8080/"
        },
        "id": "548AA5vXb1xZ",
        "outputId": "6209c1e3-0827-4416-9288-9e9782848b5f"
      },
      "execution_count": null,
      "outputs": [
        {
          "output_type": "stream",
          "name": "stdout",
          "text": [
            "  col1  col2  col3 col4\n",
            "0    A     2     0    a\n",
            "1    A     1     1    B\n",
            "2    B     9     9    c\n",
            "3  NaN     8     4    D\n",
            "4    D     7     2    e\n",
            "5    C     4     3    F\n"
          ]
        }
      ]
    },
    {
      "cell_type": "code",
      "source": [
        "df.sort_values(by ='col1', inplace=True)\n",
        "print(df)"
      ],
      "metadata": {
        "colab": {
          "base_uri": "https://localhost:8080/"
        },
        "id": "DXk4mgF0eF46",
        "outputId": "e86cb5fb-544b-4561-8d63-496e8c41a23e"
      },
      "execution_count": null,
      "outputs": [
        {
          "output_type": "stream",
          "name": "stdout",
          "text": [
            "  col1  col2  col3 col4\n",
            "0    A     2     0    a\n",
            "1    A     1     1    B\n",
            "2    B     9     9    c\n",
            "5    C     4     3    F\n",
            "4    D     7     2    e\n",
            "3  NaN     8     4    D\n"
          ]
        }
      ]
    },
    {
      "cell_type": "code",
      "source": [
        "df = pd.DataFrame({\n",
        "    'col1': ['A', 'A', 'B', np.nan, 'D', 'C'],\n",
        "    'col2': [2, 1, 9, 8, 7, 4],\n",
        "    'col3': [0, 1, 9, 4, 2, 3],\n",
        "    'col4': ['a', 'B', 'c', 'D', 'e', 'F']\n",
        "})\n",
        "\n",
        "df.sort_values(by =['col1', 'col2'], ascending= [False, False], inplace=True)\n",
        "print(df)"
      ],
      "metadata": {
        "colab": {
          "base_uri": "https://localhost:8080/"
        },
        "id": "HRMZWy3SeZ2L",
        "outputId": "b771f889-ddfd-44b5-ecc5-a4ee804ea55c"
      },
      "execution_count": null,
      "outputs": [
        {
          "output_type": "stream",
          "name": "stdout",
          "text": [
            "  col1  col2  col3 col4\n",
            "4    D     7     2    e\n",
            "5    C     4     3    F\n",
            "2    B     9     9    c\n",
            "0    A     2     0    a\n",
            "1    A     1     1    B\n",
            "3  NaN     8     4    D\n"
          ]
        }
      ]
    },
    {
      "cell_type": "code",
      "source": [
        "import pandas as pd\n",
        "data = np.random.randint(1, 10, size=(5, 3))\n",
        "df = pd.DataFrame( data,columns = ['A', 'B', 'C'])\n",
        "print(df)"
      ],
      "metadata": {
        "colab": {
          "base_uri": "https://localhost:8080/"
        },
        "id": "m3Iiv1FbeSwJ",
        "outputId": "fe9537d3-ca5b-4255-ed0a-501372f9ffea"
      },
      "execution_count": null,
      "outputs": [
        {
          "output_type": "stream",
          "name": "stdout",
          "text": [
            "   A  B  C\n",
            "0  3  2  9\n",
            "1  7  4  4\n",
            "2  5  5  2\n",
            "3  9  9  8\n",
            "4  1  6  8\n"
          ]
        }
      ]
    },
    {
      "cell_type": "code",
      "source": [
        "print(df.A.max())"
      ],
      "metadata": {
        "colab": {
          "base_uri": "https://localhost:8080/"
        },
        "id": "NruA5Bq5i1ea",
        "outputId": "f4dba8a7-fb5e-4d41-e633-50dc3e31b325"
      },
      "execution_count": null,
      "outputs": [
        {
          "output_type": "stream",
          "name": "stdout",
          "text": [
            "9\n"
          ]
        }
      ]
    },
    {
      "cell_type": "code",
      "source": [
        "print(df.A.min())"
      ],
      "metadata": {
        "colab": {
          "base_uri": "https://localhost:8080/"
        },
        "id": "s4aFdrPtk9QE",
        "outputId": "cd272f43-7311-4a6f-d6f6-9ae392b8fbcf"
      },
      "execution_count": null,
      "outputs": [
        {
          "output_type": "stream",
          "name": "stdout",
          "text": [
            "1\n"
          ]
        }
      ]
    },
    {
      "cell_type": "markdown",
      "source": [
        "**Find boolean type of data from the dataframe**"
      ],
      "metadata": {
        "id": "t3KcNdjDl7Ep"
      }
    },
    {
      "cell_type": "code",
      "source": [
        "df = pd.DataFrame({'NAME': list('abcdef'),\n",
        "        'On_Time': [True, False] * 3,\n",
        "        'On_Budget': [False, True] * 3})\n",
        "print(df)"
      ],
      "metadata": {
        "colab": {
          "base_uri": "https://localhost:8080/"
        },
        "id": "mcnsp9Lil4hE",
        "outputId": "c1d0419f-b8fe-43ce-957e-8f37ee963da6"
      },
      "execution_count": null,
      "outputs": [
        {
          "output_type": "stream",
          "name": "stdout",
          "text": [
            "  NAME  On_Time  On_Budget\n",
            "0    a     True      False\n",
            "1    b    False       True\n",
            "2    c     True      False\n",
            "3    d    False       True\n",
            "4    e     True      False\n",
            "5    f    False       True\n"
          ]
        }
      ]
    },
    {
      "cell_type": "code",
      "source": [
        "print(df.select_dtypes(include='boolean'))"
      ],
      "metadata": {
        "colab": {
          "base_uri": "https://localhost:8080/"
        },
        "id": "vXtJ0jqpmFWO",
        "outputId": "24af12db-4eea-4b84-f5dc-fa7ce15ded59"
      },
      "execution_count": null,
      "outputs": [
        {
          "output_type": "stream",
          "name": "stdout",
          "text": [
            "   On_Time  On_Budget\n",
            "0     True      False\n",
            "1    False       True\n",
            "2     True      False\n",
            "3    False       True\n",
            "4     True      False\n",
            "5    False       True\n"
          ]
        }
      ]
    },
    {
      "cell_type": "markdown",
      "source": [
        "**Split string into two columns**"
      ],
      "metadata": {
        "id": "xhzTkZeexJa2"
      }
    },
    {
      "cell_type": "code",
      "source": [
        "df = pd.DataFrame({'row': ['00000 UNITED STATES', '01000 ALABAMA',\n",
        "                           '01001 Autauga County, AL', '01003 Baldwin County, AL',\n",
        "                           '01005 Barbour County, AL']})\n",
        "print(df)"
      ],
      "metadata": {
        "colab": {
          "base_uri": "https://localhost:8080/"
        },
        "id": "wTBT_bFwxNbs",
        "outputId": "86e11f12-9dc0-40d0-9640-27b9c665f886"
      },
      "execution_count": null,
      "outputs": [
        {
          "output_type": "stream",
          "name": "stdout",
          "text": [
            "                        row\n",
            "0       00000 UNITED STATES\n",
            "1             01000 ALABAMA\n",
            "2  01001 Autauga County, AL\n",
            "3  01003 Baldwin County, AL\n",
            "4  01005 Barbour County, AL\n"
          ]
        }
      ]
    },
    {
      "cell_type": "code",
      "source": [
        "df[['location', 'state_code']] = df['row'].str.split(n=1, expand = True)\n",
        "\n",
        "df[['state', 'county']] = df['state_code'].str.split(', ', expand=True)\n",
        "\n",
        "print(df)"
      ],
      "metadata": {
        "colab": {
          "base_uri": "https://localhost:8080/"
        },
        "id": "wsmRx3j0xSl9",
        "outputId": "38c382a3-393d-447a-abb8-b943785a1d7a"
      },
      "execution_count": null,
      "outputs": [
        {
          "output_type": "stream",
          "name": "stdout",
          "text": [
            "                        row location          state_code           state  \\\n",
            "0       00000 UNITED STATES    00000       UNITED STATES   UNITED STATES   \n",
            "1             01000 ALABAMA    01000             ALABAMA         ALABAMA   \n",
            "2  01001 Autauga County, AL    01001  Autauga County, AL  Autauga County   \n",
            "3  01003 Baldwin County, AL    01003  Baldwin County, AL  Baldwin County   \n",
            "4  01005 Barbour County, AL    01005  Barbour County, AL  Barbour County   \n",
            "\n",
            "  county  \n",
            "0   None  \n",
            "1   None  \n",
            "2     AL  \n",
            "3     AL  \n",
            "4     AL  \n"
          ]
        }
      ]
    },
    {
      "cell_type": "markdown",
      "source": [
        "**Randomly select a row**"
      ],
      "metadata": {
        "id": "tyytUiZj5r13"
      }
    },
    {
      "cell_type": "code",
      "source": [
        "import pandas as pd\n",
        "\n",
        "# Define a dictionary containing employee data\n",
        "data = {'Name': ['Jai', 'Princi', 'Gaurav', 'Anuj', 'Geeku', 'Geeku'],\n",
        "        'Age': [27, 24, 22, 32, 15, 15],\n",
        "        'Address': ['Delhi', 'Kanpur', 'Allahabad', 'Kannauj', 'Noida', 'Noida'],\n",
        "        'Qualification': ['Msc', 'MA', 'MCA', 'Phd', '10th', '10th']}\n",
        "\n",
        "# Convert the dictionary into DataFrame\n",
        "df = pd.DataFrame(data)\n",
        "print(df)"
      ],
      "metadata": {
        "colab": {
          "base_uri": "https://localhost:8080/"
        },
        "id": "VC_bEvpU5vtR",
        "outputId": "ae059a61-bcc2-409c-c833-9d1cf9807989"
      },
      "execution_count": null,
      "outputs": [
        {
          "output_type": "stream",
          "name": "stdout",
          "text": [
            "     Name  Age    Address Qualification\n",
            "0     Jai   27      Delhi           Msc\n",
            "1  Princi   24     Kanpur            MA\n",
            "2  Gaurav   22  Allahabad           MCA\n",
            "3    Anuj   32    Kannauj           Phd\n",
            "4   Geeku   15      Noida          10th\n",
            "5   Geeku   15      Noida          10th\n"
          ]
        }
      ]
    },
    {
      "cell_type": "code",
      "source": [
        "df.sample()"
      ],
      "metadata": {
        "colab": {
          "base_uri": "https://localhost:8080/",
          "height": 81
        },
        "id": "21T9apcI52Q8",
        "outputId": "0ef4b600-e3f8-4916-a8d1-cdbc0b22981f"
      },
      "execution_count": null,
      "outputs": [
        {
          "output_type": "execute_result",
          "data": {
            "text/plain": [
              "  Name  Age Address Qualification\n",
              "0  Jai   27   Delhi           Msc"
            ],
            "text/html": [
              "\n",
              "  <div id=\"df-d6c6c5b6-6e3a-4d5d-88da-b2870dc44c94\" class=\"colab-df-container\">\n",
              "    <div>\n",
              "<style scoped>\n",
              "    .dataframe tbody tr th:only-of-type {\n",
              "        vertical-align: middle;\n",
              "    }\n",
              "\n",
              "    .dataframe tbody tr th {\n",
              "        vertical-align: top;\n",
              "    }\n",
              "\n",
              "    .dataframe thead th {\n",
              "        text-align: right;\n",
              "    }\n",
              "</style>\n",
              "<table border=\"1\" class=\"dataframe\">\n",
              "  <thead>\n",
              "    <tr style=\"text-align: right;\">\n",
              "      <th></th>\n",
              "      <th>Name</th>\n",
              "      <th>Age</th>\n",
              "      <th>Address</th>\n",
              "      <th>Qualification</th>\n",
              "    </tr>\n",
              "  </thead>\n",
              "  <tbody>\n",
              "    <tr>\n",
              "      <th>0</th>\n",
              "      <td>Jai</td>\n",
              "      <td>27</td>\n",
              "      <td>Delhi</td>\n",
              "      <td>Msc</td>\n",
              "    </tr>\n",
              "  </tbody>\n",
              "</table>\n",
              "</div>\n",
              "    <div class=\"colab-df-buttons\">\n",
              "\n",
              "  <div class=\"colab-df-container\">\n",
              "    <button class=\"colab-df-convert\" onclick=\"convertToInteractive('df-d6c6c5b6-6e3a-4d5d-88da-b2870dc44c94')\"\n",
              "            title=\"Convert this dataframe to an interactive table.\"\n",
              "            style=\"display:none;\">\n",
              "\n",
              "  <svg xmlns=\"http://www.w3.org/2000/svg\" height=\"24px\" viewBox=\"0 -960 960 960\">\n",
              "    <path d=\"M120-120v-720h720v720H120Zm60-500h600v-160H180v160Zm220 220h160v-160H400v160Zm0 220h160v-160H400v160ZM180-400h160v-160H180v160Zm440 0h160v-160H620v160ZM180-180h160v-160H180v160Zm440 0h160v-160H620v160Z\"/>\n",
              "  </svg>\n",
              "    </button>\n",
              "\n",
              "  <style>\n",
              "    .colab-df-container {\n",
              "      display:flex;\n",
              "      gap: 12px;\n",
              "    }\n",
              "\n",
              "    .colab-df-convert {\n",
              "      background-color: #E8F0FE;\n",
              "      border: none;\n",
              "      border-radius: 50%;\n",
              "      cursor: pointer;\n",
              "      display: none;\n",
              "      fill: #1967D2;\n",
              "      height: 32px;\n",
              "      padding: 0 0 0 0;\n",
              "      width: 32px;\n",
              "    }\n",
              "\n",
              "    .colab-df-convert:hover {\n",
              "      background-color: #E2EBFA;\n",
              "      box-shadow: 0px 1px 2px rgba(60, 64, 67, 0.3), 0px 1px 3px 1px rgba(60, 64, 67, 0.15);\n",
              "      fill: #174EA6;\n",
              "    }\n",
              "\n",
              "    .colab-df-buttons div {\n",
              "      margin-bottom: 4px;\n",
              "    }\n",
              "\n",
              "    [theme=dark] .colab-df-convert {\n",
              "      background-color: #3B4455;\n",
              "      fill: #D2E3FC;\n",
              "    }\n",
              "\n",
              "    [theme=dark] .colab-df-convert:hover {\n",
              "      background-color: #434B5C;\n",
              "      box-shadow: 0px 1px 3px 1px rgba(0, 0, 0, 0.15);\n",
              "      filter: drop-shadow(0px 1px 2px rgba(0, 0, 0, 0.3));\n",
              "      fill: #FFFFFF;\n",
              "    }\n",
              "  </style>\n",
              "\n",
              "    <script>\n",
              "      const buttonEl =\n",
              "        document.querySelector('#df-d6c6c5b6-6e3a-4d5d-88da-b2870dc44c94 button.colab-df-convert');\n",
              "      buttonEl.style.display =\n",
              "        google.colab.kernel.accessAllowed ? 'block' : 'none';\n",
              "\n",
              "      async function convertToInteractive(key) {\n",
              "        const element = document.querySelector('#df-d6c6c5b6-6e3a-4d5d-88da-b2870dc44c94');\n",
              "        const dataTable =\n",
              "          await google.colab.kernel.invokeFunction('convertToInteractive',\n",
              "                                                    [key], {});\n",
              "        if (!dataTable) return;\n",
              "\n",
              "        const docLinkHtml = 'Like what you see? Visit the ' +\n",
              "          '<a target=\"_blank\" href=https://colab.research.google.com/notebooks/data_table.ipynb>data table notebook</a>'\n",
              "          + ' to learn more about interactive tables.';\n",
              "        element.innerHTML = '';\n",
              "        dataTable['output_type'] = 'display_data';\n",
              "        await google.colab.output.renderOutput(dataTable, element);\n",
              "        const docLink = document.createElement('div');\n",
              "        docLink.innerHTML = docLinkHtml;\n",
              "        element.appendChild(docLink);\n",
              "      }\n",
              "    </script>\n",
              "  </div>\n",
              "\n",
              "    </div>\n",
              "  </div>\n"
            ],
            "application/vnd.google.colaboratory.intrinsic+json": {
              "type": "dataframe",
              "summary": "{\n  \"name\": \"df\",\n  \"rows\": 1,\n  \"fields\": [\n    {\n      \"column\": \"Name\",\n      \"properties\": {\n        \"dtype\": \"string\",\n        \"num_unique_values\": 1,\n        \"samples\": [\n          \"Jai\"\n        ],\n        \"semantic_type\": \"\",\n        \"description\": \"\"\n      }\n    },\n    {\n      \"column\": \"Age\",\n      \"properties\": {\n        \"dtype\": \"number\",\n        \"std\": null,\n        \"min\": 27,\n        \"max\": 27,\n        \"num_unique_values\": 1,\n        \"samples\": [\n          27\n        ],\n        \"semantic_type\": \"\",\n        \"description\": \"\"\n      }\n    },\n    {\n      \"column\": \"Address\",\n      \"properties\": {\n        \"dtype\": \"string\",\n        \"num_unique_values\": 1,\n        \"samples\": [\n          \"Delhi\"\n        ],\n        \"semantic_type\": \"\",\n        \"description\": \"\"\n      }\n    },\n    {\n      \"column\": \"Qualification\",\n      \"properties\": {\n        \"dtype\": \"string\",\n        \"num_unique_values\": 1,\n        \"samples\": [\n          \"Msc\"\n        ],\n        \"semantic_type\": \"\",\n        \"description\": \"\"\n      }\n    }\n  ]\n}"
            }
          },
          "metadata": {},
          "execution_count": 5
        }
      ]
    },
    {
      "cell_type": "code",
      "source": [
        "print(df.sample(n=3))"
      ],
      "metadata": {
        "colab": {
          "base_uri": "https://localhost:8080/"
        },
        "id": "f1DelM1057oj",
        "outputId": "f4f7bf57-299a-42fe-a641-092ec2bc9fcb"
      },
      "execution_count": null,
      "outputs": [
        {
          "output_type": "stream",
          "name": "stdout",
          "text": [
            "    Name  Age  Address Qualification\n",
            "0    Jai   27    Delhi           Msc\n",
            "3   Anuj   32  Kannauj           Phd\n",
            "4  Geeku   15    Noida          10th\n"
          ]
        }
      ]
    },
    {
      "cell_type": "code",
      "source": [
        "print(df.sample(frac=0.5))"
      ],
      "metadata": {
        "colab": {
          "base_uri": "https://localhost:8080/"
        },
        "id": "YSgMFVSb6DdJ",
        "outputId": "11bc8ed9-4446-48e7-9ea1-e6591f5f52c2"
      },
      "execution_count": null,
      "outputs": [
        {
          "output_type": "stream",
          "name": "stdout",
          "text": [
            "    Name  Age Address Qualification\n",
            "0    Jai   27   Delhi           Msc\n",
            "4  Geeku   15   Noida          10th\n"
          ]
        }
      ]
    },
    {
      "cell_type": "code",
      "source": [
        "df1 = df.sample(frac=0.7)\n",
        "print(df1)"
      ],
      "metadata": {
        "colab": {
          "base_uri": "https://localhost:8080/"
        },
        "id": "STWheRhM6X8p",
        "outputId": "79a143ac-077b-41a2-f304-c2af7d89da66"
      },
      "execution_count": null,
      "outputs": [
        {
          "output_type": "stream",
          "name": "stdout",
          "text": [
            "     Name  Age  Address Qualification\n",
            "1  Princi   24   Kanpur            MA\n",
            "3    Anuj   32  Kannauj           Phd\n",
            "0     Jai   27    Delhi           Msc\n",
            "4   Geeku   15    Noida          10th\n"
          ]
        }
      ]
    },
    {
      "cell_type": "code",
      "source": [
        "df2 = df1.sample(frac=0.5)\n",
        "print(df2)"
      ],
      "metadata": {
        "colab": {
          "base_uri": "https://localhost:8080/"
        },
        "id": "CoX4b5hu6hs-",
        "outputId": "cb4d0455-c9e9-4f95-d485-c5f05ae4d6ef"
      },
      "execution_count": null,
      "outputs": [
        {
          "output_type": "stream",
          "name": "stdout",
          "text": [
            "   Name  Age  Address Qualification\n",
            "3  Anuj   32  Kannauj           Phd\n",
            "0   Jai   27    Delhi           Msc\n"
          ]
        }
      ]
    },
    {
      "cell_type": "code",
      "source": [
        "print(df.sample(n=6, replace= False))"
      ],
      "metadata": {
        "colab": {
          "base_uri": "https://localhost:8080/"
        },
        "id": "sTAxkNnw68TK",
        "outputId": "7116bdb3-675b-4e63-96bc-235b4cd3d6cc"
      },
      "execution_count": null,
      "outputs": [
        {
          "output_type": "stream",
          "name": "stdout",
          "text": [
            "     Name  Age    Address Qualification\n",
            "2  Gaurav   22  Allahabad           MCA\n"
          ]
        }
      ]
    },
    {
      "cell_type": "code",
      "source": [
        "test_weights = [0.2, 0.2, 0.2, 0.4]\n",
        "\n",
        "df1.sample(n=3, weights=test_weights)\n",
        "print(df1)"
      ],
      "metadata": {
        "colab": {
          "base_uri": "https://localhost:8080/"
        },
        "id": "PnPhkyNQ9HU-",
        "outputId": "05ca409c-7654-4b2f-a90c-0ba74d7ef1a3"
      },
      "execution_count": null,
      "outputs": [
        {
          "output_type": "stream",
          "name": "stdout",
          "text": [
            "     Name  Age  Address Qualification\n",
            "1  Princi   24   Kanpur            MA\n",
            "3    Anuj   32  Kannauj           Phd\n",
            "0     Jai   27    Delhi           Msc\n",
            "4   Geeku   15    Noida          10th\n"
          ]
        }
      ]
    },
    {
      "cell_type": "code",
      "source": [
        "df1.sample(axis=0)\n",
        "print(df1)"
      ],
      "metadata": {
        "colab": {
          "base_uri": "https://localhost:8080/"
        },
        "id": "gtO3puXf-IXZ",
        "outputId": "71e2f1cf-18ab-4996-bb4e-da92035883c5"
      },
      "execution_count": null,
      "outputs": [
        {
          "output_type": "stream",
          "name": "stdout",
          "text": [
            "     Name  Age  Address Qualification\n",
            "1  Princi   24   Kanpur            MA\n",
            "3    Anuj   32  Kannauj           Phd\n",
            "0     Jai   27    Delhi           Msc\n",
            "4   Geeku   15    Noida          10th\n"
          ]
        }
      ]
    },
    {
      "cell_type": "markdown",
      "source": [
        "**set column as index**"
      ],
      "metadata": {
        "id": "ItxAN2k6_yzh"
      }
    },
    {
      "cell_type": "code",
      "source": [
        "import pandas as pd\n",
        "\n",
        "# Creating a dict of lists\n",
        "data = {'Name':[\"Akash\", \"Geeku\", \"Pankaj\", \"Sumitra\",\"Ramlal\"],\n",
        "       'Branch':[\"B.Tech\", \"MBA\", \"BCA\", \"B.Tech\", \"BCA\"],\n",
        "       'Score':[\"80\",\"90\",\"60\", \"30\", \"50\"],\n",
        "       'Result': [\"Pass\",\"Pass\",\"Pass\",\"Fail\",\"Fail\"]}\n",
        "\n",
        "# Creating a dataframe\n",
        "df = pd.DataFrame(data)\n",
        "print(df)"
      ],
      "metadata": {
        "colab": {
          "base_uri": "https://localhost:8080/"
        },
        "id": "FjvsC_pg_1T8",
        "outputId": "970a21ae-eb9a-446e-a178-a29226f4f468"
      },
      "execution_count": null,
      "outputs": [
        {
          "output_type": "stream",
          "name": "stdout",
          "text": [
            "      Name  Branch Score Result\n",
            "0    Akash  B.Tech    80   Pass\n",
            "1    Geeku     MBA    90   Pass\n",
            "2   Pankaj     BCA    60   Pass\n",
            "3  Sumitra  B.Tech    30   Fail\n",
            "4   Ramlal     BCA    50   Fail\n"
          ]
        }
      ]
    },
    {
      "cell_type": "code",
      "source": [
        "print(df.set_index('Name'))"
      ],
      "metadata": {
        "colab": {
          "base_uri": "https://localhost:8080/"
        },
        "id": "uzvrL6x-_5gP",
        "outputId": "fbe045ac-5b7a-4601-f58a-0d07bad1c328"
      },
      "execution_count": null,
      "outputs": [
        {
          "output_type": "stream",
          "name": "stdout",
          "text": [
            "         Branch Score Result\n",
            "Name                        \n",
            "Akash    B.Tech    80   Pass\n",
            "Geeku       MBA    90   Pass\n",
            "Pankaj      BCA    60   Pass\n",
            "Sumitra  B.Tech    30   Fail\n",
            "Ramlal      BCA    50   Fail\n"
          ]
        }
      ]
    },
    {
      "cell_type": "code",
      "source": [
        "df.index.name = None\n",
        "\n",
        "print(df)"
      ],
      "metadata": {
        "colab": {
          "base_uri": "https://localhost:8080/"
        },
        "id": "P1amqT15ADcm",
        "outputId": "486064d3-271a-4423-924c-7b383ca4d8f2"
      },
      "execution_count": null,
      "outputs": [
        {
          "output_type": "stream",
          "name": "stdout",
          "text": [
            "         Branch Score Result\n",
            "Akash    B.Tech    80   Pass\n",
            "Geeku       MBA    90   Pass\n",
            "Pankaj      BCA    60   Pass\n",
            "Sumitra  B.Tech    30   Fail\n",
            "Ramlal      BCA    50   Fail\n"
          ]
        }
      ]
    },
    {
      "cell_type": "code",
      "source": [
        "student_details = {'Name':['Raj', 'Raj', 'Raj', 'Aravind', 'Aravind', 'Aravind',\n",
        "                             'John', 'John', 'John', 'Arjun', 'Arjun', 'Arjun'],\n",
        "                   'Subject':['Maths', 'Physics', 'Chemistry', 'Maths', 'Physics',\n",
        "                             'Chemistry', 'Maths', 'Physics', 'Chemistry', 'Maths',\n",
        "                                                           'Physics', 'Chemistry'],\n",
        "                   'Marks':[80, 90, 75, 60, 40, 60, 80, 55, 100, 90, 75, 70]\n",
        "               }\n",
        "\n",
        "# Convert dictionary to a DataFrame\n",
        "df = pd.DataFrame(student_details)\n",
        "print(df)"
      ],
      "metadata": {
        "colab": {
          "base_uri": "https://localhost:8080/"
        },
        "id": "8eQMbcbgNq5w",
        "outputId": "c0433ea1-9588-4f2b-8677-6b6b7f1e18b5"
      },
      "execution_count": null,
      "outputs": [
        {
          "output_type": "stream",
          "name": "stdout",
          "text": [
            "       Name    Subject  Marks\n",
            "0       Raj      Maths     80\n",
            "1       Raj    Physics     90\n",
            "2       Raj  Chemistry     75\n",
            "3   Aravind      Maths     60\n",
            "4   Aravind    Physics     40\n",
            "5   Aravind  Chemistry     60\n",
            "6      John      Maths     80\n",
            "7      John    Physics     55\n",
            "8      John  Chemistry    100\n",
            "9     Arjun      Maths     90\n",
            "10    Arjun    Physics     75\n",
            "11    Arjun  Chemistry     70\n"
          ]
        }
      ]
    },
    {
      "cell_type": "code",
      "source": [
        "df = df.set_index('Subject')\n",
        "\n",
        "print(df)"
      ],
      "metadata": {
        "colab": {
          "base_uri": "https://localhost:8080/"
        },
        "id": "AKEs7yvENs5N",
        "outputId": "ae33eaf5-9528-4967-abd9-6f419e683f7a"
      },
      "execution_count": null,
      "outputs": [
        {
          "output_type": "stream",
          "name": "stdout",
          "text": [
            "              Name  Marks\n",
            "Subject                  \n",
            "Maths          Raj     80\n",
            "Physics        Raj     90\n",
            "Chemistry      Raj     75\n",
            "Maths      Aravind     60\n",
            "Physics    Aravind     40\n",
            "Chemistry  Aravind     60\n",
            "Maths         John     80\n",
            "Physics       John     55\n",
            "Chemistry     John    100\n",
            "Maths        Arjun     90\n",
            "Physics      Arjun     75\n",
            "Chemistry    Arjun     70\n"
          ]
        }
      ]
    },
    {
      "cell_type": "code",
      "source": [
        "df.index.name= None\n",
        "\n",
        "print(df)"
      ],
      "metadata": {
        "colab": {
          "base_uri": "https://localhost:8080/"
        },
        "id": "UpIOecw3N2Z0",
        "outputId": "67764a2d-df2a-48f2-9fd5-567e26b6c048"
      },
      "execution_count": null,
      "outputs": [
        {
          "output_type": "stream",
          "name": "stdout",
          "text": [
            "              Name  Marks\n",
            "Maths          Raj     80\n",
            "Physics        Raj     90\n",
            "Chemistry      Raj     75\n",
            "Maths      Aravind     60\n",
            "Physics    Aravind     40\n",
            "Chemistry  Aravind     60\n",
            "Maths         John     80\n",
            "Physics       John     55\n",
            "Chemistry     John    100\n",
            "Maths        Arjun     90\n",
            "Physics      Arjun     75\n",
            "Chemistry    Arjun     70\n"
          ]
        }
      ]
    },
    {
      "cell_type": "code",
      "source": [
        "df['ranking_index']= df['Marks'].rank(ascending=1)\n",
        "print(df.set_index('ranking_index'))\n"
      ],
      "metadata": {
        "colab": {
          "base_uri": "https://localhost:8080/"
        },
        "id": "iHFXRi8WOBin",
        "outputId": "b80f9030-6b56-4364-daff-4e02d16ee9a2"
      },
      "execution_count": null,
      "outputs": [
        {
          "output_type": "stream",
          "name": "stdout",
          "text": [
            "                  Name    Subject  Marks\n",
            "ranking_index                           \n",
            "8.5                Raj      Maths     80\n",
            "10.5               Raj    Physics     90\n",
            "6.5                Raj  Chemistry     75\n",
            "3.5            Aravind      Maths     60\n",
            "1.0            Aravind    Physics     40\n",
            "3.5            Aravind  Chemistry     60\n",
            "8.5               John      Maths     80\n",
            "2.0               John    Physics     55\n",
            "12.0              John  Chemistry    100\n",
            "10.5             Arjun      Maths     90\n",
            "6.5              Arjun    Physics     75\n",
            "5.0              Arjun  Chemistry     70\n"
          ]
        }
      ]
    },
    {
      "cell_type": "code",
      "source": [
        "df.sort_index()\n",
        "print(df)"
      ],
      "metadata": {
        "colab": {
          "base_uri": "https://localhost:8080/"
        },
        "id": "-Xv9kBWwORsM",
        "outputId": "dc6ad183-5bc9-4f76-a143-041d31e27fbd"
      },
      "execution_count": null,
      "outputs": [
        {
          "output_type": "stream",
          "name": "stdout",
          "text": [
            "       Name    Subject  Marks  ranking_index\n",
            "0       Raj      Maths     80            8.5\n",
            "1       Raj    Physics     90           10.5\n",
            "2       Raj  Chemistry     75            6.5\n",
            "3   Aravind      Maths     60            3.5\n",
            "4   Aravind    Physics     40            1.0\n",
            "5   Aravind  Chemistry     60            3.5\n",
            "6      John      Maths     80            8.5\n",
            "7      John    Physics     55            2.0\n",
            "8      John  Chemistry    100           12.0\n",
            "9     Arjun      Maths     90           10.5\n",
            "10    Arjun    Physics     75            6.5\n",
            "11    Arjun  Chemistry     70            5.0\n"
          ]
        }
      ]
    },
    {
      "cell_type": "code",
      "source": [
        "import pandas as pd\n",
        "\n",
        "# Creating a dict of lists\n",
        "data = {'name':[\"Akash\", \"Geeku\", \"Pankaj\", \"Sumitra\", \"Ramlal\"],\n",
        "       'Branch':[\"B.Tech\", \"MBA\", \"BCA\", \"B.Tech\", \"BCA\"],\n",
        "       'Score':[\"80\", \"90\", \"60\", \"30\", \"50\"],\n",
        "       'Result': [\"Pass\", \"Pass\", \"Pass\", \"Fail\", \"Fail\"]}\n",
        "\n",
        "df = pd.DataFrame(data)\n",
        "print(df)"
      ],
      "metadata": {
        "colab": {
          "base_uri": "https://localhost:8080/"
        },
        "id": "TG0sxwjBBHwI",
        "outputId": "68077d08-cf6b-4688-b286-347a38c7ea35"
      },
      "execution_count": null,
      "outputs": [
        {
          "output_type": "stream",
          "name": "stdout",
          "text": [
            "      name  Branch Score Result\n",
            "0    Akash  B.Tech    80   Pass\n",
            "1    Geeku     MBA    90   Pass\n",
            "2   Pankaj     BCA    60   Pass\n",
            "3  Sumitra  B.Tech    30   Fail\n",
            "4   Ramlal     BCA    50   Fail\n"
          ]
        }
      ]
    },
    {
      "cell_type": "code",
      "source": [
        "df= df.pivot(index ='Result', columns ='name')\n",
        "\n",
        "print(df)"
      ],
      "metadata": {
        "colab": {
          "base_uri": "https://localhost:8080/"
        },
        "id": "8TN3Mh2CE5Tr",
        "outputId": "f79d8538-dcac-4410-952d-bb791a9f40fe"
      },
      "execution_count": null,
      "outputs": [
        {
          "output_type": "stream",
          "name": "stdout",
          "text": [
            "        Branch                             Score                            \n",
            "name     Akash Geeku Pankaj Ramlal Sumitra Akash Geeku Pankaj Ramlal Sumitra\n",
            "Result                                                                      \n",
            "Fail       NaN   NaN    NaN    BCA  B.Tech   NaN   NaN    NaN     50      30\n",
            "Pass    B.Tech   MBA    BCA    NaN     NaN    80    90     60    NaN     NaN\n"
          ]
        }
      ]
    },
    {
      "cell_type": "code",
      "source": [
        "import pandas as pd\n",
        "\n",
        "# Creating the dataframe with dict of lists\n",
        "df = pd.DataFrame({'Name': ['Geeks', 'Peter', 'James', 'Jack', 'Lisa'],\n",
        "                   'Team': ['Boston', 'Boston', 'Boston', 'Chele', 'Barse'],\n",
        "                   'Position': ['PG', 'PG', 'UG', 'PG', 'UG'],\n",
        "                   'Number': [3, 4, 7, 11, 5],\n",
        "                   'Age': [33, 25, 34, 35, 28],\n",
        "                   'Height': ['6-2', '6-4', '5-9', '6-1', '5-8'],\n",
        "                   'Weight': [89, 79, 113, 78, 84],\n",
        "                   'College': ['MIT', 'MIT', 'MIT', 'Stanford', 'Stanford'],\n",
        "                   'Salary': [99999, 99994, 89999, 78889, 87779]},\n",
        "                   index =['ind1', 'ind2', 'ind3', 'ind4', 'ind5'])\n",
        "\n",
        "print(df)"
      ],
      "metadata": {
        "colab": {
          "base_uri": "https://localhost:8080/"
        },
        "id": "u5-M7xmpFHxH",
        "outputId": "8f30a6b9-7f3f-4c14-853b-1d320dd906d6"
      },
      "execution_count": null,
      "outputs": [
        {
          "output_type": "stream",
          "name": "stdout",
          "text": [
            "       Name    Team Position  Number  Age Height  Weight   College  Salary\n",
            "ind1  Geeks  Boston       PG       3   33    6-2      89       MIT   99999\n",
            "ind2  Peter  Boston       PG       4   25    6-4      79       MIT   99994\n",
            "ind3  James  Boston       UG       7   34    5-9     113       MIT   89999\n",
            "ind4   Jack   Chele       PG      11   35    6-1      78  Stanford   78889\n",
            "ind5   Lisa   Barse       UG       5   28    5-8      84  Stanford   87779\n"
          ]
        }
      ]
    },
    {
      "cell_type": "markdown",
      "source": [
        "**Value Counts**"
      ],
      "metadata": {
        "id": "CPL0MKRcvy6x"
      }
    },
    {
      "cell_type": "code",
      "source": [
        "df1 = df['Position'].value_counts()\n",
        "print(df1)"
      ],
      "metadata": {
        "colab": {
          "base_uri": "https://localhost:8080/"
        },
        "id": "VwVWxv8ivyfO",
        "outputId": "bdbb6525-1cc0-4e24-d1cb-a379c5199cc1"
      },
      "execution_count": null,
      "outputs": [
        {
          "output_type": "stream",
          "name": "stdout",
          "text": [
            "Position\n",
            "PG    3\n",
            "UG    2\n",
            "Name: count, dtype: int64\n"
          ]
        }
      ]
    },
    {
      "cell_type": "code",
      "source": [
        "df1 = df['Position'].str.contains(\"PG\")\n",
        "print(df1)"
      ],
      "metadata": {
        "colab": {
          "base_uri": "https://localhost:8080/"
        },
        "id": "2bf2NJ_3FYL1",
        "outputId": "b3ce2e8a-ee67-4eac-a8ad-d647be89a564"
      },
      "execution_count": null,
      "outputs": [
        {
          "output_type": "stream",
          "name": "stdout",
          "text": [
            "ind1     True\n",
            "ind2     True\n",
            "ind3    False\n",
            "ind4     True\n",
            "ind5    False\n",
            "Name: Position, dtype: bool\n"
          ]
        }
      ]
    },
    {
      "cell_type": "markdown",
      "source": [
        "**by default str.contains is case sensitive. so we want to make it case insensitive.**"
      ],
      "metadata": {
        "id": "lxPu_Lr-uYAT"
      }
    },
    {
      "cell_type": "code",
      "source": [
        "df1 = df[df['Position'].str.contains(\"PG\", case = False)]\n",
        "print(df1)"
      ],
      "metadata": {
        "colab": {
          "base_uri": "https://localhost:8080/"
        },
        "id": "sWP0bb6CuExD",
        "outputId": "19efdbbe-162c-4abd-b2a8-ecc353d4e184"
      },
      "execution_count": null,
      "outputs": [
        {
          "output_type": "stream",
          "name": "stdout",
          "text": [
            "       Name    Team Position  Number  Age Height  Weight   College  Salary\n",
            "ind1  Geeks  Boston       PG       3   33    6-2      89       MIT   99999\n",
            "ind2  Peter  Boston       PG       4   25    6-4      79       MIT   99994\n",
            "ind4   Jack   Chele       PG      11   35    6-1      78  Stanford   78889\n"
          ]
        }
      ]
    },
    {
      "cell_type": "code",
      "source": [
        "df1 = df[df['Position'].str.contains(\"PG\")]\n",
        "print(df1)"
      ],
      "metadata": {
        "colab": {
          "base_uri": "https://localhost:8080/"
        },
        "id": "tYeT6Yi4Ffbv",
        "outputId": "92918c8d-debb-4cd3-ead3-ea8d85e3f446"
      },
      "execution_count": null,
      "outputs": [
        {
          "output_type": "stream",
          "name": "stdout",
          "text": [
            "       Name    Team Position  Number  Age Height  Weight   College  Salary\n",
            "ind1  Geeks  Boston       PG       3   33    6-2      89       MIT   99999\n",
            "ind2  Peter  Boston       PG       4   25    6-4      79       MIT   99994\n",
            "ind4   Jack   Chele       PG      11   35    6-1      78  Stanford   78889\n"
          ]
        }
      ]
    },
    {
      "cell_type": "code",
      "source": [
        "df1 = df[df['College'].str.contains(\"MIT\") | df['Team'].str.contains(\"Boston\")]\n",
        "print(df1)"
      ],
      "metadata": {
        "colab": {
          "base_uri": "https://localhost:8080/"
        },
        "id": "AUA77z8mFnfG",
        "outputId": "19ac6891-3719-43f0-a227-23f20eb177f5"
      },
      "execution_count": null,
      "outputs": [
        {
          "output_type": "stream",
          "name": "stdout",
          "text": [
            "       Name    Team Position  Number  Age Height  Weight College  Salary\n",
            "ind1  Geeks  Boston       PG       3   33    6-2      89     MIT   99999\n",
            "ind2  Peter  Boston       PG       4   25    6-4      79     MIT   99994\n",
            "ind3  James  Boston       UG       7   34    5-9     113     MIT   89999\n"
          ]
        }
      ]
    },
    {
      "cell_type": "code",
      "source": [
        "df1 = df[df['College'].str.contains(\"MIT\") & df['Team'].str.contains(\"Boston\") & df['Position'].str.contains(\"PG\")]\n",
        "print(df1)"
      ],
      "metadata": {
        "colab": {
          "base_uri": "https://localhost:8080/"
        },
        "id": "C1kB6LxqF6BS",
        "outputId": "2a642493-25bd-4712-a588-6b603b21025f"
      },
      "execution_count": null,
      "outputs": [
        {
          "output_type": "stream",
          "name": "stdout",
          "text": [
            "       Name    Team Position  Number  Age Height  Weight College  Salary\n",
            "ind1  Geeks  Boston       PG       3   33    6-2      89     MIT   99999\n",
            "ind2  Peter  Boston       PG       4   25    6-4      79     MIT   99994\n"
          ]
        }
      ]
    },
    {
      "cell_type": "code",
      "source": [
        "df1 = df[df['Position'].str.contains(\"UG\") & df['College'].str.contains(\"Stanford\")]\n",
        "print(df1)"
      ],
      "metadata": {
        "colab": {
          "base_uri": "https://localhost:8080/"
        },
        "id": "2lyv1afMGKyw",
        "outputId": "08fa3c0b-1df1-462a-b9db-9d9345a05308"
      },
      "execution_count": null,
      "outputs": [
        {
          "output_type": "stream",
          "name": "stdout",
          "text": [
            "      Name   Team Position  Number  Age Height  Weight   College  Salary\n",
            "ind5  Lisa  Barse       UG       5   28    5-8      84  Stanford   87779\n"
          ]
        }
      ]
    },
    {
      "cell_type": "markdown",
      "source": [
        "**find min and max value**"
      ],
      "metadata": {
        "id": "6pNCXQLCGzUA"
      }
    },
    {
      "cell_type": "code",
      "source": [
        "import pandas as pd\n",
        "import numpy as np\n",
        "\n",
        "# data of 2018 drivers world championship\n",
        "dict1 = {'Driver': ['Hamilton', 'Vettel', 'Raikkonen',\n",
        "                    'Verstappen', 'Bottas', 'Ricciardo',\n",
        "                    'Hulkenberg', 'Perez', 'Magnussen',\n",
        "                    'Sainz', 'Alonso', 'Ocon', 'Leclerc',\n",
        "                    'Grosjean', 'Gasly', 'Vandoorne',\n",
        "                    'Ericsson', 'Stroll', 'Hartley', 'Sirotkin'],\n",
        "\n",
        "         'Points': [408, 320, 251, 249, 247, 170, 69, 62, 56,\n",
        "                    53, 50, 49, 39, 37, 29, 12, 9, 6, 4, 1],\n",
        "\n",
        "         'Age': [33, 31, 39, 21, 29, 29, 31, 28, 26, 24, 37,\n",
        "                 22, 21, 32, 22, 26, 28, 20, 29, 23]}\n",
        "\n",
        "# creating dataframe using DataFrame constructor\n",
        "df = pd.DataFrame(dict1)\n",
        "print(df)"
      ],
      "metadata": {
        "colab": {
          "base_uri": "https://localhost:8080/"
        },
        "id": "fRxv1J-CGyWP",
        "outputId": "e3a26488-30a4-4701-c9dc-c2e3ecc70d12"
      },
      "execution_count": null,
      "outputs": [
        {
          "output_type": "stream",
          "name": "stdout",
          "text": [
            "        Driver  Points  Age\n",
            "0     Hamilton     408   33\n",
            "1       Vettel     320   31\n",
            "2    Raikkonen     251   39\n",
            "3   Verstappen     249   21\n",
            "4       Bottas     247   29\n",
            "5    Ricciardo     170   29\n",
            "6   Hulkenberg      69   31\n",
            "7        Perez      62   28\n",
            "8    Magnussen      56   26\n",
            "9        Sainz      53   24\n",
            "10      Alonso      50   37\n",
            "11        Ocon      49   22\n",
            "12     Leclerc      39   21\n",
            "13    Grosjean      37   32\n",
            "14       Gasly      29   22\n",
            "15   Vandoorne      12   26\n",
            "16    Ericsson       9   28\n",
            "17      Stroll       6   20\n",
            "18     Hartley       4   29\n",
            "19    Sirotkin       1   23\n"
          ]
        }
      ]
    },
    {
      "cell_type": "code",
      "source": [
        "print(df.max())"
      ],
      "metadata": {
        "colab": {
          "base_uri": "https://localhost:8080/"
        },
        "id": "CCikWc6uG91G",
        "outputId": "f88d9be9-cc24-455d-fc87-7a18175a2df4"
      },
      "execution_count": null,
      "outputs": [
        {
          "output_type": "stream",
          "name": "stdout",
          "text": [
            "Driver    Vettel\n",
            "Points       408\n",
            "Age           39\n",
            "dtype: object\n"
          ]
        }
      ]
    },
    {
      "cell_type": "code",
      "source": [
        "print(df[df.Points==df.Points.max()])"
      ],
      "metadata": {
        "colab": {
          "base_uri": "https://localhost:8080/"
        },
        "id": "SG9VGLV6HUUD",
        "outputId": "f3c51e4c-4059-4400-81b9-2f18ff2e0ef7"
      },
      "execution_count": null,
      "outputs": [
        {
          "output_type": "stream",
          "name": "stdout",
          "text": [
            "     Driver  Points  Age\n",
            "0  Hamilton     408   33\n"
          ]
        }
      ]
    },
    {
      "cell_type": "code",
      "source": [
        "print(df[df.Age==df.Age.max()])"
      ],
      "metadata": {
        "colab": {
          "base_uri": "https://localhost:8080/"
        },
        "id": "9ollu5x8KzR2",
        "outputId": "1d78a0b9-b4bb-4948-ab19-cab992ad24fc"
      },
      "execution_count": null,
      "outputs": [
        {
          "output_type": "stream",
          "name": "stdout",
          "text": [
            "      Driver  Points  Age\n",
            "2  Raikkonen     251   39\n"
          ]
        }
      ]
    },
    {
      "cell_type": "code",
      "source": [
        "print(df[df.Points== df.Points.min()])"
      ],
      "metadata": {
        "colab": {
          "base_uri": "https://localhost:8080/"
        },
        "id": "PZlrjDlXLDeb",
        "outputId": "01aa3a53-3c3a-4373-d9bd-cd0420dd4503"
      },
      "execution_count": null,
      "outputs": [
        {
          "output_type": "stream",
          "name": "stdout",
          "text": [
            "      Driver  Points  Age\n",
            "19  Sirotkin       1   23\n"
          ]
        }
      ]
    },
    {
      "cell_type": "markdown",
      "source": [
        "**Arrange on the basis of ranking**"
      ],
      "metadata": {
        "id": "OnJeCxfXL8dT"
      }
    },
    {
      "cell_type": "code",
      "source": [
        "\n",
        "import pandas as pd\n",
        "\n",
        "# Define the dictionary for converting to dataframe\n",
        "movies = {'Name': ['The Godfather', 'Bird Box', 'Fight Club'],\n",
        "         'Year': ['1972', '2018', '1999'],\n",
        "         'Rating': ['9.2', '6.8', '8.8']}\n",
        "\n",
        "df = pd.DataFrame(movies)\n",
        "print(df)"
      ],
      "metadata": {
        "colab": {
          "base_uri": "https://localhost:8080/"
        },
        "id": "RIsPJG_8MBUq",
        "outputId": "dd795c96-f881-41d8-f9b9-26138d486694"
      },
      "execution_count": null,
      "outputs": [
        {
          "output_type": "stream",
          "name": "stdout",
          "text": [
            "            Name  Year Rating\n",
            "0  The Godfather  1972    9.2\n",
            "1       Bird Box  2018    6.8\n",
            "2     Fight Club  1999    8.8\n"
          ]
        }
      ]
    },
    {
      "cell_type": "code",
      "source": [
        "df['Rating_Rank'] = df['Rating'].rank(ascending = 1)\n",
        "\n",
        "# Set the index to newly created column, Rating_Rank\n",
        "df = df.set_index('Rating_Rank')\n",
        "print(df)"
      ],
      "metadata": {
        "colab": {
          "base_uri": "https://localhost:8080/"
        },
        "id": "beheZM9_ME5i",
        "outputId": "3181db48-bfab-4aa2-d671-b57dfb5a69ac"
      },
      "execution_count": null,
      "outputs": [
        {
          "output_type": "stream",
          "name": "stdout",
          "text": [
            "                      Name  Year Rating\n",
            "Rating_Rank                            \n",
            "3.0          The Godfather  1972    9.2\n",
            "1.0               Bird Box  2018    6.8\n",
            "2.0             Fight Club  1999    8.8\n"
          ]
        }
      ]
    },
    {
      "cell_type": "markdown",
      "source": [
        "**Sort Index**"
      ],
      "metadata": {
        "id": "TudN_SuCNWby"
      }
    },
    {
      "cell_type": "code",
      "source": [
        "df = df.sort_index()\n",
        "print(df)"
      ],
      "metadata": {
        "colab": {
          "base_uri": "https://localhost:8080/"
        },
        "id": "Ti_ACbrfNZEl",
        "outputId": "a90e21d3-372d-49cf-a884-7aea242c0864"
      },
      "execution_count": null,
      "outputs": [
        {
          "output_type": "stream",
          "name": "stdout",
          "text": [
            "                      Name  Year Rating\n",
            "Rating_Rank                            \n",
            "1.0               Bird Box  2018    6.8\n",
            "2.0             Fight Club  1999    8.8\n",
            "3.0          The Godfather  1972    9.2\n"
          ]
        }
      ]
    },
    {
      "cell_type": "code",
      "source": [
        "# importing pandas as pd\n",
        "import pandas as pd\n",
        "\n",
        "# Create the dataframe\n",
        "df = pd.DataFrame({'Date':['10/2/2011', '11/2/2011', '12/2/2011', '13/2/11'],\n",
        "                    'Event':['Music', 'Poetry', 'Theatre', 'Comedy'],\n",
        "                    'Cost':[10000, 5000, 15000, 2000]})\n",
        "\n",
        "# Print the dataframe\n",
        "print(df)"
      ],
      "metadata": {
        "colab": {
          "base_uri": "https://localhost:8080/"
        },
        "id": "gCv9EeTXPbuO",
        "outputId": "af05aafb-d9ec-4aa3-ece8-6cf83404c5e8"
      },
      "execution_count": null,
      "outputs": [
        {
          "output_type": "stream",
          "name": "stdout",
          "text": [
            "        Date    Event   Cost\n",
            "0  10/2/2011    Music  10000\n",
            "1  11/2/2011   Poetry   5000\n",
            "2  12/2/2011  Theatre  15000\n",
            "3    13/2/11   Comedy   2000\n"
          ]
        }
      ]
    },
    {
      "cell_type": "code",
      "source": [
        "\n",
        "import pandas as pd\n",
        "\n",
        "# create a sample data frame\n",
        "data = {'name': ['Alice', 'Bob', 'Charlie', 'Dave'],\n",
        "        'age': [25, 30, 35, 40],\n",
        "        'gender': ['F', 'M', 'M', 'M']}\n",
        "df = pd.DataFrame(data)\n",
        "\n",
        "print(df)"
      ],
      "metadata": {
        "colab": {
          "base_uri": "https://localhost:8080/"
        },
        "id": "esl1B0vSQvFN",
        "outputId": "e019610b-0a0e-40f7-bbb4-66c4c57a5278"
      },
      "execution_count": null,
      "outputs": [
        {
          "output_type": "stream",
          "name": "stdout",
          "text": [
            "      name  age gender\n",
            "0    Alice   25      F\n",
            "1      Bob   30      M\n",
            "2  Charlie   35      M\n",
            "3     Dave   40      M\n"
          ]
        }
      ]
    },
    {
      "cell_type": "code",
      "source": [
        "df= df[df['age']>=30]\n",
        "\n",
        "print(df)"
      ],
      "metadata": {
        "colab": {
          "base_uri": "https://localhost:8080/"
        },
        "id": "XZ_jV_G6QvQn",
        "outputId": "6cf20ddd-0b53-4c21-edfd-e76205cf1143"
      },
      "execution_count": null,
      "outputs": [
        {
          "output_type": "stream",
          "name": "stdout",
          "text": [
            "      name  age gender\n",
            "1      Bob   30      M\n",
            "2  Charlie   35      M\n",
            "3     Dave   40      M\n"
          ]
        }
      ]
    },
    {
      "cell_type": "code",
      "source": [
        "df= df.loc[df['age']>=30]\n",
        "\n",
        "print(df)"
      ],
      "metadata": {
        "colab": {
          "base_uri": "https://localhost:8080/"
        },
        "id": "2FZDSY8HTPCV",
        "outputId": "7452278d-17a6-4be9-8ea0-1310f6fd6f51"
      },
      "execution_count": null,
      "outputs": [
        {
          "output_type": "stream",
          "name": "stdout",
          "text": [
            "      name  age gender\n",
            "1      Bob   30      M\n",
            "2  Charlie   35      M\n",
            "3     Dave   40      M\n"
          ]
        }
      ]
    },
    {
      "cell_type": "code",
      "source": [
        "condition= df['age']>=30\n",
        "\n",
        "df = df[~condition]\n",
        "print(df)"
      ],
      "metadata": {
        "colab": {
          "base_uri": "https://localhost:8080/"
        },
        "id": "Ay-56acDTU9c",
        "outputId": "68c9fffc-91f1-4a8b-af59-c72703989d5f"
      },
      "execution_count": null,
      "outputs": [
        {
          "output_type": "stream",
          "name": "stdout",
          "text": [
            "    name  age gender\n",
            "0  Alice   25      F\n"
          ]
        }
      ]
    },
    {
      "cell_type": "markdown",
      "source": [
        "**Create dataframe form specific colmn and rows**"
      ],
      "metadata": {
        "id": "ZUL2gN6KUFhz"
      }
    },
    {
      "cell_type": "code",
      "source": [
        "\n",
        "\n",
        "# Import pandas package\n",
        "import pandas as pd\n",
        "\n",
        "# Define a dictionary containing employee data\n",
        "data = {'Name':['Jai', 'Princi', 'Gaurav', 'Anuj'],\n",
        "        'Age':[27, 24, 22, 32],\n",
        "        'Address':['Delhi', 'Kanpur', 'Allahabad', 'Kannauj'],\n",
        "        'Qualification':['Msc', 'MA', 'MCA', 'Phd']}\n",
        "\n",
        "# Convert the dictionary into DataFrame\n",
        "df = pd.DataFrame(data)\n",
        "print(df)"
      ],
      "metadata": {
        "colab": {
          "base_uri": "https://localhost:8080/"
        },
        "id": "UNO1SWytUNY3",
        "outputId": "21f41e56-11fe-4646-ecc3-802bb3f01b18"
      },
      "execution_count": null,
      "outputs": [
        {
          "output_type": "stream",
          "name": "stdout",
          "text": [
            "     Name  Age    Address Qualification\n",
            "0     Jai   27      Delhi           Msc\n",
            "1  Princi   24     Kanpur            MA\n",
            "2  Gaurav   22  Allahabad           MCA\n",
            "3    Anuj   32    Kannauj           Phd\n"
          ]
        }
      ]
    },
    {
      "cell_type": "code",
      "source": [
        "df = df.iloc[0:2, 1:3]\n",
        "\n",
        "print(df)"
      ],
      "metadata": {
        "colab": {
          "base_uri": "https://localhost:8080/"
        },
        "id": "qUXV6-hUUE9w",
        "outputId": "bc3aca25-3b07-41f7-bec3-5067690d1ae6"
      },
      "execution_count": null,
      "outputs": [
        {
          "output_type": "stream",
          "name": "stdout",
          "text": [
            "   Age Address\n",
            "0   27   Delhi\n",
            "1   24  Kanpur\n"
          ]
        }
      ]
    },
    {
      "cell_type": "markdown",
      "source": [
        "**Use sort to filter**"
      ],
      "metadata": {
        "id": "BnI9FdGNpY0x"
      }
    },
    {
      "cell_type": "code",
      "source": [
        "\n",
        "import pandas as pd\n",
        "\n",
        "# create a sample data frame\n",
        "data = {'name': ['Alice', 'Bob', 'Charlie', 'Dave'],\n",
        "        'age': [25, 30, 35, 40],\n",
        "        'gender': ['F', 'M', 'M', 'M']}\n",
        "df = pd.DataFrame(data)\n",
        "\n",
        "print(df)"
      ],
      "metadata": {
        "colab": {
          "base_uri": "https://localhost:8080/"
        },
        "id": "fHSRPTglpXym",
        "outputId": "6b29df59-f07c-4156-fe65-500a5cff6cc7"
      },
      "execution_count": null,
      "outputs": [
        {
          "output_type": "stream",
          "name": "stdout",
          "text": [
            "      name  age gender\n",
            "0    Alice   25      F\n",
            "1      Bob   30      M\n",
            "2  Charlie   35      M\n",
            "3     Dave   40      M\n"
          ]
        }
      ]
    },
    {
      "cell_type": "code",
      "source": [
        "df= df[df['name']=='Alice'][['age']]\n",
        "\n",
        "print(df)"
      ],
      "metadata": {
        "colab": {
          "base_uri": "https://localhost:8080/"
        },
        "id": "Wf8WAeP6OksR",
        "outputId": "20d998fc-8235-48ba-e7ad-4e0aa2a58e59"
      },
      "execution_count": null,
      "outputs": [
        {
          "output_type": "stream",
          "name": "stdout",
          "text": [
            "   age\n",
            "0   25\n"
          ]
        }
      ]
    },
    {
      "cell_type": "code",
      "source": [
        "df= df[df['name']=='Al'][['age']]\n",
        "\n",
        "print(df)"
      ],
      "metadata": {
        "colab": {
          "base_uri": "https://localhost:8080/"
        },
        "id": "KvfB2lhuOW1D",
        "outputId": "21e97f68-62d5-4e49-ac4d-3fc924f53887"
      },
      "execution_count": null,
      "outputs": [
        {
          "output_type": "stream",
          "name": "stdout",
          "text": [
            "Empty DataFrame\n",
            "Columns: [age]\n",
            "Index: []\n"
          ]
        }
      ]
    },
    {
      "cell_type": "code",
      "source": [
        "df= df[df['gender']=='M'][['name', 'age']]\n",
        "\n",
        "print(df)"
      ],
      "metadata": {
        "colab": {
          "base_uri": "https://localhost:8080/"
        },
        "id": "9N-sCfrEpeAS",
        "outputId": "f74a7c94-94c2-4fe2-fa10-90cfe5f7a9e6"
      },
      "execution_count": null,
      "outputs": [
        {
          "output_type": "stream",
          "name": "stdout",
          "text": [
            "      name  age\n",
            "1      Bob   30\n",
            "2  Charlie   35\n",
            "3     Dave   40\n"
          ]
        }
      ]
    },
    {
      "cell_type": "code",
      "source": [
        "df= df[df['gender'].isin(['M'])][['name', 'age']]\n",
        "\n",
        "print(df)"
      ],
      "metadata": {
        "colab": {
          "base_uri": "https://localhost:8080/"
        },
        "id": "j8j2EUD3qY4I",
        "outputId": "3c2cb934-4ea9-4c29-8d9b-d5333d16d846"
      },
      "execution_count": null,
      "outputs": [
        {
          "output_type": "stream",
          "name": "stdout",
          "text": [
            "      name  age\n",
            "1      Bob   30\n",
            "2  Charlie   35\n",
            "3     Dave   40\n"
          ]
        }
      ]
    },
    {
      "cell_type": "markdown",
      "source": [
        "**no of rows and coloumn**"
      ],
      "metadata": {
        "id": "f8K6CKWyrX09"
      }
    },
    {
      "cell_type": "code",
      "source": [
        "import pandas as pd\n",
        "import numpy as np\n",
        "\n",
        "# data of 2018 drivers world championship\n",
        "dict1 = {'Driver': ['Hamilton', 'Vettel', 'Raikkonen',\n",
        "                    'Verstappen', 'Bottas', 'Ricciardo',\n",
        "                    'Hulkenberg', 'Perez', 'Magnussen',\n",
        "                    'Sainz', 'Alonso', 'Ocon', 'Leclerc',\n",
        "                    'Grosjean', 'Gasly', 'Vandoorne',\n",
        "                    'Ericsson', 'Stroll', 'Hartley', 'Sirotkin'],\n",
        "\n",
        "         'Points': [408, 320, 251, 249, 247, 170, 69, 62, 56,\n",
        "                    53, 50, 49, 39, 37, 29, 12, 9, 6, 4, 1],\n",
        "\n",
        "         'Age': [33, 31, 39, 21, 29, 29, 31, 28, 26, 24, 37,\n",
        "                 22, 21, 32, 22, 26, 28, 20, 29, 23]}\n",
        "\n",
        "# creating dataframe using DataFrame constructor\n",
        "df = pd.DataFrame(dict1)\n",
        "print(df)"
      ],
      "metadata": {
        "colab": {
          "base_uri": "https://localhost:8080/"
        },
        "id": "rqC17ss0rg1t",
        "outputId": "a9c19dc0-c0e1-4c31-8a26-1c57b6546d79"
      },
      "execution_count": null,
      "outputs": [
        {
          "output_type": "stream",
          "name": "stdout",
          "text": [
            "        Driver  Points  Age\n",
            "0     Hamilton     408   33\n",
            "1       Vettel     320   31\n",
            "2    Raikkonen     251   39\n",
            "3   Verstappen     249   21\n",
            "4       Bottas     247   29\n",
            "5    Ricciardo     170   29\n",
            "6   Hulkenberg      69   31\n",
            "7        Perez      62   28\n",
            "8    Magnussen      56   26\n",
            "9        Sainz      53   24\n",
            "10      Alonso      50   37\n",
            "11        Ocon      49   22\n",
            "12     Leclerc      39   21\n",
            "13    Grosjean      37   32\n",
            "14       Gasly      29   22\n",
            "15   Vandoorne      12   26\n",
            "16    Ericsson       9   28\n",
            "17      Stroll       6   20\n",
            "18     Hartley       4   29\n",
            "19    Sirotkin       1   23\n"
          ]
        }
      ]
    },
    {
      "cell_type": "code",
      "source": [
        "print(df.dtypes)"
      ],
      "metadata": {
        "colab": {
          "base_uri": "https://localhost:8080/"
        },
        "id": "A0arAqErsFR4",
        "outputId": "bfd7cbb1-5106-4f65-9ad4-8820c7ec1c00"
      },
      "execution_count": null,
      "outputs": [
        {
          "output_type": "stream",
          "name": "stdout",
          "text": [
            "Driver    object\n",
            "Points     int64\n",
            "Age        int64\n",
            "dtype: object\n"
          ]
        }
      ]
    },
    {
      "cell_type": "code",
      "source": [
        "print(df.info())"
      ],
      "metadata": {
        "colab": {
          "base_uri": "https://localhost:8080/"
        },
        "id": "u23M5kz0sfs-",
        "outputId": "d30c9e89-2bbc-431f-ac9d-6c76e37719df"
      },
      "execution_count": null,
      "outputs": [
        {
          "output_type": "stream",
          "name": "stdout",
          "text": [
            "<class 'pandas.core.frame.DataFrame'>\n",
            "RangeIndex: 20 entries, 0 to 19\n",
            "Data columns (total 3 columns):\n",
            " #   Column  Non-Null Count  Dtype \n",
            "---  ------  --------------  ----- \n",
            " 0   Driver  20 non-null     object\n",
            " 1   Points  20 non-null     int64 \n",
            " 2   Age     20 non-null     int64 \n",
            "dtypes: int64(2), object(1)\n",
            "memory usage: 608.0+ bytes\n",
            "None\n"
          ]
        }
      ]
    },
    {
      "cell_type": "code",
      "source": [
        "print(df.isnull())"
      ],
      "metadata": {
        "colab": {
          "base_uri": "https://localhost:8080/"
        },
        "id": "MYlgA1s7sMKv",
        "outputId": "e859403c-4bf3-4136-dc0d-dee31b31575c"
      },
      "execution_count": null,
      "outputs": [
        {
          "output_type": "stream",
          "name": "stdout",
          "text": [
            "    Driver  Points    Age\n",
            "0    False   False  False\n",
            "1    False   False  False\n",
            "2    False   False  False\n",
            "3    False   False  False\n",
            "4    False   False  False\n",
            "5    False   False  False\n",
            "6    False   False  False\n",
            "7    False   False  False\n",
            "8    False   False  False\n",
            "9    False   False  False\n",
            "10   False   False  False\n",
            "11   False   False  False\n",
            "12   False   False  False\n",
            "13   False   False  False\n",
            "14   False   False  False\n",
            "15   False   False  False\n",
            "16   False   False  False\n",
            "17   False   False  False\n",
            "18   False   False  False\n",
            "19   False   False  False\n"
          ]
        }
      ]
    },
    {
      "cell_type": "code",
      "source": [
        "print(df.isnull().sum())"
      ],
      "metadata": {
        "colab": {
          "base_uri": "https://localhost:8080/"
        },
        "id": "SZ0KYHfcsVQG",
        "outputId": "7881f75d-9d73-428d-819f-09a3e2bdc040"
      },
      "execution_count": null,
      "outputs": [
        {
          "output_type": "stream",
          "name": "stdout",
          "text": [
            "Driver    0\n",
            "Points    0\n",
            "Age       0\n",
            "dtype: int64\n"
          ]
        }
      ]
    },
    {
      "cell_type": "code",
      "source": [
        "print(list(df.columns))"
      ],
      "metadata": {
        "colab": {
          "base_uri": "https://localhost:8080/"
        },
        "id": "brcRO55Wrifu",
        "outputId": "177785bc-7ae2-467c-931f-bd98f6b74701"
      },
      "execution_count": null,
      "outputs": [
        {
          "output_type": "stream",
          "name": "stdout",
          "text": [
            "['Driver', 'Points', 'Age']\n"
          ]
        }
      ]
    },
    {
      "cell_type": "code",
      "source": [
        "print(len(list(df.columns)))"
      ],
      "metadata": {
        "colab": {
          "base_uri": "https://localhost:8080/"
        },
        "id": "p1qij2A_r6W6",
        "outputId": "994dba17-1515-4699-9ff3-39f72a14eed7"
      },
      "execution_count": null,
      "outputs": [
        {
          "output_type": "stream",
          "name": "stdout",
          "text": [
            "3\n"
          ]
        }
      ]
    },
    {
      "cell_type": "code",
      "source": [
        "print(len(df))"
      ],
      "metadata": {
        "colab": {
          "base_uri": "https://localhost:8080/"
        },
        "id": "2DKYMp7nr9ZE",
        "outputId": "2d72429c-d2be-4905-9641-9e2698229ea3"
      },
      "execution_count": null,
      "outputs": [
        {
          "output_type": "stream",
          "name": "stdout",
          "text": [
            "20\n"
          ]
        }
      ]
    },
    {
      "cell_type": "markdown",
      "source": [
        "**find avg**"
      ],
      "metadata": {
        "id": "w1TDhVpWs3fA"
      }
    },
    {
      "cell_type": "code",
      "source": [
        "print(df['Points'].mean())"
      ],
      "metadata": {
        "colab": {
          "base_uri": "https://localhost:8080/"
        },
        "id": "kNpWUmKos2__",
        "outputId": "9a218dc5-08df-422a-d386-cbba50176eea"
      },
      "execution_count": null,
      "outputs": [
        {
          "output_type": "stream",
          "name": "stdout",
          "text": [
            "106.05\n"
          ]
        }
      ]
    },
    {
      "cell_type": "code",
      "source": [
        "print(df[df['Age']==29].count())"
      ],
      "metadata": {
        "colab": {
          "base_uri": "https://localhost:8080/"
        },
        "id": "StMrQnihtf4H",
        "outputId": "01d55deb-b904-4e45-a43c-0169dcc1b0b7"
      },
      "execution_count": null,
      "outputs": [
        {
          "output_type": "stream",
          "name": "stdout",
          "text": [
            "Driver    3\n",
            "Points    3\n",
            "Age       3\n",
            "dtype: int64\n"
          ]
        }
      ]
    },
    {
      "cell_type": "markdown",
      "source": [
        "**find no of days from date**"
      ],
      "metadata": {
        "id": "vGaWIqfrxFSF"
      }
    },
    {
      "cell_type": "code",
      "source": [
        "# importing pandas as pd\n",
        "import pandas as pd\n",
        "\n",
        "# Create the dataframe\n",
        "df = pd.DataFrame({'Date':['10/2/2011', '11/2/2011', '12/2/2011', '13/2/2011', '11/2/2013', '12/2/2014', '13/2/2015'],\n",
        "                    'Event':['Music', 'Poetry', 'Theatre', 'Comedy', 'Poetry', 'Theatre', 'Art'],\n",
        "                    'Cost':[10000, 5000, 15000, 2000, 5700, 75000, 2800]})\n",
        "\n",
        "# Print the dataframe\n",
        "print(df)"
      ],
      "metadata": {
        "colab": {
          "base_uri": "https://localhost:8080/"
        },
        "id": "VI65Pq-qxH_W",
        "outputId": "2351ba78-41ab-4deb-e85a-5c78fc390a6d"
      },
      "execution_count": null,
      "outputs": [
        {
          "output_type": "stream",
          "name": "stdout",
          "text": [
            "        Date    Event   Cost\n",
            "0  10/2/2011    Music  10000\n",
            "1  11/2/2011   Poetry   5000\n",
            "2  12/2/2011  Theatre  15000\n",
            "3  13/2/2011   Comedy   2000\n",
            "4  11/2/2013   Poetry   5700\n",
            "5  12/2/2014  Theatre  75000\n",
            "6  13/2/2015      Art   2800\n"
          ]
        }
      ]
    },
    {
      "cell_type": "code",
      "source": [
        "print(df[df['Date'].apply(lambda x:x[5:]=='2011')])"
      ],
      "metadata": {
        "colab": {
          "base_uri": "https://localhost:8080/",
          "height": 217
        },
        "id": "JzGgX2xN0ZI-",
        "outputId": "f3e9dd5a-9ed0-41bf-b0c7-fae529a605ea"
      },
      "execution_count": null,
      "outputs": [
        {
          "output_type": "error",
          "ename": "TypeError",
          "evalue": "'Timestamp' object is not subscriptable",
          "traceback": [
            "\u001b[0;31m---------------------------------------------------------------------------\u001b[0m",
            "\u001b[0;31mTypeError\u001b[0m                                 Traceback (most recent call last)",
            "\u001b[0;32m<ipython-input-55-4db3ef08d3ca>\u001b[0m in \u001b[0;36m<cell line: 1>\u001b[0;34m()\u001b[0m\n\u001b[0;32m----> 1\u001b[0;31m \u001b[0mprint\u001b[0m\u001b[0;34m(\u001b[0m\u001b[0mdf\u001b[0m\u001b[0;34m[\u001b[0m\u001b[0mdf\u001b[0m\u001b[0;34m[\u001b[0m\u001b[0;34m'Date'\u001b[0m\u001b[0;34m]\u001b[0m\u001b[0;34m.\u001b[0m\u001b[0mapply\u001b[0m\u001b[0;34m(\u001b[0m\u001b[0;32mlambda\u001b[0m \u001b[0mx\u001b[0m\u001b[0;34m:\u001b[0m\u001b[0mx\u001b[0m\u001b[0;34m[\u001b[0m\u001b[0;36m5\u001b[0m\u001b[0;34m:\u001b[0m\u001b[0;34m]\u001b[0m\u001b[0;34m==\u001b[0m\u001b[0;34m'2011'\u001b[0m\u001b[0;34m)\u001b[0m\u001b[0;34m]\u001b[0m\u001b[0;34m)\u001b[0m\u001b[0;34m\u001b[0m\u001b[0;34m\u001b[0m\u001b[0m\n\u001b[0m",
            "\u001b[0;32m/usr/local/lib/python3.10/dist-packages/pandas/core/series.py\u001b[0m in \u001b[0;36mapply\u001b[0;34m(self, func, convert_dtype, args, **kwargs)\u001b[0m\n\u001b[1;32m   4628\u001b[0m         \u001b[0mdtype\u001b[0m\u001b[0;34m:\u001b[0m \u001b[0mfloat64\u001b[0m\u001b[0;34m\u001b[0m\u001b[0;34m\u001b[0m\u001b[0m\n\u001b[1;32m   4629\u001b[0m         \"\"\"\n\u001b[0;32m-> 4630\u001b[0;31m         \u001b[0;32mreturn\u001b[0m \u001b[0mSeriesApply\u001b[0m\u001b[0;34m(\u001b[0m\u001b[0mself\u001b[0m\u001b[0;34m,\u001b[0m \u001b[0mfunc\u001b[0m\u001b[0;34m,\u001b[0m \u001b[0mconvert_dtype\u001b[0m\u001b[0;34m,\u001b[0m \u001b[0margs\u001b[0m\u001b[0;34m,\u001b[0m \u001b[0mkwargs\u001b[0m\u001b[0;34m)\u001b[0m\u001b[0;34m.\u001b[0m\u001b[0mapply\u001b[0m\u001b[0;34m(\u001b[0m\u001b[0;34m)\u001b[0m\u001b[0;34m\u001b[0m\u001b[0;34m\u001b[0m\u001b[0m\n\u001b[0m\u001b[1;32m   4631\u001b[0m \u001b[0;34m\u001b[0m\u001b[0m\n\u001b[1;32m   4632\u001b[0m     def _reduce(\n",
            "\u001b[0;32m/usr/local/lib/python3.10/dist-packages/pandas/core/apply.py\u001b[0m in \u001b[0;36mapply\u001b[0;34m(self)\u001b[0m\n\u001b[1;32m   1023\u001b[0m \u001b[0;34m\u001b[0m\u001b[0m\n\u001b[1;32m   1024\u001b[0m         \u001b[0;31m# self.f is Callable\u001b[0m\u001b[0;34m\u001b[0m\u001b[0;34m\u001b[0m\u001b[0m\n\u001b[0;32m-> 1025\u001b[0;31m         \u001b[0;32mreturn\u001b[0m \u001b[0mself\u001b[0m\u001b[0;34m.\u001b[0m\u001b[0mapply_standard\u001b[0m\u001b[0;34m(\u001b[0m\u001b[0;34m)\u001b[0m\u001b[0;34m\u001b[0m\u001b[0;34m\u001b[0m\u001b[0m\n\u001b[0m\u001b[1;32m   1026\u001b[0m \u001b[0;34m\u001b[0m\u001b[0m\n\u001b[1;32m   1027\u001b[0m     \u001b[0;32mdef\u001b[0m \u001b[0magg\u001b[0m\u001b[0;34m(\u001b[0m\u001b[0mself\u001b[0m\u001b[0;34m)\u001b[0m\u001b[0;34m:\u001b[0m\u001b[0;34m\u001b[0m\u001b[0;34m\u001b[0m\u001b[0m\n",
            "\u001b[0;32m/usr/local/lib/python3.10/dist-packages/pandas/core/apply.py\u001b[0m in \u001b[0;36mapply_standard\u001b[0;34m(self)\u001b[0m\n\u001b[1;32m   1074\u001b[0m             \u001b[0;32melse\u001b[0m\u001b[0;34m:\u001b[0m\u001b[0;34m\u001b[0m\u001b[0;34m\u001b[0m\u001b[0m\n\u001b[1;32m   1075\u001b[0m                 \u001b[0mvalues\u001b[0m \u001b[0;34m=\u001b[0m \u001b[0mobj\u001b[0m\u001b[0;34m.\u001b[0m\u001b[0mastype\u001b[0m\u001b[0;34m(\u001b[0m\u001b[0mobject\u001b[0m\u001b[0;34m)\u001b[0m\u001b[0;34m.\u001b[0m\u001b[0m_values\u001b[0m\u001b[0;34m\u001b[0m\u001b[0;34m\u001b[0m\u001b[0m\n\u001b[0;32m-> 1076\u001b[0;31m                 mapped = lib.map_infer(\n\u001b[0m\u001b[1;32m   1077\u001b[0m                     \u001b[0mvalues\u001b[0m\u001b[0;34m,\u001b[0m\u001b[0;34m\u001b[0m\u001b[0;34m\u001b[0m\u001b[0m\n\u001b[1;32m   1078\u001b[0m                     \u001b[0mf\u001b[0m\u001b[0;34m,\u001b[0m\u001b[0;34m\u001b[0m\u001b[0;34m\u001b[0m\u001b[0m\n",
            "\u001b[0;32m/usr/local/lib/python3.10/dist-packages/pandas/_libs/lib.pyx\u001b[0m in \u001b[0;36mpandas._libs.lib.map_infer\u001b[0;34m()\u001b[0m\n",
            "\u001b[0;32m<ipython-input-55-4db3ef08d3ca>\u001b[0m in \u001b[0;36m<lambda>\u001b[0;34m(x)\u001b[0m\n\u001b[0;32m----> 1\u001b[0;31m \u001b[0mprint\u001b[0m\u001b[0;34m(\u001b[0m\u001b[0mdf\u001b[0m\u001b[0;34m[\u001b[0m\u001b[0mdf\u001b[0m\u001b[0;34m[\u001b[0m\u001b[0;34m'Date'\u001b[0m\u001b[0;34m]\u001b[0m\u001b[0;34m.\u001b[0m\u001b[0mapply\u001b[0m\u001b[0;34m(\u001b[0m\u001b[0;32mlambda\u001b[0m \u001b[0mx\u001b[0m\u001b[0;34m:\u001b[0m\u001b[0mx\u001b[0m\u001b[0;34m[\u001b[0m\u001b[0;36m5\u001b[0m\u001b[0;34m:\u001b[0m\u001b[0;34m]\u001b[0m\u001b[0;34m==\u001b[0m\u001b[0;34m'2011'\u001b[0m\u001b[0;34m)\u001b[0m\u001b[0;34m]\u001b[0m\u001b[0;34m)\u001b[0m\u001b[0;34m\u001b[0m\u001b[0;34m\u001b[0m\u001b[0m\n\u001b[0m",
            "\u001b[0;31mTypeError\u001b[0m: 'Timestamp' object is not subscriptable"
          ]
        }
      ]
    },
    {
      "cell_type": "code",
      "source": [
        "import pandas as pd\n",
        "\n",
        "# Convert 'Date' column to datetime format\n",
        "df['Date'] = pd.to_datetime(df['Date'])\n",
        "\n",
        "# Extract year from the 'Date' column\n",
        "df['year'] = df['Date'].dt.year\n",
        "\n",
        "# Filter the DataFrame to get records from the year 2011\n",
        "dates_2011 = df[df['year'] == 2011]['Date']\n",
        "\n",
        "print(len(dates_2011))"
      ],
      "metadata": {
        "colab": {
          "base_uri": "https://localhost:8080/"
        },
        "id": "oyDO4_7pxmb2",
        "outputId": "d2ef4adc-5bc6-48e1-b104-d516bbdb2449"
      },
      "execution_count": null,
      "outputs": [
        {
          "output_type": "stream",
          "name": "stdout",
          "text": [
            "4\n"
          ]
        }
      ]
    },
    {
      "cell_type": "code",
      "source": [
        "\n",
        "# Import pandas package\n",
        "import pandas as pd\n",
        "\n",
        "# making data frame\n",
        "data = pd.read_csv(\"https://media.geeksforgeeks.org/wp-content/uploads/nba.csv\")\n",
        "\n",
        "# calling head() method\n",
        "# storing in new variable\n",
        "data_top = data.head(10)\n",
        "\n",
        "print(data_top)"
      ],
      "metadata": {
        "colab": {
          "base_uri": "https://localhost:8080/"
        },
        "id": "-9moIuQnAKC_",
        "outputId": "361a3353-5ba3-4e85-e51f-df0dc4d5e0b7"
      },
      "execution_count": null,
      "outputs": [
        {
          "output_type": "stream",
          "name": "stdout",
          "text": [
            "            Name            Team  Number Position   Age Height  Weight  \\\n",
            "0  Avery Bradley  Boston Celtics     0.0       PG  25.0    6-2   180.0   \n",
            "1    Jae Crowder  Boston Celtics    99.0       SF  25.0    6-6   235.0   \n",
            "2   John Holland  Boston Celtics    30.0       SG  27.0    6-5   205.0   \n",
            "3    R.J. Hunter  Boston Celtics    28.0       SG  22.0    6-5   185.0   \n",
            "4  Jonas Jerebko  Boston Celtics     8.0       PF  29.0   6-10   231.0   \n",
            "5   Amir Johnson  Boston Celtics    90.0       PF  29.0    6-9   240.0   \n",
            "6  Jordan Mickey  Boston Celtics    55.0       PF  21.0    6-8   235.0   \n",
            "7   Kelly Olynyk  Boston Celtics    41.0        C  25.0    7-0   238.0   \n",
            "8   Terry Rozier  Boston Celtics    12.0       PG  22.0    6-2   190.0   \n",
            "9   Marcus Smart  Boston Celtics    36.0       PG  22.0    6-4   220.0   \n",
            "\n",
            "             College      Salary  \n",
            "0              Texas   7730337.0  \n",
            "1          Marquette   6796117.0  \n",
            "2  Boston University         NaN  \n",
            "3      Georgia State   1148640.0  \n",
            "4                NaN   5000000.0  \n",
            "5                NaN  12000000.0  \n",
            "6                LSU   1170960.0  \n",
            "7            Gonzaga   2165160.0  \n",
            "8         Louisville   1824360.0  \n",
            "9     Oklahoma State   3431040.0  \n"
          ]
        }
      ]
    },
    {
      "cell_type": "markdown",
      "source": [
        "**Upper Case of all Letters**"
      ],
      "metadata": {
        "id": "X66JHKIgAYET"
      }
    },
    {
      "cell_type": "code",
      "source": [
        "data['Name'] = data['Name'].str.upper()\n",
        "print(data)"
      ],
      "metadata": {
        "colab": {
          "base_uri": "https://localhost:8080/"
        },
        "id": "BB0cxhPhAd_R",
        "outputId": "7cfc641d-2e4f-432d-89a3-8ab1dd9a3e85"
      },
      "execution_count": null,
      "outputs": [
        {
          "output_type": "stream",
          "name": "stdout",
          "text": [
            "              Name            Team  Number Position   Age Height  Weight  \\\n",
            "0    AVERY BRADLEY  Boston Celtics     0.0       PG  25.0    6-2   180.0   \n",
            "1      JAE CROWDER  Boston Celtics    99.0       SF  25.0    6-6   235.0   \n",
            "2     JOHN HOLLAND  Boston Celtics    30.0       SG  27.0    6-5   205.0   \n",
            "3      R.J. HUNTER  Boston Celtics    28.0       SG  22.0    6-5   185.0   \n",
            "4    JONAS JEREBKO  Boston Celtics     8.0       PF  29.0   6-10   231.0   \n",
            "..             ...             ...     ...      ...   ...    ...     ...   \n",
            "453   SHELVIN MACK       Utah Jazz     8.0       PG  26.0    6-3   203.0   \n",
            "454      RAUL NETO       Utah Jazz    25.0       PG  24.0    6-1   179.0   \n",
            "455   TIBOR PLEISS       Utah Jazz    21.0        C  26.0    7-3   256.0   \n",
            "456    JEFF WITHEY       Utah Jazz    24.0        C  26.0    7-0   231.0   \n",
            "457            NaN             NaN     NaN      NaN   NaN    NaN     NaN   \n",
            "\n",
            "               College     Salary  \n",
            "0                Texas  7730337.0  \n",
            "1            Marquette  6796117.0  \n",
            "2    Boston University        NaN  \n",
            "3        Georgia State  1148640.0  \n",
            "4                  NaN  5000000.0  \n",
            "..                 ...        ...  \n",
            "453             Butler  2433333.0  \n",
            "454                NaN   900000.0  \n",
            "455                NaN  2900000.0  \n",
            "456             Kansas   947276.0  \n",
            "457                NaN        NaN  \n",
            "\n",
            "[458 rows x 9 columns]\n"
          ]
        }
      ]
    },
    {
      "cell_type": "code",
      "source": [
        "data=data.dropna(inplace=True)\n",
        "print(data)"
      ],
      "metadata": {
        "colab": {
          "base_uri": "https://localhost:8080/"
        },
        "id": "95izmXe3A3uE",
        "outputId": "ad201f35-ec22-42d8-8131-59e3074f0f9f"
      },
      "execution_count": null,
      "outputs": [
        {
          "output_type": "stream",
          "name": "stdout",
          "text": [
            "None\n"
          ]
        }
      ]
    },
    {
      "cell_type": "code",
      "source": [
        "data['College'] = data['College'].str.upper()\n",
        "print(data)"
      ],
      "metadata": {
        "colab": {
          "base_uri": "https://localhost:8080/"
        },
        "id": "aWY8ov13BB09",
        "outputId": "b7c605b8-3c0f-47a1-dc77-075e9fcd55aa"
      },
      "execution_count": null,
      "outputs": [
        {
          "output_type": "stream",
          "name": "stdout",
          "text": [
            "              Name            Team  Number Position   Age Height  Weight  \\\n",
            "0    Avery Bradley  Boston Celtics     0.0       PG  25.0    6-2   180.0   \n",
            "1      Jae Crowder  Boston Celtics    99.0       SF  25.0    6-6   235.0   \n",
            "2     John Holland  Boston Celtics    30.0       SG  27.0    6-5   205.0   \n",
            "3      R.J. Hunter  Boston Celtics    28.0       SG  22.0    6-5   185.0   \n",
            "4    Jonas Jerebko  Boston Celtics     8.0       PF  29.0   6-10   231.0   \n",
            "..             ...             ...     ...      ...   ...    ...     ...   \n",
            "453   Shelvin Mack       Utah Jazz     8.0       PG  26.0    6-3   203.0   \n",
            "454      Raul Neto       Utah Jazz    25.0       PG  24.0    6-1   179.0   \n",
            "455   Tibor Pleiss       Utah Jazz    21.0        C  26.0    7-3   256.0   \n",
            "456    Jeff Withey       Utah Jazz    24.0        C  26.0    7-0   231.0   \n",
            "457            NaN             NaN     NaN      NaN   NaN    NaN     NaN   \n",
            "\n",
            "               College     Salary  \n",
            "0                TEXAS  7730337.0  \n",
            "1            MARQUETTE  6796117.0  \n",
            "2    BOSTON UNIVERSITY        NaN  \n",
            "3        GEORGIA STATE  1148640.0  \n",
            "4                  NaN  5000000.0  \n",
            "..                 ...        ...  \n",
            "453             BUTLER  2433333.0  \n",
            "454                NaN   900000.0  \n",
            "455                NaN  2900000.0  \n",
            "456             KANSAS   947276.0  \n",
            "457                NaN        NaN  \n",
            "\n",
            "[458 rows x 9 columns]\n"
          ]
        }
      ]
    },
    {
      "cell_type": "markdown",
      "source": [
        "**Capitalize first letter**"
      ],
      "metadata": {
        "id": "BUVe1u3TIwN4"
      }
    },
    {
      "cell_type": "code",
      "source": [
        "import pandas as pd\n",
        "\n",
        "\n",
        "# creating a dataframe\n",
        "df = pd.DataFrame({'A': ['john', 'bODAY', 'minA', 'Peter', 'nicky'],\n",
        "                  'B': ['masters', 'graduate', 'graduate',\n",
        "                                   'Masters', 'Graduate'],\n",
        "                  'C': [27, 23, 21, 23, 24]})\n",
        "\n",
        "print(df)"
      ],
      "metadata": {
        "colab": {
          "base_uri": "https://localhost:8080/"
        },
        "id": "091EkactIzTT",
        "outputId": "2028e940-f246-43f9-95cf-9d594a249ec1"
      },
      "execution_count": null,
      "outputs": [
        {
          "output_type": "stream",
          "name": "stdout",
          "text": [
            "       A         B   C\n",
            "0   john   masters  27\n",
            "1  bODAY  graduate  23\n",
            "2   minA  graduate  21\n",
            "3  Peter   Masters  23\n",
            "4  nicky  Graduate  24\n"
          ]
        }
      ]
    },
    {
      "cell_type": "code",
      "source": [
        "df['A'] =df['A'].str.capitalize()\n",
        "print(df)"
      ],
      "metadata": {
        "colab": {
          "base_uri": "https://localhost:8080/"
        },
        "id": "GFl-I08ZJewB",
        "outputId": "157207b2-8e02-438b-a044-30f64340f2a5"
      },
      "execution_count": null,
      "outputs": [
        {
          "output_type": "stream",
          "name": "stdout",
          "text": [
            "       A         B   C\n",
            "0   John   masters  27\n",
            "1  Boday  graduate  23\n",
            "2   Mina  graduate  21\n",
            "3  Peter   Masters  23\n",
            "4  Nicky  Graduate  24\n"
          ]
        }
      ]
    },
    {
      "cell_type": "code",
      "source": [
        "df['B'].apply(lambda x: x.capitalize())\n",
        "print(df)"
      ],
      "metadata": {
        "colab": {
          "base_uri": "https://localhost:8080/"
        },
        "id": "qfviECvuJrDv",
        "outputId": "785ffebf-c105-4e2e-c228-b83ca34a589f"
      },
      "execution_count": null,
      "outputs": [
        {
          "output_type": "stream",
          "name": "stdout",
          "text": [
            "       A         B   C\n",
            "0   John   Masters  27\n",
            "1  Boday  Graduate  23\n",
            "2   Mina  Graduate  21\n",
            "3  Peter   Masters  23\n",
            "4  Nicky  Graduate  24\n"
          ]
        }
      ]
    },
    {
      "cell_type": "markdown",
      "source": [
        "**Lower case the whole string**"
      ],
      "metadata": {
        "id": "ix51Rd_HKNI_"
      }
    },
    {
      "cell_type": "code",
      "source": [
        "import pandas as pd\n",
        "\n",
        "\n",
        "# creating a dataframe\n",
        "df = pd.DataFrame({'A': ['john', 'bODAY', 'minA', 'Peter', 'nicky'],\n",
        "                  'B': ['masters', 'graduate', 'graduate',\n",
        "                                   'Masters', 'Graduate'],\n",
        "                  'C': [27, 23, 21, 23, 24]})\n",
        "\n",
        "print(df)"
      ],
      "metadata": {
        "colab": {
          "base_uri": "https://localhost:8080/"
        },
        "id": "fhuUa06DKMdp",
        "outputId": "5f15568a-c96c-4c45-e6de-9bf8242d951c"
      },
      "execution_count": null,
      "outputs": [
        {
          "output_type": "stream",
          "name": "stdout",
          "text": [
            "       A         B   C\n",
            "0   john   masters  27\n",
            "1  bODAY  graduate  23\n",
            "2   minA  graduate  21\n",
            "3  Peter   Masters  23\n",
            "4  nicky  Graduate  24\n"
          ]
        }
      ]
    },
    {
      "cell_type": "code",
      "source": [
        "df['A'] =df['A'].str.lower()\n",
        "print(df)"
      ],
      "metadata": {
        "colab": {
          "base_uri": "https://localhost:8080/"
        },
        "id": "OIH2vZaUKRIQ",
        "outputId": "19d8c979-1a1c-4f5b-a755-c83772ccff9c"
      },
      "execution_count": null,
      "outputs": [
        {
          "output_type": "stream",
          "name": "stdout",
          "text": [
            "       A         B   C\n",
            "0   john   masters  27\n",
            "1  boday  graduate  23\n",
            "2   mina  graduate  21\n",
            "3  peter   Masters  23\n",
            "4  nicky  Graduate  24\n"
          ]
        }
      ]
    },
    {
      "cell_type": "code",
      "source": [
        "df['B'] =df['B'].apply(lambda x: x.lower())\n",
        "print(df)"
      ],
      "metadata": {
        "colab": {
          "base_uri": "https://localhost:8080/"
        },
        "id": "TTEhPT72KevU",
        "outputId": "67dd14c6-496b-4c23-b57c-94c0e4e08344"
      },
      "execution_count": null,
      "outputs": [
        {
          "output_type": "stream",
          "name": "stdout",
          "text": [
            "       A         B   C\n",
            "0   john   masters  27\n",
            "1  boday  graduate  23\n",
            "2   mina  graduate  21\n",
            "3  peter   masters  23\n",
            "4  nicky  graduate  24\n"
          ]
        }
      ]
    },
    {
      "cell_type": "code",
      "source": [
        "import pandas as pd\n",
        "\n",
        "# create a dictionary with five fields each\n",
        "data = {\n",
        "    'A': ['A1', 'A2', 'A3', 'A4', 'A5'],\n",
        "    'B': ['B1', 'B2', 'B3', 'B4', 'B5'],\n",
        "    'C': ['C1', 'C2', 'C3', 'C4', 'C5'],\n",
        "    'D': ['D1', 'D2', 'D3', 'D4', 'D5'],\n",
        "    'E': ['E1', 'E2', 'E3', 'E4', 'E5']}\n",
        "\n",
        "# Convert the dictionary into DataFrame\n",
        "df = pd.DataFrame(data)\n",
        "\n",
        "print(df)"
      ],
      "metadata": {
        "colab": {
          "base_uri": "https://localhost:8080/"
        },
        "id": "OUEFMQ_mK8mx",
        "outputId": "fd3bb130-f2a6-48a9-bce5-3c2bc2d2a3a2"
      },
      "execution_count": null,
      "outputs": [
        {
          "output_type": "stream",
          "name": "stdout",
          "text": [
            "    A   B   C   D   E\n",
            "0  A1  B1  C1  D1  E1\n",
            "1  A2  B2  C2  D2  E2\n",
            "2  A3  B3  C3  D3  E3\n",
            "3  A4  B4  C4  D4  E4\n",
            "4  A5  B5  C5  D5  E5\n"
          ]
        }
      ]
    },
    {
      "cell_type": "code",
      "source": [
        "df.drop(['A'], axis=1)\n",
        "print(df)"
      ],
      "metadata": {
        "colab": {
          "base_uri": "https://localhost:8080/"
        },
        "id": "wubvPJaQLsH6",
        "outputId": "6c16af7d-903c-4509-b63d-ff73fc65033e"
      },
      "execution_count": null,
      "outputs": [
        {
          "output_type": "stream",
          "name": "stdout",
          "text": [
            "    A   B   C   D   E\n",
            "0  A1  B1  C1  D1  E1\n",
            "1  A2  B2  C2  D2  E2\n",
            "2  A3  B3  C3  D3  E3\n",
            "3  A4  B4  C4  D4  E4\n",
            "4  A5  B5  C5  D5  E5\n"
          ]
        }
      ]
    },
    {
      "cell_type": "code",
      "source": [
        "df.drop(['A'], axis=1, inplace=True)\n",
        "print(df)"
      ],
      "metadata": {
        "colab": {
          "base_uri": "https://localhost:8080/"
        },
        "id": "9YgdgVMqL42E",
        "outputId": "4fd1476c-6516-47bd-9fcd-06832a2b5c3a"
      },
      "execution_count": null,
      "outputs": [
        {
          "output_type": "stream",
          "name": "stdout",
          "text": [
            "    B   C   D   E\n",
            "0  B1  C1  D1  E1\n",
            "1  B2  C2  D2  E2\n",
            "2  B3  C3  D3  E3\n",
            "3  B4  C4  D4  E4\n",
            "4  B5  C5  D5  E5\n"
          ]
        }
      ]
    },
    {
      "cell_type": "code",
      "source": [
        "df.drop(['C', 'D'], axis=1, inplace=True)\n",
        "print(df)"
      ],
      "metadata": {
        "colab": {
          "base_uri": "https://localhost:8080/"
        },
        "id": "l-aCfk6VMAWv",
        "outputId": "e4efa776-ba4b-42e6-9555-0f31f0fc817b"
      },
      "execution_count": null,
      "outputs": [
        {
          "output_type": "stream",
          "name": "stdout",
          "text": [
            "    B   E\n",
            "0  B1  E1\n",
            "1  B2  E2\n",
            "2  B3  E3\n",
            "3  B4  E4\n",
            "4  B5  E5\n"
          ]
        }
      ]
    },
    {
      "cell_type": "code",
      "source": [
        "# Import pandas package\n",
        "import pandas as pd\n",
        "\n",
        "# create a dictionary with five fields each\n",
        "data = {\n",
        "    'A': ['A1', 'A2', 'A3', 'A4', 'A5'],\n",
        "    'B': ['B1', 'B2', 'B3', 'B4', 'B5'],\n",
        "    'C': ['C1', 'C2', 'C3', 'C4', 'C5'],\n",
        "    'D': ['D1', 'D2', 'D3', 'D4', 'D5'],\n",
        "    'E': ['E1', 'E2', 'E3', 'E4', 'E5']}\n",
        "\n",
        "# Convert the dictionary into DataFrame\n",
        "df = pd.DataFrame(data)\n",
        "print(df)"
      ],
      "metadata": {
        "colab": {
          "base_uri": "https://localhost:8080/"
        },
        "id": "ppbtTkIbMzVW",
        "outputId": "d7abc4ee-69f2-4d72-a235-dc2132be8805"
      },
      "execution_count": null,
      "outputs": [
        {
          "output_type": "stream",
          "name": "stdout",
          "text": [
            "    A   B   C   D   E\n",
            "0  A1  B1  C1  D1  E1\n",
            "1  A2  B2  C2  D2  E2\n",
            "2  A3  B3  C3  D3  E3\n",
            "3  A4  B4  C4  D4  E4\n",
            "4  A5  B5  C5  D5  E5\n"
          ]
        }
      ]
    },
    {
      "cell_type": "code",
      "source": [
        "df.drop(df.columns[[0, 2, 4]], axis = 1, inplace = True)\n",
        "print(df)"
      ],
      "metadata": {
        "colab": {
          "base_uri": "https://localhost:8080/"
        },
        "id": "NZHPrtI3M2HT",
        "outputId": "ec94b9c1-a481-47e0-8912-658c2d2b335e"
      },
      "execution_count": null,
      "outputs": [
        {
          "output_type": "stream",
          "name": "stdout",
          "text": [
            "    B   D\n",
            "0  B1  D1\n",
            "1  B2  D2\n",
            "2  B3  D3\n",
            "3  B4  D4\n",
            "4  B5  D5\n"
          ]
        }
      ]
    },
    {
      "cell_type": "code",
      "source": [
        "df.drop(df.iloc[:, 1:3], inplace = True, axis = 1)\n",
        "print(df)"
      ],
      "metadata": {
        "colab": {
          "base_uri": "https://localhost:8080/"
        },
        "id": "Y6lXrLVENQrf",
        "outputId": "d617cc75-0a0b-4418-8977-088d228daf2c"
      },
      "execution_count": null,
      "outputs": [
        {
          "output_type": "stream",
          "name": "stdout",
          "text": [
            "    A   D   E\n",
            "0  A1  D1  E1\n",
            "1  A2  D2  E2\n",
            "2  A3  D3  E3\n",
            "3  A4  D4  E4\n",
            "4  A5  D5  E5\n"
          ]
        }
      ]
    },
    {
      "cell_type": "code",
      "source": [
        "df.drop(df.loc[:, 'B':'D'], inplace = True, axis = 1)\n",
        "print(df)"
      ],
      "metadata": {
        "colab": {
          "base_uri": "https://localhost:8080/"
        },
        "id": "jwmYsBXRNtg3",
        "outputId": "e36ea2ae-3fab-46bb-bc1d-b5873c475c6d"
      },
      "execution_count": null,
      "outputs": [
        {
          "output_type": "stream",
          "name": "stdout",
          "text": [
            "    A   E\n",
            "0  A1  E1\n",
            "1  A2  E2\n",
            "2  A3  E3\n",
            "3  A4  E4\n",
            "4  A5  E5\n"
          ]
        }
      ]
    },
    {
      "cell_type": "code",
      "source": [
        "df.pop('B')\n",
        "print(df)"
      ],
      "metadata": {
        "colab": {
          "base_uri": "https://localhost:8080/"
        },
        "id": "mB3RIXmLOEqm",
        "outputId": "62742f7e-52e2-4079-e75c-9692be040656"
      },
      "execution_count": null,
      "outputs": [
        {
          "output_type": "stream",
          "name": "stdout",
          "text": [
            "    A   C   D   E\n",
            "0  A1  C1  D1  E1\n",
            "1  A2  C2  D2  E2\n",
            "2  A3  C3  D3  E3\n",
            "3  A4  C4  D4  E4\n",
            "4  A5  C5  D5  E5\n"
          ]
        }
      ]
    },
    {
      "cell_type": "markdown",
      "source": [
        "**Fnd largest value**"
      ],
      "metadata": {
        "id": "Wg8JCsOKOXBB"
      }
    },
    {
      "cell_type": "code",
      "source": [
        "\n",
        "# importing pandas module\n",
        "import pandas as pd\n",
        "\n",
        "# making data frame\n",
        "df = pd.read_csv(\"https://media.geeksforgeeks.org/wp-content/uploads/nba.csv\")\n",
        "\n",
        "df.head(10)\n",
        "print(df)"
      ],
      "metadata": {
        "colab": {
          "base_uri": "https://localhost:8080/"
        },
        "id": "38eudhy-OZ5p",
        "outputId": "28f9aeda-cacf-4aef-9687-ebb419be3d83"
      },
      "execution_count": null,
      "outputs": [
        {
          "output_type": "stream",
          "name": "stdout",
          "text": [
            "              Name            Team  Number Position   Age Height  Weight  \\\n",
            "0    Avery Bradley  Boston Celtics     0.0       PG  25.0    6-2   180.0   \n",
            "1      Jae Crowder  Boston Celtics    99.0       SF  25.0    6-6   235.0   \n",
            "2     John Holland  Boston Celtics    30.0       SG  27.0    6-5   205.0   \n",
            "3      R.J. Hunter  Boston Celtics    28.0       SG  22.0    6-5   185.0   \n",
            "4    Jonas Jerebko  Boston Celtics     8.0       PF  29.0   6-10   231.0   \n",
            "..             ...             ...     ...      ...   ...    ...     ...   \n",
            "453   Shelvin Mack       Utah Jazz     8.0       PG  26.0    6-3   203.0   \n",
            "454      Raul Neto       Utah Jazz    25.0       PG  24.0    6-1   179.0   \n",
            "455   Tibor Pleiss       Utah Jazz    21.0        C  26.0    7-3   256.0   \n",
            "456    Jeff Withey       Utah Jazz    24.0        C  26.0    7-0   231.0   \n",
            "457            NaN             NaN     NaN      NaN   NaN    NaN     NaN   \n",
            "\n",
            "               College     Salary  \n",
            "0                Texas  7730337.0  \n",
            "1            Marquette  6796117.0  \n",
            "2    Boston University        NaN  \n",
            "3        Georgia State  1148640.0  \n",
            "4                  NaN  5000000.0  \n",
            "..                 ...        ...  \n",
            "453             Butler  2433333.0  \n",
            "454                NaN   900000.0  \n",
            "455                NaN  2900000.0  \n",
            "456             Kansas   947276.0  \n",
            "457                NaN        NaN  \n",
            "\n",
            "[458 rows x 9 columns]\n"
          ]
        }
      ]
    },
    {
      "cell_type": "code",
      "source": [
        "# Check data types of 'Age' column\n",
        "print(df.dtypes)\n",
        "\n",
        "# Check for missing values in 'Age' column\n",
        "print(df['Weight'].isnull().sum())\n",
        "\n",
        "df.nsmallest(10, 'Weight')\n",
        "print(df)"
      ],
      "metadata": {
        "colab": {
          "base_uri": "https://localhost:8080/"
        },
        "id": "QnsljVvye4XU",
        "outputId": "3982aae6-fa6a-4f0f-e665-2cb8825bc287"
      },
      "execution_count": null,
      "outputs": [
        {
          "output_type": "stream",
          "name": "stdout",
          "text": [
            "Name         object\n",
            "Team         object\n",
            "Number      float64\n",
            "Position     object\n",
            "Age         float64\n",
            "Height       object\n",
            "Weight      float64\n",
            "College      object\n",
            "Salary      float64\n",
            "dtype: object\n",
            "1\n",
            "              Name            Team  Number Position   Age Height  Weight  \\\n",
            "0    Avery Bradley  Boston Celtics     0.0       PG  25.0    6-2   180.0   \n",
            "1      Jae Crowder  Boston Celtics    99.0       SF  25.0    6-6   235.0   \n",
            "2     John Holland  Boston Celtics    30.0       SG  27.0    6-5   205.0   \n",
            "3      R.J. Hunter  Boston Celtics    28.0       SG  22.0    6-5   185.0   \n",
            "4    Jonas Jerebko  Boston Celtics     8.0       PF  29.0   6-10   231.0   \n",
            "..             ...             ...     ...      ...   ...    ...     ...   \n",
            "453   Shelvin Mack       Utah Jazz     8.0       PG  26.0    6-3   203.0   \n",
            "454      Raul Neto       Utah Jazz    25.0       PG  24.0    6-1   179.0   \n",
            "455   Tibor Pleiss       Utah Jazz    21.0        C  26.0    7-3   256.0   \n",
            "456    Jeff Withey       Utah Jazz    24.0        C  26.0    7-0   231.0   \n",
            "457            NaN             NaN     NaN      NaN   NaN    NaN     NaN   \n",
            "\n",
            "               College     Salary  \n",
            "0                Texas  7730337.0  \n",
            "1            Marquette  6796117.0  \n",
            "2    Boston University        NaN  \n",
            "3        Georgia State  1148640.0  \n",
            "4                  NaN  5000000.0  \n",
            "..                 ...        ...  \n",
            "453             Butler  2433333.0  \n",
            "454                NaN   900000.0  \n",
            "455                NaN  2900000.0  \n",
            "456             Kansas   947276.0  \n",
            "457                NaN        NaN  \n",
            "\n",
            "[458 rows x 9 columns]\n"
          ]
        }
      ]
    },
    {
      "cell_type": "code",
      "source": [
        "# Check data types of 'Age' column\n",
        "print(df.dtypes)\n",
        "\n",
        "# Check for missing values in 'Age' column\n",
        "print(df['Age'].isnull().sum())\n",
        "\n",
        "# Reset index if needed\n",
        "# df.reset_index(drop=True, inplace=True)\n",
        "\n",
        "# Apply nlargest again\n",
        "print(df.nlargest(5, 'Age'))"
      ],
      "metadata": {
        "colab": {
          "base_uri": "https://localhost:8080/"
        },
        "id": "gyVNKJhzPrWC",
        "outputId": "fd6d42d5-289d-4c3d-b2e0-d53c06752480"
      },
      "execution_count": null,
      "outputs": [
        {
          "output_type": "stream",
          "name": "stdout",
          "text": [
            "Name         object\n",
            "Team         object\n",
            "Number      float64\n",
            "Position     object\n",
            "Age         float64\n",
            "Height       object\n",
            "Weight      float64\n",
            "College      object\n",
            "Salary      float64\n",
            "dtype: object\n",
            "1\n",
            "               Name                    Team  Number Position   Age Height  \\\n",
            "298      Tim Duncan       San Antonio Spurs    21.0        C  40.0   6-11   \n",
            "304    Andre Miller       San Antonio Spurs    24.0       PG  40.0    6-3   \n",
            "400   Kevin Garnett  Minnesota Timberwolves    21.0       PF  40.0   6-11   \n",
            "102  Pablo Prigioni    Los Angeles Clippers     9.0       PG  39.0    6-3   \n",
            "261    Vince Carter       Memphis Grizzlies    15.0       SG  39.0    6-6   \n",
            "\n",
            "     Weight         College     Salary  \n",
            "298   250.0     Wake Forest  5250000.0  \n",
            "304   200.0            Utah   250750.0  \n",
            "400   240.0             NaN  8500000.0  \n",
            "102   185.0             NaN   947726.0  \n",
            "261   220.0  North Carolina  4088019.0  \n"
          ]
        }
      ]
    },
    {
      "cell_type": "code",
      "source": [
        "df.nlargest(5, 'Age')\n",
        "print(df)"
      ],
      "metadata": {
        "colab": {
          "base_uri": "https://localhost:8080/"
        },
        "id": "hyhat_0yOcza",
        "outputId": "fbb98f74-28ad-496e-e7e8-fe24fb453387"
      },
      "execution_count": null,
      "outputs": [
        {
          "output_type": "stream",
          "name": "stdout",
          "text": [
            "              Name            Team  Number Position   Age Height  Weight  \\\n",
            "0    Avery Bradley  Boston Celtics     0.0       PG  25.0    6-2   180.0   \n",
            "1      Jae Crowder  Boston Celtics    99.0       SF  25.0    6-6   235.0   \n",
            "2     John Holland  Boston Celtics    30.0       SG  27.0    6-5   205.0   \n",
            "3      R.J. Hunter  Boston Celtics    28.0       SG  22.0    6-5   185.0   \n",
            "4    Jonas Jerebko  Boston Celtics     8.0       PF  29.0   6-10   231.0   \n",
            "..             ...             ...     ...      ...   ...    ...     ...   \n",
            "453   Shelvin Mack       Utah Jazz     8.0       PG  26.0    6-3   203.0   \n",
            "454      Raul Neto       Utah Jazz    25.0       PG  24.0    6-1   179.0   \n",
            "455   Tibor Pleiss       Utah Jazz    21.0        C  26.0    7-3   256.0   \n",
            "456    Jeff Withey       Utah Jazz    24.0        C  26.0    7-0   231.0   \n",
            "457            NaN             NaN     NaN      NaN   NaN    NaN     NaN   \n",
            "\n",
            "               College     Salary  \n",
            "0                Texas  7730337.0  \n",
            "1            Marquette  6796117.0  \n",
            "2    Boston University        NaN  \n",
            "3        Georgia State  1148640.0  \n",
            "4                  NaN  5000000.0  \n",
            "..                 ...        ...  \n",
            "453             Butler  2433333.0  \n",
            "454                NaN   900000.0  \n",
            "455                NaN  2900000.0  \n",
            "456             Kansas   947276.0  \n",
            "457                NaN        NaN  \n",
            "\n",
            "[458 rows x 9 columns]\n"
          ]
        }
      ]
    },
    {
      "cell_type": "markdown",
      "source": [
        "**Find smallest**"
      ],
      "metadata": {
        "id": "vcsbsTxPOtRp"
      }
    },
    {
      "cell_type": "code",
      "source": [
        "df.nsmallest(5, ['Salary'])\n",
        "print(df)"
      ],
      "metadata": {
        "colab": {
          "base_uri": "https://localhost:8080/"
        },
        "id": "AQgTA-UrOvnQ",
        "outputId": "7da31eb5-5066-4340-c4e3-24b5376310ef"
      },
      "execution_count": null,
      "outputs": [
        {
          "output_type": "stream",
          "name": "stdout",
          "text": [
            "              Name            Team  Number Position   Age Height  Weight  \\\n",
            "0    Avery Bradley  Boston Celtics     0.0       PG  25.0    6-2   180.0   \n",
            "1      Jae Crowder  Boston Celtics    99.0       SF  25.0    6-6   235.0   \n",
            "2     John Holland  Boston Celtics    30.0       SG  27.0    6-5   205.0   \n",
            "3      R.J. Hunter  Boston Celtics    28.0       SG  22.0    6-5   185.0   \n",
            "4    Jonas Jerebko  Boston Celtics     8.0       PF  29.0   6-10   231.0   \n",
            "..             ...             ...     ...      ...   ...    ...     ...   \n",
            "453   Shelvin Mack       Utah Jazz     8.0       PG  26.0    6-3   203.0   \n",
            "454      Raul Neto       Utah Jazz    25.0       PG  24.0    6-1   179.0   \n",
            "455   Tibor Pleiss       Utah Jazz    21.0        C  26.0    7-3   256.0   \n",
            "456    Jeff Withey       Utah Jazz    24.0        C  26.0    7-0   231.0   \n",
            "457            NaN             NaN     NaN      NaN   NaN    NaN     NaN   \n",
            "\n",
            "               College     Salary  \n",
            "0                Texas  7730337.0  \n",
            "1            Marquette  6796117.0  \n",
            "2    Boston University        NaN  \n",
            "3        Georgia State  1148640.0  \n",
            "4                  NaN  5000000.0  \n",
            "..                 ...        ...  \n",
            "453             Butler  2433333.0  \n",
            "454                NaN   900000.0  \n",
            "455                NaN  2900000.0  \n",
            "456             Kansas   947276.0  \n",
            "457                NaN        NaN  \n",
            "\n",
            "[458 rows x 9 columns]\n"
          ]
        }
      ]
    },
    {
      "cell_type": "code",
      "source": [
        "df[['Weight']].idxmax()\n",
        "print(df)"
      ],
      "metadata": {
        "colab": {
          "base_uri": "https://localhost:8080/"
        },
        "id": "F3RExdxAfk0j",
        "outputId": "2ee2ca14-e4bc-436f-c1db-efa3b2dce509"
      },
      "execution_count": null,
      "outputs": [
        {
          "output_type": "stream",
          "name": "stdout",
          "text": [
            "              Name            Team  Number Position   Age Height  Weight  \\\n",
            "0    Avery Bradley  Boston Celtics     0.0       PG  25.0    6-2   180.0   \n",
            "1      Jae Crowder  Boston Celtics    99.0       SF  25.0    6-6   235.0   \n",
            "2     John Holland  Boston Celtics    30.0       SG  27.0    6-5   205.0   \n",
            "3      R.J. Hunter  Boston Celtics    28.0       SG  22.0    6-5   185.0   \n",
            "4    Jonas Jerebko  Boston Celtics     8.0       PF  29.0   6-10   231.0   \n",
            "..             ...             ...     ...      ...   ...    ...     ...   \n",
            "453   Shelvin Mack       Utah Jazz     8.0       PG  26.0    6-3   203.0   \n",
            "454      Raul Neto       Utah Jazz    25.0       PG  24.0    6-1   179.0   \n",
            "455   Tibor Pleiss       Utah Jazz    21.0        C  26.0    7-3   256.0   \n",
            "456    Jeff Withey       Utah Jazz    24.0        C  26.0    7-0   231.0   \n",
            "457            NaN             NaN     NaN      NaN   NaN    NaN     NaN   \n",
            "\n",
            "               College     Salary  \n",
            "0                Texas  7730337.0  \n",
            "1            Marquette  6796117.0  \n",
            "2    Boston University        NaN  \n",
            "3        Georgia State  1148640.0  \n",
            "4                  NaN  5000000.0  \n",
            "..                 ...        ...  \n",
            "453             Butler  2433333.0  \n",
            "454                NaN   900000.0  \n",
            "455                NaN  2900000.0  \n",
            "456             Kansas   947276.0  \n",
            "457                NaN        NaN  \n",
            "\n",
            "[458 rows x 9 columns]\n"
          ]
        }
      ]
    },
    {
      "cell_type": "code",
      "source": [
        "# importing pandas module\n",
        "import pandas as pd\n",
        "\n",
        "# making data frame\n",
        "df = pd.read_csv(\"nba.csv\")\n",
        "\n",
        "# from index 400 to 409\n",
        "df.iloc[400:410]"
      ],
      "metadata": {
        "colab": {
          "base_uri": "https://localhost:8080/",
          "height": 373
        },
        "id": "t-DoFn0whR5R",
        "outputId": "a4da38a1-31c7-40ef-a6ec-daf86114daad"
      },
      "execution_count": null,
      "outputs": [
        {
          "output_type": "error",
          "ename": "FileNotFoundError",
          "evalue": "[Errno 2] No such file or directory: 'nba.csv'",
          "traceback": [
            "\u001b[0;31m---------------------------------------------------------------------------\u001b[0m",
            "\u001b[0;31mFileNotFoundError\u001b[0m                         Traceback (most recent call last)",
            "\u001b[0;32m<ipython-input-66-e7f2d39da156>\u001b[0m in \u001b[0;36m<cell line: 5>\u001b[0;34m()\u001b[0m\n\u001b[1;32m      3\u001b[0m \u001b[0;34m\u001b[0m\u001b[0m\n\u001b[1;32m      4\u001b[0m \u001b[0;31m# making data frame\u001b[0m\u001b[0;34m\u001b[0m\u001b[0;34m\u001b[0m\u001b[0m\n\u001b[0;32m----> 5\u001b[0;31m \u001b[0mdf\u001b[0m \u001b[0;34m=\u001b[0m \u001b[0mpd\u001b[0m\u001b[0;34m.\u001b[0m\u001b[0mread_csv\u001b[0m\u001b[0;34m(\u001b[0m\u001b[0;34m\"nba.csv\"\u001b[0m\u001b[0;34m)\u001b[0m\u001b[0;34m\u001b[0m\u001b[0;34m\u001b[0m\u001b[0m\n\u001b[0m\u001b[1;32m      6\u001b[0m \u001b[0;34m\u001b[0m\u001b[0m\n\u001b[1;32m      7\u001b[0m \u001b[0;31m# from index 400 to 409\u001b[0m\u001b[0;34m\u001b[0m\u001b[0;34m\u001b[0m\u001b[0m\n",
            "\u001b[0;32m/usr/local/lib/python3.10/dist-packages/pandas/io/parsers/readers.py\u001b[0m in \u001b[0;36mread_csv\u001b[0;34m(filepath_or_buffer, sep, delimiter, header, names, index_col, usecols, dtype, engine, converters, true_values, false_values, skipinitialspace, skiprows, skipfooter, nrows, na_values, keep_default_na, na_filter, verbose, skip_blank_lines, parse_dates, infer_datetime_format, keep_date_col, date_parser, date_format, dayfirst, cache_dates, iterator, chunksize, compression, thousands, decimal, lineterminator, quotechar, quoting, doublequote, escapechar, comment, encoding, encoding_errors, dialect, on_bad_lines, delim_whitespace, low_memory, memory_map, float_precision, storage_options, dtype_backend)\u001b[0m\n\u001b[1;32m    910\u001b[0m     \u001b[0mkwds\u001b[0m\u001b[0;34m.\u001b[0m\u001b[0mupdate\u001b[0m\u001b[0;34m(\u001b[0m\u001b[0mkwds_defaults\u001b[0m\u001b[0;34m)\u001b[0m\u001b[0;34m\u001b[0m\u001b[0;34m\u001b[0m\u001b[0m\n\u001b[1;32m    911\u001b[0m \u001b[0;34m\u001b[0m\u001b[0m\n\u001b[0;32m--> 912\u001b[0;31m     \u001b[0;32mreturn\u001b[0m \u001b[0m_read\u001b[0m\u001b[0;34m(\u001b[0m\u001b[0mfilepath_or_buffer\u001b[0m\u001b[0;34m,\u001b[0m \u001b[0mkwds\u001b[0m\u001b[0;34m)\u001b[0m\u001b[0;34m\u001b[0m\u001b[0;34m\u001b[0m\u001b[0m\n\u001b[0m\u001b[1;32m    913\u001b[0m \u001b[0;34m\u001b[0m\u001b[0m\n\u001b[1;32m    914\u001b[0m \u001b[0;34m\u001b[0m\u001b[0m\n",
            "\u001b[0;32m/usr/local/lib/python3.10/dist-packages/pandas/io/parsers/readers.py\u001b[0m in \u001b[0;36m_read\u001b[0;34m(filepath_or_buffer, kwds)\u001b[0m\n\u001b[1;32m    575\u001b[0m \u001b[0;34m\u001b[0m\u001b[0m\n\u001b[1;32m    576\u001b[0m     \u001b[0;31m# Create the parser.\u001b[0m\u001b[0;34m\u001b[0m\u001b[0;34m\u001b[0m\u001b[0m\n\u001b[0;32m--> 577\u001b[0;31m     \u001b[0mparser\u001b[0m \u001b[0;34m=\u001b[0m \u001b[0mTextFileReader\u001b[0m\u001b[0;34m(\u001b[0m\u001b[0mfilepath_or_buffer\u001b[0m\u001b[0;34m,\u001b[0m \u001b[0;34m**\u001b[0m\u001b[0mkwds\u001b[0m\u001b[0;34m)\u001b[0m\u001b[0;34m\u001b[0m\u001b[0;34m\u001b[0m\u001b[0m\n\u001b[0m\u001b[1;32m    578\u001b[0m \u001b[0;34m\u001b[0m\u001b[0m\n\u001b[1;32m    579\u001b[0m     \u001b[0;32mif\u001b[0m \u001b[0mchunksize\u001b[0m \u001b[0;32mor\u001b[0m \u001b[0miterator\u001b[0m\u001b[0;34m:\u001b[0m\u001b[0;34m\u001b[0m\u001b[0;34m\u001b[0m\u001b[0m\n",
            "\u001b[0;32m/usr/local/lib/python3.10/dist-packages/pandas/io/parsers/readers.py\u001b[0m in \u001b[0;36m__init__\u001b[0;34m(self, f, engine, **kwds)\u001b[0m\n\u001b[1;32m   1405\u001b[0m \u001b[0;34m\u001b[0m\u001b[0m\n\u001b[1;32m   1406\u001b[0m         \u001b[0mself\u001b[0m\u001b[0;34m.\u001b[0m\u001b[0mhandles\u001b[0m\u001b[0;34m:\u001b[0m \u001b[0mIOHandles\u001b[0m \u001b[0;34m|\u001b[0m \u001b[0;32mNone\u001b[0m \u001b[0;34m=\u001b[0m \u001b[0;32mNone\u001b[0m\u001b[0;34m\u001b[0m\u001b[0;34m\u001b[0m\u001b[0m\n\u001b[0;32m-> 1407\u001b[0;31m         \u001b[0mself\u001b[0m\u001b[0;34m.\u001b[0m\u001b[0m_engine\u001b[0m \u001b[0;34m=\u001b[0m \u001b[0mself\u001b[0m\u001b[0;34m.\u001b[0m\u001b[0m_make_engine\u001b[0m\u001b[0;34m(\u001b[0m\u001b[0mf\u001b[0m\u001b[0;34m,\u001b[0m \u001b[0mself\u001b[0m\u001b[0;34m.\u001b[0m\u001b[0mengine\u001b[0m\u001b[0;34m)\u001b[0m\u001b[0;34m\u001b[0m\u001b[0;34m\u001b[0m\u001b[0m\n\u001b[0m\u001b[1;32m   1408\u001b[0m \u001b[0;34m\u001b[0m\u001b[0m\n\u001b[1;32m   1409\u001b[0m     \u001b[0;32mdef\u001b[0m \u001b[0mclose\u001b[0m\u001b[0;34m(\u001b[0m\u001b[0mself\u001b[0m\u001b[0;34m)\u001b[0m \u001b[0;34m->\u001b[0m \u001b[0;32mNone\u001b[0m\u001b[0;34m:\u001b[0m\u001b[0;34m\u001b[0m\u001b[0;34m\u001b[0m\u001b[0m\n",
            "\u001b[0;32m/usr/local/lib/python3.10/dist-packages/pandas/io/parsers/readers.py\u001b[0m in \u001b[0;36m_make_engine\u001b[0;34m(self, f, engine)\u001b[0m\n\u001b[1;32m   1659\u001b[0m                 \u001b[0;32mif\u001b[0m \u001b[0;34m\"b\"\u001b[0m \u001b[0;32mnot\u001b[0m \u001b[0;32min\u001b[0m \u001b[0mmode\u001b[0m\u001b[0;34m:\u001b[0m\u001b[0;34m\u001b[0m\u001b[0;34m\u001b[0m\u001b[0m\n\u001b[1;32m   1660\u001b[0m                     \u001b[0mmode\u001b[0m \u001b[0;34m+=\u001b[0m \u001b[0;34m\"b\"\u001b[0m\u001b[0;34m\u001b[0m\u001b[0;34m\u001b[0m\u001b[0m\n\u001b[0;32m-> 1661\u001b[0;31m             self.handles = get_handle(\n\u001b[0m\u001b[1;32m   1662\u001b[0m                 \u001b[0mf\u001b[0m\u001b[0;34m,\u001b[0m\u001b[0;34m\u001b[0m\u001b[0;34m\u001b[0m\u001b[0m\n\u001b[1;32m   1663\u001b[0m                 \u001b[0mmode\u001b[0m\u001b[0;34m,\u001b[0m\u001b[0;34m\u001b[0m\u001b[0;34m\u001b[0m\u001b[0m\n",
            "\u001b[0;32m/usr/local/lib/python3.10/dist-packages/pandas/io/common.py\u001b[0m in \u001b[0;36mget_handle\u001b[0;34m(path_or_buf, mode, encoding, compression, memory_map, is_text, errors, storage_options)\u001b[0m\n\u001b[1;32m    857\u001b[0m         \u001b[0;32mif\u001b[0m \u001b[0mioargs\u001b[0m\u001b[0;34m.\u001b[0m\u001b[0mencoding\u001b[0m \u001b[0;32mand\u001b[0m \u001b[0;34m\"b\"\u001b[0m \u001b[0;32mnot\u001b[0m \u001b[0;32min\u001b[0m \u001b[0mioargs\u001b[0m\u001b[0;34m.\u001b[0m\u001b[0mmode\u001b[0m\u001b[0;34m:\u001b[0m\u001b[0;34m\u001b[0m\u001b[0;34m\u001b[0m\u001b[0m\n\u001b[1;32m    858\u001b[0m             \u001b[0;31m# Encoding\u001b[0m\u001b[0;34m\u001b[0m\u001b[0;34m\u001b[0m\u001b[0m\n\u001b[0;32m--> 859\u001b[0;31m             handle = open(\n\u001b[0m\u001b[1;32m    860\u001b[0m                 \u001b[0mhandle\u001b[0m\u001b[0;34m,\u001b[0m\u001b[0;34m\u001b[0m\u001b[0;34m\u001b[0m\u001b[0m\n\u001b[1;32m    861\u001b[0m                 \u001b[0mioargs\u001b[0m\u001b[0;34m.\u001b[0m\u001b[0mmode\u001b[0m\u001b[0;34m,\u001b[0m\u001b[0;34m\u001b[0m\u001b[0;34m\u001b[0m\u001b[0m\n",
            "\u001b[0;31mFileNotFoundError\u001b[0m: [Errno 2] No such file or directory: 'nba.csv'"
          ]
        }
      ]
    }
  ]
}